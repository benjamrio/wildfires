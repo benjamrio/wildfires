{
 "cells": [
  {
   "cell_type": "markdown",
   "id": "995d7da5-0a8b-44d6-9938-5dc21069d98d",
   "metadata": {},
   "source": [
    "# Project"
   ]
  },
  {
   "cell_type": "code",
   "execution_count": 159,
   "id": "046f3d71-ef4e-497c-8d33-e532632edcd2",
   "metadata": {},
   "outputs": [],
   "source": [
    "using CSV, DataFrames, JuMP, Gurobi, Plots, LinearAlgebra, Dates"
   ]
  },
  {
   "cell_type": "code",
   "execution_count": 28,
   "id": "2ec0218e-d063-4a41-90fa-dd0c384a5999",
   "metadata": {},
   "outputs": [
    {
     "data": {
      "text/html": [
       "<div><div style = \"float: left;\"><span>5×10 DataFrame</span></div><div style = \"clear: both;\"></div></div><div class = \"data-frame\" style = \"overflow-x: scroll;\"><table class = \"data-frame\" style = \"margin-bottom: 6px;\"><thead><tr class = \"header\"><th class = \"rowNumber\" style = \"font-weight: bold; text-align: right;\">Row</th><th style = \"text-align: left;\">report_id</th><th style = \"text-align: left;\">fire_id</th><th style = \"text-align: left;\">area</th><th style = \"text-align: left;\">date</th><th style = \"text-align: left;\">longitude</th><th style = \"text-align: left;\">latitude</th><th style = \"text-align: left;\">from_date</th><th style = \"text-align: left;\">crews_sent</th><th style = \"text-align: left;\">total_crews_sent</th><th style = \"text-align: left;\">max_crews_sent</th></tr><tr class = \"subheader headerLastRow\"><th class = \"rowNumber\" style = \"font-weight: bold; text-align: right;\"></th><th title = \"Int64\" style = \"text-align: left;\">Int64</th><th title = \"Int64\" style = \"text-align: left;\">Int64</th><th title = \"Float64\" style = \"text-align: left;\">Float64</th><th title = \"String31\" style = \"text-align: left;\">String31</th><th title = \"Float64\" style = \"text-align: left;\">Float64</th><th title = \"Float64\" style = \"text-align: left;\">Float64</th><th title = \"String31\" style = \"text-align: left;\">String31</th><th title = \"Float64\" style = \"text-align: left;\">Float64</th><th title = \"Float64\" style = \"text-align: left;\">Float64</th><th title = \"Float64\" style = \"text-align: left;\">Float64</th></tr></thead><tbody><tr><td class = \"rowNumber\" style = \"font-weight: bold; text-align: right;\">1</td><td style = \"text-align: right;\">2714023</td><td style = \"text-align: right;\">2714022</td><td style = \"text-align: right;\">150.0</td><td style = \"text-align: left;\">2015-05-06 10:15:00</td><td style = \"text-align: right;\">-71.2519</td><td style = \"text-align: right;\">43.7811</td><td style = \"text-align: left;\">2015-05-05 09:30:00</td><td style = \"text-align: right;\">45.0</td><td style = \"text-align: right;\">123.0</td><td style = \"text-align: right;\">45.0</td></tr><tr><td class = \"rowNumber\" style = \"font-weight: bold; text-align: right;\">2</td><td style = \"text-align: right;\">2714037</td><td style = \"text-align: right;\">2714022</td><td style = \"text-align: right;\">275.0</td><td style = \"text-align: left;\">2015-05-08 00:30:00</td><td style = \"text-align: right;\">-71.2519</td><td style = \"text-align: right;\">43.7811</td><td style = \"text-align: left;\">2015-05-07 11:00:00</td><td style = \"text-align: right;\">45.0</td><td style = \"text-align: right;\">123.0</td><td style = \"text-align: right;\">45.0</td></tr><tr><td class = \"rowNumber\" style = \"font-weight: bold; text-align: right;\">3</td><td style = \"text-align: right;\">2714050</td><td style = \"text-align: right;\">2714022</td><td style = \"text-align: right;\">275.0</td><td style = \"text-align: left;\">2015-05-09 00:30:00</td><td style = \"text-align: right;\">-71.2519</td><td style = \"text-align: right;\">43.7811</td><td style = \"text-align: left;\">2015-05-08 11:00:00</td><td style = \"text-align: right;\">33.0</td><td style = \"text-align: right;\">123.0</td><td style = \"text-align: right;\">45.0</td></tr><tr><td class = \"rowNumber\" style = \"font-weight: bold; text-align: right;\">4</td><td style = \"text-align: right;\">2714066</td><td style = \"text-align: right;\">2714022</td><td style = \"text-align: right;\">275.0</td><td style = \"text-align: left;\">2015-05-10 13:00:00</td><td style = \"text-align: right;\">-71.2519</td><td style = \"text-align: right;\">43.7811</td><td style = \"text-align: left;\">2015-05-09 15:00:00</td><td style = \"text-align: right;\">0.0</td><td style = \"text-align: right;\">123.0</td><td style = \"text-align: right;\">45.0</td></tr><tr><td class = \"rowNumber\" style = \"font-weight: bold; text-align: right;\">5</td><td style = \"text-align: right;\">2714082</td><td style = \"text-align: right;\">2714081</td><td style = \"text-align: right;\">205.0</td><td style = \"text-align: left;\">2015-05-07 07:15:00</td><td style = \"text-align: right;\">-67.0125</td><td style = \"text-align: right;\">44.7917</td><td style = \"text-align: left;\">2015-05-06 20:30:00</td><td style = \"text-align: right;\">21.0</td><td style = \"text-align: right;\">37.0</td><td style = \"text-align: right;\">21.0</td></tr></tbody></table></div>"
      ],
      "text/latex": [
       "\\begin{tabular}{r|cccccccc}\n",
       "\t& report\\_id & fire\\_id & area & date & longitude & latitude & from\\_date & \\\\\n",
       "\t\\hline\n",
       "\t& Int64 & Int64 & Float64 & String31 & Float64 & Float64 & String31 & \\\\\n",
       "\t\\hline\n",
       "\t1 & 2714023 & 2714022 & 150.0 & 2015-05-06 10:15:00 & -71.2519 & 43.7811 & 2015-05-05 09:30:00 & $\\dots$ \\\\\n",
       "\t2 & 2714037 & 2714022 & 275.0 & 2015-05-08 00:30:00 & -71.2519 & 43.7811 & 2015-05-07 11:00:00 & $\\dots$ \\\\\n",
       "\t3 & 2714050 & 2714022 & 275.0 & 2015-05-09 00:30:00 & -71.2519 & 43.7811 & 2015-05-08 11:00:00 & $\\dots$ \\\\\n",
       "\t4 & 2714066 & 2714022 & 275.0 & 2015-05-10 13:00:00 & -71.2519 & 43.7811 & 2015-05-09 15:00:00 & $\\dots$ \\\\\n",
       "\t5 & 2714082 & 2714081 & 205.0 & 2015-05-07 07:15:00 & -67.0125 & 44.7917 & 2015-05-06 20:30:00 & $\\dots$ \\\\\n",
       "\\end{tabular}\n"
      ],
      "text/plain": [
       "\u001b[1m5×10 DataFrame\u001b[0m\n",
       "\u001b[1m Row \u001b[0m│\u001b[1m report_id \u001b[0m\u001b[1m fire_id \u001b[0m\u001b[1m area    \u001b[0m\u001b[1m date                \u001b[0m\u001b[1m longitude \u001b[0m\u001b[1m latitude \u001b[0m\u001b[1m \u001b[0m ⋯\n",
       "     │\u001b[90m Int64     \u001b[0m\u001b[90m Int64   \u001b[0m\u001b[90m Float64 \u001b[0m\u001b[90m String31            \u001b[0m\u001b[90m Float64   \u001b[0m\u001b[90m Float64  \u001b[0m\u001b[90m \u001b[0m ⋯\n",
       "─────┼──────────────────────────────────────────────────────────────────────────\n",
       "   1 │   2714023  2714022    150.0  2015-05-06 10:15:00   -71.2519   43.7811   ⋯\n",
       "   2 │   2714037  2714022    275.0  2015-05-08 00:30:00   -71.2519   43.7811\n",
       "   3 │   2714050  2714022    275.0  2015-05-09 00:30:00   -71.2519   43.7811\n",
       "   4 │   2714066  2714022    275.0  2015-05-10 13:00:00   -71.2519   43.7811\n",
       "   5 │   2714082  2714081    205.0  2015-05-07 07:15:00   -67.0125   44.7917   ⋯\n",
       "\u001b[36m                                                               4 columns omitted\u001b[0m"
      ]
     },
     "execution_count": 28,
     "metadata": {},
     "output_type": "execute_result"
    }
   ],
   "source": [
    "fires = CSV.read(\"data/wildfire_suppression.csv\", DataFrame, header=true);\n",
    "first(fires, 5)"
   ]
  },
  {
   "cell_type": "code",
   "execution_count": 29,
   "id": "b120d6ad-abe5-4788-afb8-c76eecf86525",
   "metadata": {},
   "outputs": [],
   "source": [
    "function parse_date(date_string)\n",
    "    try\n",
    "        return DateTime(date_string, \"yyyy-mm-dd HH:MM:SS.sss\")\n",
    "    catch\n",
    "        return DateTime(date_string, \"yyyy-mm-dd HH:MM:SS\")\n",
    "    end\n",
    "end\n",
    "fires.date = [parse_date(date_string) for date_string in fires.date]\n",
    "fires_df = filter(row -> Dates.format(row.date, \"yyyy-mm-dd\") == \"2017-08-01\", fires);"
   ]
  },
  {
   "cell_type": "markdown",
   "id": "d5f6e888-7490-4b6d-a0ab-b7ec33d47366",
   "metadata": {},
   "source": [
    "### Preprocessing"
   ]
  },
  {
   "cell_type": "code",
   "execution_count": 30,
   "id": "b510b070-f604-4723-a6bd-594410616c2b",
   "metadata": {},
   "outputs": [],
   "source": [
    "Fires = Matrix(fires_df);\n",
    "n_fires = 1:nrow(fires_df);\n",
    "Surfaces = fires_df[:, :area];\n"
   ]
  },
  {
   "cell_type": "markdown",
   "id": "c297abb3-8ffe-4690-87ab-64801a7ce553",
   "metadata": {},
   "source": [
    "### Distance feature"
   ]
  },
  {
   "cell_type": "code",
   "execution_count": 31,
   "id": "cd272e31-dda3-4b4a-a9a9-19cdb1606dff",
   "metadata": {
    "scrolled": true
   },
   "outputs": [
    {
     "data": {
      "text/plain": [
       "61×61 Matrix{Float64}:\n",
       "  0.0         0.881321  10.6814   10.6814   …   1.09791   10.9593     4.38287\n",
       "  0.881321    0.0       10.8284   10.8284       0.674199  10.6799     4.2979\n",
       " 10.6814     10.8284     0.0       0.0         11.486      5.23505    6.6748\n",
       " 10.6814     10.8284     0.0       0.0         11.486      5.23505    6.6748\n",
       "  1.27371     0.404295  10.8014   10.8014       0.887146  10.4648     4.20086\n",
       "  9.2609      8.93471    5.59216   5.59216  …   9.57861    1.81223    5.08603\n",
       " 10.7762     10.4921     5.24959   5.24959     11.1438     0.195244   6.49889\n",
       "  1.36365     1.61534   12.037    12.037        1.09556   12.2396     5.72394\n",
       "  2.04487     2.02291    8.80576   8.80576      2.68536    8.93202    2.34194\n",
       "  4.542       3.67103   11.5617   11.5617       3.85727    9.64937    5.17154\n",
       "  0.0858781   0.966676  10.6808   10.6808   …   1.16072   10.999      4.41006\n",
       "  5.60245     5.71621    5.11224   5.11224      6.37477    6.24567    1.7328\n",
       "  0.146176    0.988766  10.7731   10.7731       1.1234    11.0935     4.50633\n",
       "  ⋮                                         ⋱                         ⋮\n",
       " 11.6461     11.9725     2.60633   2.60633     12.587      7.83642    8.2083\n",
       " 11.6461     11.9725     2.60633   2.60633  …  12.587      7.83642    8.2083\n",
       "  5.0816      5.52231    6.08062   6.08062      6.08506    8.31967    3.08227\n",
       "  6.39523     5.79996    8.50258   8.50258      6.34412    5.80914    3.70477\n",
       " 11.3439     11.6354     2.02079   2.02079     12.2604     7.25377    7.78018\n",
       " 11.3439     11.6354     2.02079   2.02079     12.2604     7.25377    7.78018\n",
       "  1.26373     1.34952    9.5182    9.5182   …   1.97723    9.70427    3.12166\n",
       "  8.50046     8.95007   18.2844   18.2844       8.38517   19.4191    12.7586\n",
       "  5.28327     5.90971   14.6831   14.6831       5.47351   15.9961     9.32376\n",
       "  1.09791     0.674199  11.486    11.486        0.0       11.3325     4.97189\n",
       " 10.9593     10.6799     5.23505   5.23505     11.3325     0.0        6.67338\n",
       "  4.38287     4.2979     6.6748    6.6748   …   4.97189    6.67338    0.0"
      ]
     },
     "execution_count": 31,
     "metadata": {},
     "output_type": "execute_result"
    }
   ],
   "source": [
    "# Calculate Euclidian distance\n",
    "function euclidean_distance(lat1, lon1, lat2, lon2)\n",
    "    return sqrt((lat2 - lat1)^2 + (lon2 - lon1)^2)\n",
    "end\n",
    "\n",
    "# Calculate the Haversine distance\n",
    "function haversine_distance(lat1, lon1, lat2, lon2)\n",
    "    R = 6371.0 # Earth radius in kilometers\n",
    "    dLat = deg2rad(lat2 - lat1)\n",
    "    dLon = deg2rad(lon2 - lon1)\n",
    "    lat1 = deg2rad(lat1)\n",
    "    lat2 = deg2rad(lat2)\n",
    "\n",
    "    a = sin(dLat/2)^2 + cos(lat1) * cos(lat2) * sin(dLon/2)^2\n",
    "    c = 2 * atan2(sqrt(a), sqrt(1 - a))\n",
    "\n",
    "    return R * c\n",
    "end\n",
    "\n",
    "# Returns distance matrix of distances between fires\n",
    "function distance_matrix(df, euclidian=1)\n",
    "    n = nrow(df)\n",
    "    dist_matrix = zeros(n, n)\n",
    "    for i in 1:n\n",
    "        for j in (i+1):n\n",
    "            if euclidian == 1\n",
    "                dist = euclidean_distance(df[i, :latitude], df[i, :longitude], df[j, :latitude], df[j, :longitude])\n",
    "            else\n",
    "                dist = haversine_distance(df[i, :latitude], df[i, :longitude], df[j, :latitude], df[j, :longitude])\n",
    "            end\n",
    "            dist_matrix[i, j] = dist\n",
    "            dist_matrix[j, i] = dist\n",
    "        end\n",
    "    end\n",
    "    return dist_matrix\n",
    "end;\n",
    "\n",
    "Distances = distance_matrix(fires_df)"
   ]
  },
  {
   "cell_type": "markdown",
   "id": "d2fe7e24-a708-45ac-be4c-06f828e13ecd",
   "metadata": {},
   "source": [
    "### First model"
   ]
  },
  {
   "cell_type": "code",
   "execution_count": 33,
   "id": "898d3a5e-42b4-423d-be76-2e9753ea0500",
   "metadata": {},
   "outputs": [],
   "source": [
    "n_fighters = Int(sum(fires_on_august_1_2017[:,:crews_sent]));\n",
    "demand = [];\n",
    "n_fires = [];\n",
    "days = [\"2017-08-01\", \"2017-08-02\", \"2017-08-03\"];\n",
    "\n",
    "for day in days\n",
    "    fires_on_day_i = filter(row -> Dates.format(row.date, \"yyyy-mm-dd\") == day, fires)\n",
    "    \n",
    "    push!(n_fires, nrow(unique(fires_on_day_i, :fire_id)));\n",
    "    \n",
    "    # Group by fire_id and calculate sum of max_crews_sent for each group\n",
    "    grouped_fires = groupby(fires_on_day_i, :fire_id)\n",
    "    sum_max_crews_sent = [sum(group[!,:max_crews_sent]) for group in grouped_fires]\n",
    "\n",
    "    # Push the array of sums to the demand array\n",
    "    push!(demand, sum_max_crews_sent)\n",
    "end"
   ]
  },
  {
   "cell_type": "code",
   "execution_count": 34,
   "id": "39f78e1a-83d5-4575-bc4b-9f5f4dc43ca5",
   "metadata": {},
   "outputs": [],
   "source": [
    "grouped_fires = groupby(fires_on_august_1_2017, :fire_id)\n",
    "sum_crews_sent = [sum(group[!,:crews_sent]) for group in grouped_fires];\n",
    "\n",
    "assignements = zeros(Int(n_fighters), n_fires[1]);\n",
    "k, start = 1, 1\n",
    "for f in sum_crews_sent\n",
    "    num_ones = Int(f)\n",
    "    assignements[start:num_ones, k] .= 1\n",
    "    start = Int(f)+1\n",
    "    k += 1\n",
    "end  "
   ]
  },
  {
   "cell_type": "code",
   "execution_count": 35,
   "id": "e3f49a54-f7c3-4b74-82b1-8400715dbb6c",
   "metadata": {},
   "outputs": [
    {
     "data": {
      "text/plain": [
       "17782"
      ]
     },
     "execution_count": 35,
     "metadata": {},
     "output_type": "execute_result"
    }
   ],
   "source": [
    "n_fighters"
   ]
  },
  {
   "cell_type": "code",
   "execution_count": 158,
   "id": "66508314-f56d-4a88-b698-f3aa4a2a5554",
   "metadata": {},
   "outputs": [
    {
     "data": {
      "text/plain": [
       "3-element Vector{Any}:\n",
       " 51\n",
       " 53\n",
       " 49"
      ]
     },
     "execution_count": 158,
     "metadata": {},
     "output_type": "execute_result"
    }
   ],
   "source": [
    "n_fires"
   ]
  },
  {
   "cell_type": "code",
   "execution_count": 61,
   "id": "8976ef97-3771-4b6c-96bb-ea547335963c",
   "metadata": {},
   "outputs": [
    {
     "data": {
      "text/plain": [
       "1000"
      ]
     },
     "execution_count": 61,
     "metadata": {},
     "output_type": "execute_result"
    }
   ],
   "source": [
    "n_groups=1000"
   ]
  },
  {
   "cell_type": "code",
   "execution_count": 81,
   "id": "5cf5b4a9-8fac-469b-9fd5-fb8beb6bb042",
   "metadata": {},
   "outputs": [
    {
     "data": {
      "text/plain": [
       "795.4901960784314"
      ]
     },
     "execution_count": 81,
     "metadata": {},
     "output_type": "execute_result"
    }
   ],
   "source": [
    "fire_demand = sum(demand[1][k] for k=1:n_fires[1])/n_fires[1]"
   ]
  },
  {
   "cell_type": "code",
   "execution_count": null,
   "id": "a48d824b-40b7-4c41-97f5-dcd91d48e607",
   "metadata": {},
   "outputs": [],
   "source": [
    "model = Model(Gurobi.Optimizer)"
   ]
  },
  {
   "cell_type": "code",
   "execution_count": 72,
   "id": "e3de7e81-5d71-476a-98fb-e63d2e699aa1",
   "metadata": {},
   "outputs": [
    {
     "name": "stdout",
     "output_type": "stream",
     "text": [
      "Set parameter Username\n",
      "Academic license - for non-commercial use only - expires 2024-08-22\n",
      "Set parameter TimeLimit to value 60\n",
      "Set parameter TimeLimit to value 60\n",
      "Gurobi Optimizer version 10.0.2 build v10.0.2rc0 (win64)\n",
      "\n",
      "CPU model: AMD Ryzen 7 5800H with Radeon Graphics, instruction set [SSE2|AVX|AVX2]\n",
      "Thread count: 8 physical cores, 16 logical processors, using up to 16 threads\n",
      "\n",
      "Optimize a model with 520653 rows, 535653 columns and 1606653 nonzeros\n",
      "Model fingerprint: 0x0f72418a\n",
      "Variable types: 153 continuous, 535500 integer (535500 binary)\n",
      "Coefficient statistics:\n",
      "  Matrix range     [1e+00, 1e+00]\n",
      "  Objective range  [1e-09, 1e+00]\n",
      "  Bounds range     [0e+00, 0e+00]\n",
      "  RHS range        [1e+00, 1e+04]\n",
      "Found heuristic solution: objective 121122.00017\n",
      "Presolve removed 13900 rows and 13900 columns\n",
      "Presolve time: 3.30s\n",
      "Presolved: 506753 rows, 521753 columns, 1546253 nonzeros\n",
      "Variable types: 0 continuous, 521753 integer (521703 binary)\n",
      "Found heuristic solution: objective 121110.00017\n",
      "Deterministic concurrent LP optimizer: primal simplex, dual simplex, and barrier\n",
      "Showing barrier log only...\n",
      "\n",
      "Root barrier log...\n",
      "\n",
      "Ordering time: 0.02s\n",
      "\n",
      "Barrier statistics:\n",
      " Dense cols : 150\n",
      " AA' NZ     : 1.000e+04\n",
      " Factor NZ  : 2.477e+04 (roughly 4 MB of memory)\n",
      " Factor Ops : 8.569e+05 (less than 1 second per iteration)\n",
      " Threads    : 1\n",
      "\n",
      "Barrier performed 0 iterations in 5.53 seconds (4.80 work units)\n",
      "Barrier solve interrupted - model solved by another algorithm\n",
      "\n",
      "Concurrent spin time: 0.00s\n",
      "\n",
      "Solved with dual simplex\n",
      "\n",
      "Use crossover to convert LP symmetric solution to basic solution...\n",
      "\n",
      "Root crossover log...\n",
      "\n",
      "       0 DPushes remaining with DInf 1.1447269e-03                 6s\n",
      "\n",
      "   54162 PPushes remaining with PInf 0.0000000e+00                 6s\n",
      "       0 PPushes remaining with PInf 0.0000000e+00                 6s\n",
      "\n",
      "  Push phase complete: Pinf 0.0000000e+00, Dinf 0.0000000e+00      6s\n",
      "\n",
      "\n",
      "Root simplex log...\n",
      "\n",
      "Iteration    Objective       Primal Inf.    Dual Inf.      Time\n",
      "   56335    1.2111000e+05   0.000000e+00   0.000000e+00      6s\n",
      "\n",
      "Root relaxation: objective 1.211100e+05, 56335 iterations, 2.29 seconds (1.58 work units)\n",
      "Total elapsed time = 11.63s\n",
      "\n",
      "    Nodes    |    Current Node    |     Objective Bounds      |     Work\n",
      " Expl Unexpl |  Obj  Depth IntInf | Incumbent    BestBd   Gap | It/Node Time\n",
      "\n",
      "     0     0 121110.000    0   23 121110.000 121110.000  0.00%     -   15s\n",
      "\n",
      "Explored 1 nodes (80229 simplex iterations) in 15.69 seconds (27.99 work units)\n",
      "Thread count was 16 (of 16 available processors)\n",
      "\n",
      "Solution count 2: 121110 121122 \n",
      "\n",
      "Optimal solution found (tolerance 1.00e-04)\n",
      "Best objective 1.211100001740e+05, best bound 1.211100000009e+05, gap 0.0000%\n",
      "\n",
      "User-callback calls 583, time in user-callback 0.00 sec\n"
     ]
    }
   ],
   "source": [
    "\n",
    "model = Model(Gurobi.Optimizer)\n",
    "\n",
    "# Redefine the variables with groups instead of individual fighters\n",
    "@variable(model, X1[g=1:n_groups, k=1:n_fires[1], t=1:3], binary = true)\n",
    "@variable(model, Y1[g=1:n_groups, k1=1:n_fires[1], k2=1:n_fires[1], t=2:3], binary = true)\n",
    "\n",
    "# New variables for positive parts of costs\n",
    "@variable(model, pos_cost[k=1:n_fires[1], t=1:3] >= 0)\n",
    "\n",
    "# Constraints for new variables\n",
    "@constraint(model, pos_cost_con[k=1:n_fires[1], t=1:3],\n",
    "            pos_cost[k, t] >= demand[1][k] - sum(sum(X1[g,k,tprime] for g=1:n_groups for tprime=1:t))\n",
    "\n",
    "# Adjusted objective function\n",
    "@objective(model, Min, sum(pos_cost[k, t] for k=1:n_fires[1], t=1:3) + \n",
    "                        0.0000001 * sum(Y1[g,k1,k2,t] * Distances[k1,k2] for g=1:n_groups, k1=1:n_fires[1], k2=1:n_fires[1], t=2:3))\n",
    "\n",
    "# Adjusted constraints for groups\n",
    "@constraint(model, constraint_fighters1[t=1:3, g=1:n_groups],\n",
    "            sum(X1[g,k,t] for k=1:n_fires[1]) == 1)\n",
    "@constraint(model, constraint_Y1[t=2:3, k1=1:n_fires[1], k2=1:n_fires[1], g=1:n_groups],\n",
    "            X1[g,k1,t-1] + X1[g,k2,t] - 1 <= Y1[g,k1,k2,t])\n",
    "\n",
    "set_optimizer_attribute(model, \"TimeLimit\", 60.0)\n",
    "optimize!(model)"
   ]
  },
  {
   "cell_type": "code",
   "execution_count": 73,
   "id": "9e7f472b-1a81-4f25-86c2-c8c762a768cb",
   "metadata": {},
   "outputs": [],
   "source": [
    "X = value.(X1)\n",
    "Y = value.(Y1);"
   ]
  },
  {
   "cell_type": "code",
   "execution_count": 77,
   "id": "96115700-06d3-406f-aa64-6c246f6ee5b9",
   "metadata": {},
   "outputs": [
    {
     "data": {
      "text/plain": [
       "3-element Vector{Int64}:\n",
       " 21\n",
       " 42\n",
       "  1"
      ]
     },
     "execution_count": 77,
     "metadata": {},
     "output_type": "execute_result"
    }
   ],
   "source": [
    "indices = [argmax(X[4, :, i]) for i in 1:3]"
   ]
  },
  {
   "cell_type": "code",
   "execution_count": null,
   "id": "0557363f-d965-44dd-b311-c8fd2e278e20",
   "metadata": {},
   "outputs": [],
   "source": []
  },
  {
   "cell_type": "code",
   "execution_count": 84,
   "id": "59186d7c-3adb-4086-84b8-09e8f07058ec",
   "metadata": {},
   "outputs": [
    {
     "name": "stdout",
     "output_type": "stream",
     "text": [
      "Set parameter Username\n",
      "Academic license - for non-commercial use only - expires 2024-08-22\n",
      "Set parameter TimeLimit to value 60\n",
      "Set parameter TimeLimit to value 60\n",
      "Gurobi Optimizer version 10.0.2 build v10.0.2rc0 (win64)\n",
      "\n",
      "CPU model: AMD Ryzen 7 5800H with Radeon Graphics, instruction set [SSE2|AVX|AVX2]\n",
      "Thread count: 8 physical cores, 16 logical processors, using up to 16 threads\n",
      "\n",
      "Optimize a model with 520653 rows, 535653 columns and 1606653 nonzeros\n",
      "Model fingerprint: 0x0a19ea68\n",
      "Variable types: 153 continuous, 535500 integer (535500 binary)\n",
      "Coefficient statistics:\n",
      "  Matrix range     [1e+00, 1e+00]\n",
      "  Objective range  [1e-09, 1e+00]\n",
      "  Bounds range     [0e+00, 0e+00]\n",
      "  RHS range        [1e+00, 8e+02]\n",
      "Found heuristic solution: objective 121110.00016\n",
      "Presolve removed 515586 rows and 530436 columns (presolve time = 6s) ...\n",
      "Presolve removed 515586 rows and 530436 columns\n",
      "Presolve time: 6.12s\n",
      "Presolved: 5067 rows, 5217 columns, 15345 nonzeros\n",
      "Found heuristic solution: objective 121110.00000\n",
      "Variable types: 0 continuous, 5217 integer (5217 binary)\n",
      "\n",
      "Explored 0 nodes (0 simplex iterations) in 6.34 seconds (4.11 work units)\n",
      "Thread count was 16 (of 16 available processors)\n",
      "\n",
      "Solution count 2: 121110 121110 \n",
      "\n",
      "Optimal solution found (tolerance 1.00e-04)\n",
      "Best objective 1.211100000016e+05, best bound 1.211100000016e+05, gap 0.0000%\n",
      "\n",
      "User-callback calls 503, time in user-callback 0.00 sec\n"
     ]
    }
   ],
   "source": [
    "n_groups = 100\n",
    "model = Model(Gurobi.Optimizer)\n",
    "\n",
    "# Redefine the variables with groups instead of individual fighters\n",
    "@variable(model, X1[g=1:n_groups, k=1:n_fires[1], t=1:3], binary = true)\n",
    "@variable(model, Y1[g=1:n_groups, k1=1:n_fires[1], k2=1:n_fires[1], t=2:3], binary = true)\n",
    "\n",
    "# New variables for positive parts of costs\n",
    "@variable(model, pos_cost[k=1:n_fires[1], t=1:3] >= 0)\n",
    "\n",
    "# Constraints for new variables\n",
    "@constraint(model, pos_cost_con[k=1:n_fires[1], t=1:3],\n",
    "            pos_cost[k, t] >= fire_demand - sum(sum(X1[g,k,tprime] for g=1:n_groups for tprime=1:t)))\n",
    "\n",
    "# Adjusted objective function\n",
    "@objective(model, Min, sum(pos_cost[k, t] for k=1:n_fires[1], t=1:3) + \n",
    "                        0.0000001 * sum(Y1[g,k1,k2,t] * Distances[k1,k2] for g=1:n_groups, k1=1:n_fires[1], k2=1:n_fires[1], t=2:3))\n",
    "\n",
    "# Adjusted constraints for groups\n",
    "@constraint(model, constraint_fighters1[t=1:3, g=1:n_groups],\n",
    "            sum(X1[g,k,t] for k=1:n_fires[1]) == 1)\n",
    "@constraint(model, constraint_Y1[t=2:3, k1=1:n_fires[1], k2=1:n_fires[1], g=1:n_groups],\n",
    "            X1[g,k1,t-1] + X1[g,k2,t] - 1 <= Y1[g,k1,k2,t])\n",
    "\n",
    "set_optimizer_attribute(model, \"TimeLimit\", 60.0)\n",
    "optimize!(model)"
   ]
  },
  {
   "cell_type": "code",
   "execution_count": 100,
   "id": "02d25184-3b9a-4d20-bba0-1e3703e3f76b",
   "metadata": {},
   "outputs": [],
   "source": [
    "X1 = value.(X1);\n",
    "Y1 = value.(Y1);"
   ]
  },
  {
   "cell_type": "code",
   "execution_count": null,
   "id": "be01faec-5695-45a2-af60-7f575283f146",
   "metadata": {},
   "outputs": [],
   "source": [
    "sum(pos_cost[k, t] for k=1:n_fires[1], t=1:3) + \n",
    "                        0.0000001 * sum(Y1[g,k1,k2,t] * Distances[k1,k2] for g=1:n_groups, k1=1:n_fires[1], k2=1:n_fires[1], t=2:3))"
   ]
  },
  {
   "cell_type": "code",
   "execution_count": 155,
   "id": "ad8014f3-3f89-4379-9f98-fedf0e9112e6",
   "metadata": {},
   "outputs": [
    {
     "data": {
      "text/plain": [
       "compute_objective (generic function with 1 method)"
      ]
     },
     "execution_count": 155,
     "metadata": {},
     "output_type": "execute_result"
    }
   ],
   "source": [
    "function compute_objective(X1, Y1, Distances, fire_demand, n_fires)\n",
    "    # Calculate pos_cost\n",
    "    pos_cost = zeros(n_fires[1], 3)\n",
    "    for k in 1:n_fires[1]\n",
    "        for t in 1:3\n",
    "            sum_x1 = sum(sum(X1[g, k, tprime] for g in 1:size(X1, 1) for tprime in 1:t))\n",
    "            pos_cost[k, t] = max(fire_demand - sum_x1, 0)\n",
    "        end\n",
    "    end\n",
    "\n",
    "    # Compute the two parts of the objective function\n",
    "    part1 = sum(pos_cost)\n",
    "    part2 = 0.0000001 * sum(Y1[g, k1, k2, t] * Distances[k1, k2] for g in 1:size(Y1, 1), k1 in 1:n_fires[1], k2 in 1:n_fires[1], t in 2:3)\n",
    "\n",
    "    return part1 + part2\n",
    "end\n"
   ]
  },
  {
   "cell_type": "code",
   "execution_count": 156,
   "id": "7c2a372b-1ddd-4e1a-b0b8-4855cd40c6e8",
   "metadata": {},
   "outputs": [
    {
     "data": {
      "text/plain": [
       "51"
      ]
     },
     "execution_count": 156,
     "metadata": {},
     "output_type": "execute_result"
    }
   ],
   "source": [
    "n_fires[1]"
   ]
  },
  {
   "cell_type": "code",
   "execution_count": 157,
   "id": "c8f72b03-ff05-48e9-8cdd-5568a1bf7785",
   "metadata": {},
   "outputs": [
    {
     "data": {
      "text/plain": [
       "121110.00000157651"
      ]
     },
     "execution_count": 157,
     "metadata": {},
     "output_type": "execute_result"
    }
   ],
   "source": [
    "compute_objective(X1, Y1, Distances, fire_demand, n_fires)"
   ]
  },
  {
   "cell_type": "code",
   "execution_count": 91,
   "id": "27fb14ec-7916-4839-be7d-57427bdf550b",
   "metadata": {},
   "outputs": [
    {
     "name": "stderr",
     "output_type": "stream",
     "text": [
      "\u001b[32m\u001b[1m    Updating\u001b[22m\u001b[39m registry at `C:\\Users\\benja\\.julia\\registries\\General.toml`\n",
      "\u001b[32m\u001b[1m   Resolving\u001b[22m\u001b[39m package versions...\n",
      "\u001b[32m\u001b[1m   Installed\u001b[22m\u001b[39m Hiccup ──────────────── v0.2.2\n",
      "\u001b[32m\u001b[1m   Installed\u001b[22m\u001b[39m AssetRegistry ───────── v0.1.0\n",
      "\u001b[32m\u001b[1m   Installed\u001b[22m\u001b[39m Pidfile ─────────────── v1.3.0\n",
      "\u001b[32m\u001b[1m   Installed\u001b[22m\u001b[39m PlotlyBase ──────────── v0.8.19\n",
      "\u001b[32m\u001b[1m   Installed\u001b[22m\u001b[39m WebSockets ──────────── v1.6.0\n",
      "\u001b[32m\u001b[1m   Installed\u001b[22m\u001b[39m Blink ───────────────── v0.12.8\n",
      "\u001b[32m\u001b[1m   Installed\u001b[22m\u001b[39m Kaleido_jll ─────────── v0.2.1+0\n",
      "\u001b[32m\u001b[1m   Installed\u001b[22m\u001b[39m JSExpr ──────────────── v0.5.4\n",
      "\u001b[32m\u001b[1m   Installed\u001b[22m\u001b[39m Mux ─────────────────── v1.0.1\n",
      "\u001b[32m\u001b[1m   Installed\u001b[22m\u001b[39m Mustache ────────────── v1.0.19\n",
      "\u001b[32m\u001b[1m   Installed\u001b[22m\u001b[39m FunctionalCollections ─ v0.5.0\n",
      "\u001b[32m\u001b[1m   Installed\u001b[22m\u001b[39m PlotlyJS ────────────── v0.18.11\n",
      "\u001b[32m\u001b[1m   Installed\u001b[22m\u001b[39m WebIO ───────────────── v0.8.21\n",
      "\u001b[32m\u001b[1m    Updating\u001b[22m\u001b[39m `C:\\Users\\benja\\.julia\\environments\\v1.9\\Project.toml`\n",
      "  \u001b[90m[f0f68f2c] \u001b[39m\u001b[92m+ PlotlyJS v0.18.11\u001b[39m\n",
      "\u001b[32m\u001b[1m    Updating\u001b[22m\u001b[39m `C:\\Users\\benja\\.julia\\environments\\v1.9\\Manifest.toml`\n",
      "  \u001b[90m[bf4720bc] \u001b[39m\u001b[92m+ AssetRegistry v0.1.0\u001b[39m\n",
      "  \u001b[90m[ad839575] \u001b[39m\u001b[92m+ Blink v0.12.8\u001b[39m\n",
      "  \u001b[90m[de31a74c] \u001b[39m\u001b[92m+ FunctionalCollections v0.5.0\u001b[39m\n",
      "  \u001b[90m[9fb69e20] \u001b[39m\u001b[92m+ Hiccup v0.2.2\u001b[39m\n",
      "  \u001b[90m[97c1335a] \u001b[39m\u001b[92m+ JSExpr v0.5.4\u001b[39m\n",
      "  \u001b[90m[ffc61752] \u001b[39m\u001b[92m+ Mustache v1.0.19\u001b[39m\n",
      "  \u001b[90m[a975b10e] \u001b[39m\u001b[92m+ Mux v1.0.1\u001b[39m\n",
      "  \u001b[90m[fa939f87] \u001b[39m\u001b[92m+ Pidfile v1.3.0\u001b[39m\n",
      "  \u001b[90m[a03496cd] \u001b[39m\u001b[92m+ PlotlyBase v0.8.19\u001b[39m\n",
      "  \u001b[90m[f0f68f2c] \u001b[39m\u001b[92m+ PlotlyJS v0.18.11\u001b[39m\n",
      "  \u001b[90m[0f1e0344] \u001b[39m\u001b[92m+ WebIO v0.8.21\u001b[39m\n",
      "  \u001b[90m[104b5d7c] \u001b[39m\u001b[92m+ WebSockets v1.6.0\u001b[39m\n",
      "  \u001b[90m[f7e6163d] \u001b[39m\u001b[92m+ Kaleido_jll v0.2.1+0\u001b[39m\n",
      "\u001b[32m\u001b[1m    Building\u001b[22m\u001b[39m WebIO ───→ `C:\\Users\\benja\\.julia\\scratchspaces\\44cfe95a-1eb2-52ea-b672-e2afdf69b78f\\0eef0765186f7452e52236fa42ca8c9b3c11c6e3\\build.log`\n",
      "\u001b[32m\u001b[1m    Building\u001b[22m\u001b[39m PlotlyJS → `C:\\Users\\benja\\.julia\\scratchspaces\\44cfe95a-1eb2-52ea-b672-e2afdf69b78f\\3db9e7724e299684bf0ca8f245c0265c4bdd8dc6\\build.log`\n",
      "\u001b[32m\u001b[1mPrecompiling\u001b[22m\u001b[39m project...\n",
      "\u001b[32m  ✓ \u001b[39m\u001b[90mKaleido_jll\u001b[39m\n",
      "\u001b[32m  ✓ \u001b[39m\u001b[90mFunctionalCollections\u001b[39m\n",
      "\u001b[32m  ✓ \u001b[39m\u001b[90mPidfile\u001b[39m\n",
      "\u001b[32m  ✓ \u001b[39m\u001b[90mHiccup\u001b[39m\n",
      "\u001b[32m  ✓ \u001b[39m\u001b[90mMustache\u001b[39m\n",
      "\u001b[32m  ✓ \u001b[39m\u001b[90mWebSockets\u001b[39m\n",
      "\u001b[32m  ✓ \u001b[39m\u001b[90mAssetRegistry\u001b[39m\n",
      "\u001b[32m  ✓ \u001b[39m\u001b[90mPlotlyBase\u001b[39m\n",
      "\u001b[32m  ✓ \u001b[39m\u001b[90mMux\u001b[39m\n",
      "\u001b[32m  ✓ \u001b[39m\u001b[90mWebIO\u001b[39m\n",
      "\u001b[32m  ✓ \u001b[39m\u001b[90mJSExpr\u001b[39m\n",
      "\u001b[32m  ✓ \u001b[39m\u001b[90mBlink\u001b[39m\n",
      "\u001b[32m  ✓ \u001b[39mPlotlyJS\n",
      "  13 dependencies successfully precompiled in 32 seconds. 303 already precompiled.\n"
     ]
    }
   ],
   "source": [
    "using Pkg\n",
    "Pkg.add(\"PlotlyJS\")\n"
   ]
  },
  {
   "cell_type": "code",
   "execution_count": 134,
   "id": "98ef1672-a7c8-4ace-95cf-f5a855fa06b9",
   "metadata": {},
   "outputs": [
    {
     "data": {
      "application/vnd.plotly.v1+json": {
       "config": {
        "editable": false,
        "responsive": true,
        "scrollZoom": true,
        "showLink": false,
        "staticPlot": false
       },
       "data": [
        {
         "lat": [
          46.048783
         ],
         "lon": [
          -113.646767
         ],
         "mode": "markers+text",
         "text": [
          "Fire ID: 7133019"
         ],
         "textposition": "bottom center",
         "type": "scattergeo"
        }
       ],
       "frames": [],
       "layout": {
        "geo": {
         "countrycolor": "rgb(217, 217, 217)",
         "countrywidth": 0.5,
         "landcolor": "rgb(250, 250, 250)",
         "projection": {
          "type": "albers usa"
         },
         "scope": "usa",
         "showland": true,
         "subunitcolor": "rgb(217, 217, 217)",
         "subunitwidth": 0.5
        },
        "margin": {
         "b": 50,
         "l": 50,
         "r": 50,
         "t": 60
        },
        "template": {
         "data": {
          "bar": [
           {
            "error_x": {
             "color": "#2a3f5f"
            },
            "error_y": {
             "color": "#2a3f5f"
            },
            "marker": {
             "line": {
              "color": "#E5ECF6",
              "width": 0.5
             }
            },
            "type": "bar"
           }
          ],
          "barpolar": [
           {
            "marker": {
             "line": {
              "color": "#E5ECF6",
              "width": 0.5
             }
            },
            "type": "barpolar"
           }
          ],
          "carpet": [
           {
            "aaxis": {
             "endlinecolor": "#2a3f5f",
             "gridcolor": "white",
             "linecolor": "white",
             "minorgridcolor": "white",
             "startlinecolor": "#2a3f5f"
            },
            "baxis": {
             "endlinecolor": "#2a3f5f",
             "gridcolor": "white",
             "linecolor": "white",
             "minorgridcolor": "white",
             "startlinecolor": "#2a3f5f"
            },
            "type": "carpet"
           }
          ],
          "choropleth": [
           {
            "colorbar": {
             "outlinewidth": 0,
             "ticks": ""
            },
            "type": "choropleth"
           }
          ],
          "contour": [
           {
            "colorbar": {
             "outlinewidth": 0,
             "ticks": ""
            },
            "colorscale": [
             [
              0,
              "#0d0887"
             ],
             [
              0.1111111111111111,
              "#46039f"
             ],
             [
              0.2222222222222222,
              "#7201a8"
             ],
             [
              0.3333333333333333,
              "#9c179e"
             ],
             [
              0.4444444444444444,
              "#bd3786"
             ],
             [
              0.5555555555555556,
              "#d8576b"
             ],
             [
              0.6666666666666666,
              "#ed7953"
             ],
             [
              0.7777777777777778,
              "#fb9f3a"
             ],
             [
              0.8888888888888888,
              "#fdca26"
             ],
             [
              1,
              "#f0f921"
             ]
            ],
            "type": "contour"
           }
          ],
          "contourcarpet": [
           {
            "colorbar": {
             "outlinewidth": 0,
             "ticks": ""
            },
            "type": "contourcarpet"
           }
          ],
          "heatmap": [
           {
            "colorbar": {
             "outlinewidth": 0,
             "ticks": ""
            },
            "colorscale": [
             [
              0,
              "#0d0887"
             ],
             [
              0.1111111111111111,
              "#46039f"
             ],
             [
              0.2222222222222222,
              "#7201a8"
             ],
             [
              0.3333333333333333,
              "#9c179e"
             ],
             [
              0.4444444444444444,
              "#bd3786"
             ],
             [
              0.5555555555555556,
              "#d8576b"
             ],
             [
              0.6666666666666666,
              "#ed7953"
             ],
             [
              0.7777777777777778,
              "#fb9f3a"
             ],
             [
              0.8888888888888888,
              "#fdca26"
             ],
             [
              1,
              "#f0f921"
             ]
            ],
            "type": "heatmap"
           }
          ],
          "heatmapgl": [
           {
            "colorbar": {
             "outlinewidth": 0,
             "ticks": ""
            },
            "colorscale": [
             [
              0,
              "#0d0887"
             ],
             [
              0.1111111111111111,
              "#46039f"
             ],
             [
              0.2222222222222222,
              "#7201a8"
             ],
             [
              0.3333333333333333,
              "#9c179e"
             ],
             [
              0.4444444444444444,
              "#bd3786"
             ],
             [
              0.5555555555555556,
              "#d8576b"
             ],
             [
              0.6666666666666666,
              "#ed7953"
             ],
             [
              0.7777777777777778,
              "#fb9f3a"
             ],
             [
              0.8888888888888888,
              "#fdca26"
             ],
             [
              1,
              "#f0f921"
             ]
            ],
            "type": "heatmapgl"
           }
          ],
          "histogram": [
           {
            "marker": {
             "colorbar": {
              "outlinewidth": 0,
              "ticks": ""
             }
            },
            "type": "histogram"
           }
          ],
          "histogram2d": [
           {
            "colorbar": {
             "outlinewidth": 0,
             "ticks": ""
            },
            "colorscale": [
             [
              0,
              "#0d0887"
             ],
             [
              0.1111111111111111,
              "#46039f"
             ],
             [
              0.2222222222222222,
              "#7201a8"
             ],
             [
              0.3333333333333333,
              "#9c179e"
             ],
             [
              0.4444444444444444,
              "#bd3786"
             ],
             [
              0.5555555555555556,
              "#d8576b"
             ],
             [
              0.6666666666666666,
              "#ed7953"
             ],
             [
              0.7777777777777778,
              "#fb9f3a"
             ],
             [
              0.8888888888888888,
              "#fdca26"
             ],
             [
              1,
              "#f0f921"
             ]
            ],
            "type": "histogram2d"
           }
          ],
          "histogram2dcontour": [
           {
            "colorbar": {
             "outlinewidth": 0,
             "ticks": ""
            },
            "colorscale": [
             [
              0,
              "#0d0887"
             ],
             [
              0.1111111111111111,
              "#46039f"
             ],
             [
              0.2222222222222222,
              "#7201a8"
             ],
             [
              0.3333333333333333,
              "#9c179e"
             ],
             [
              0.4444444444444444,
              "#bd3786"
             ],
             [
              0.5555555555555556,
              "#d8576b"
             ],
             [
              0.6666666666666666,
              "#ed7953"
             ],
             [
              0.7777777777777778,
              "#fb9f3a"
             ],
             [
              0.8888888888888888,
              "#fdca26"
             ],
             [
              1,
              "#f0f921"
             ]
            ],
            "type": "histogram2dcontour"
           }
          ],
          "mesh3d": [
           {
            "colorbar": {
             "outlinewidth": 0,
             "ticks": ""
            },
            "type": "mesh3d"
           }
          ],
          "parcoords": [
           {
            "line": {
             "colorbar": {
              "outlinewidth": 0,
              "ticks": ""
             }
            },
            "type": "parcoords"
           }
          ],
          "pie": [
           {
            "automargin": true,
            "type": "pie"
           }
          ],
          "scatter": [
           {
            "marker": {
             "colorbar": {
              "outlinewidth": 0,
              "ticks": ""
             }
            },
            "type": "scatter"
           }
          ],
          "scatter3d": [
           {
            "line": {
             "colorbar": {
              "outlinewidth": 0,
              "ticks": ""
             }
            },
            "marker": {
             "colorbar": {
              "outlinewidth": 0,
              "ticks": ""
             }
            },
            "type": "scatter3d"
           }
          ],
          "scattercarpet": [
           {
            "marker": {
             "colorbar": {
              "outlinewidth": 0,
              "ticks": ""
             }
            },
            "type": "scattercarpet"
           }
          ],
          "scattergeo": [
           {
            "marker": {
             "colorbar": {
              "outlinewidth": 0,
              "ticks": ""
             }
            },
            "type": "scattergeo"
           }
          ],
          "scattergl": [
           {
            "marker": {
             "colorbar": {
              "outlinewidth": 0,
              "ticks": ""
             }
            },
            "type": "scattergl"
           }
          ],
          "scattermapbox": [
           {
            "marker": {
             "colorbar": {
              "outlinewidth": 0,
              "ticks": ""
             }
            },
            "type": "scattermapbox"
           }
          ],
          "scatterpolar": [
           {
            "marker": {
             "colorbar": {
              "outlinewidth": 0,
              "ticks": ""
             }
            },
            "type": "scatterpolar"
           }
          ],
          "scatterpolargl": [
           {
            "marker": {
             "colorbar": {
              "outlinewidth": 0,
              "ticks": ""
             }
            },
            "type": "scatterpolargl"
           }
          ],
          "scatterternary": [
           {
            "marker": {
             "colorbar": {
              "outlinewidth": 0,
              "ticks": ""
             }
            },
            "type": "scatterternary"
           }
          ],
          "surface": [
           {
            "colorbar": {
             "outlinewidth": 0,
             "ticks": ""
            },
            "colorscale": [
             [
              0,
              "#0d0887"
             ],
             [
              0.1111111111111111,
              "#46039f"
             ],
             [
              0.2222222222222222,
              "#7201a8"
             ],
             [
              0.3333333333333333,
              "#9c179e"
             ],
             [
              0.4444444444444444,
              "#bd3786"
             ],
             [
              0.5555555555555556,
              "#d8576b"
             ],
             [
              0.6666666666666666,
              "#ed7953"
             ],
             [
              0.7777777777777778,
              "#fb9f3a"
             ],
             [
              0.8888888888888888,
              "#fdca26"
             ],
             [
              1,
              "#f0f921"
             ]
            ],
            "type": "surface"
           }
          ],
          "table": [
           {
            "cells": {
             "fill": {
              "color": "#EBF0F8"
             },
             "line": {
              "color": "white"
             }
            },
            "header": {
             "fill": {
              "color": "#C8D4E3"
             },
             "line": {
              "color": "white"
             }
            },
            "type": "table"
           }
          ]
         },
         "layout": {
          "annotationdefaults": {
           "arrowcolor": "#2a3f5f",
           "arrowhead": 0,
           "arrowwidth": 1
          },
          "autotypenumbers": "strict",
          "coloraxis": {
           "colorbar": {
            "outlinewidth": 0,
            "ticks": ""
           }
          },
          "colorscale": {
           "diverging": [
            [
             0,
             "#8e0152"
            ],
            [
             0.1,
             "#c51b7d"
            ],
            [
             0.2,
             "#de77ae"
            ],
            [
             0.3,
             "#f1b6da"
            ],
            [
             0.4,
             "#fde0ef"
            ],
            [
             0.5,
             "#f7f7f7"
            ],
            [
             0.6,
             "#e6f5d0"
            ],
            [
             0.7,
             "#b8e186"
            ],
            [
             0.8,
             "#7fbc41"
            ],
            [
             0.9,
             "#4d9221"
            ],
            [
             1,
             "#276419"
            ]
           ],
           "sequential": [
            [
             0,
             "#0d0887"
            ],
            [
             0.1111111111111111,
             "#46039f"
            ],
            [
             0.2222222222222222,
             "#7201a8"
            ],
            [
             0.3333333333333333,
             "#9c179e"
            ],
            [
             0.4444444444444444,
             "#bd3786"
            ],
            [
             0.5555555555555556,
             "#d8576b"
            ],
            [
             0.6666666666666666,
             "#ed7953"
            ],
            [
             0.7777777777777778,
             "#fb9f3a"
            ],
            [
             0.8888888888888888,
             "#fdca26"
            ],
            [
             1,
             "#f0f921"
            ]
           ],
           "sequentialminus": [
            [
             0,
             "#0d0887"
            ],
            [
             0.1111111111111111,
             "#46039f"
            ],
            [
             0.2222222222222222,
             "#7201a8"
            ],
            [
             0.3333333333333333,
             "#9c179e"
            ],
            [
             0.4444444444444444,
             "#bd3786"
            ],
            [
             0.5555555555555556,
             "#d8576b"
            ],
            [
             0.6666666666666666,
             "#ed7953"
            ],
            [
             0.7777777777777778,
             "#fb9f3a"
            ],
            [
             0.8888888888888888,
             "#fdca26"
            ],
            [
             1,
             "#f0f921"
            ]
           ]
          },
          "colorway": [
           "#636efa",
           "#EF553B",
           "#00cc96",
           "#ab63fa",
           "#FFA15A",
           "#19d3f3",
           "#FF6692",
           "#B6E880",
           "#FF97FF",
           "#FECB52"
          ],
          "font": {
           "color": "#2a3f5f"
          },
          "geo": {
           "bgcolor": "white",
           "lakecolor": "white",
           "landcolor": "#E5ECF6",
           "showlakes": true,
           "showland": true,
           "subunitcolor": "white"
          },
          "hoverlabel": {
           "align": "left"
          },
          "hovermode": "closest",
          "mapbox": {
           "style": "light"
          },
          "paper_bgcolor": "white",
          "plot_bgcolor": "#E5ECF6",
          "polar": {
           "angularaxis": {
            "gridcolor": "white",
            "linecolor": "white",
            "ticks": ""
           },
           "bgcolor": "#E5ECF6",
           "radialaxis": {
            "gridcolor": "white",
            "linecolor": "white",
            "ticks": ""
           }
          },
          "scene": {
           "xaxis": {
            "backgroundcolor": "#E5ECF6",
            "gridcolor": "white",
            "gridwidth": 2,
            "linecolor": "white",
            "showbackground": true,
            "ticks": "",
            "zerolinecolor": "white"
           },
           "yaxis": {
            "backgroundcolor": "#E5ECF6",
            "gridcolor": "white",
            "gridwidth": 2,
            "linecolor": "white",
            "showbackground": true,
            "ticks": "",
            "zerolinecolor": "white"
           },
           "zaxis": {
            "backgroundcolor": "#E5ECF6",
            "gridcolor": "white",
            "gridwidth": 2,
            "linecolor": "white",
            "showbackground": true,
            "ticks": "",
            "zerolinecolor": "white"
           }
          },
          "shapedefaults": {
           "line": {
            "color": "#2a3f5f"
           }
          },
          "ternary": {
           "aaxis": {
            "gridcolor": "white",
            "linecolor": "white",
            "ticks": ""
           },
           "baxis": {
            "gridcolor": "white",
            "linecolor": "white",
            "ticks": ""
           },
           "bgcolor": "#E5ECF6",
           "caxis": {
            "gridcolor": "white",
            "linecolor": "white",
            "ticks": ""
           }
          },
          "title": {
           "x": 0.05
          },
          "xaxis": {
           "automargin": true,
           "gridcolor": "white",
           "linecolor": "white",
           "ticks": "",
           "title": {
            "standoff": 15
           },
           "zerolinecolor": "white",
           "zerolinewidth": 2
          },
          "yaxis": {
           "automargin": true,
           "gridcolor": "white",
           "linecolor": "white",
           "ticks": "",
           "title": {
            "standoff": 15
           },
           "zerolinecolor": "white",
           "zerolinewidth": 2
          }
         }
        },
        "title": "Fire Crew Unit Movements Over Time"
       }
      },
      "text/html": [
       "<div\n",
       "    class=\"webio-mountpoint\"\n",
       "    data-webio-mountpoint=\"16647861929188268657\"\n",
       ">\n",
       "    <script>\n",
       "    (function(){\n",
       "    // Some integrations (namely, IJulia/Jupyter) use an alternate render pathway than\n",
       "    // just putting the html on the page. If WebIO isn't defined, then it's pretty likely\n",
       "    // that we're in one of those situations and the integration just isn't installed\n",
       "    // correctly.\n",
       "    if (typeof window.WebIO === \"undefined\") {\n",
       "        document\n",
       "            .querySelector('[data-webio-mountpoint=\"16647861929188268657\"]')\n",
       "            .innerHTML = (\n",
       "                '<div style=\"padding: 1em; background-color: #f8d6da; border: 1px solid #f5c6cb; font-weight: bold;\">' +\n",
       "                '<p><strong>WebIO not detected.</strong></p>' +\n",
       "                '<p>Please read ' +\n",
       "                '<a href=\"https://juliagizmos.github.io/WebIO.jl/latest/troubleshooting/not-detected/\" target=\"_blank\">the troubleshooting guide</a> ' +\n",
       "                'for more information on how to resolve this issue.</p>' +\n",
       "                '<p><a href=\"https://juliagizmos.github.io/WebIO.jl/latest/troubleshooting/not-detected/\" target=\"_blank\">https://juliagizmos.github.io/WebIO.jl/latest/troubleshooting/not-detected/</a></p>' +\n",
       "                '</div>'\n",
       "            );\n",
       "        return;\n",
       "    }\n",
       "    WebIO.mount(\n",
       "        document.querySelector('[data-webio-mountpoint=\"16647861929188268657\"]'),\n",
       "        {\"props\":{},\"nodeType\":\"Scope\",\"type\":\"node\",\"instanceArgs\":{\"imports\":{\"data\":[{\"name\":\"Plotly\",\"type\":\"js\",\"url\":\"\\/assetserver\\/713b4d7b372cc4aab51a963cb2b0ed084fb851fa-plotly.min.js\"},{\"name\":null,\"type\":\"js\",\"url\":\"\\/assetserver\\/155be943446dba236385e0ab38c7ad9cdb454c1b-plotly_webio.bundle.js\"}],\"type\":\"async_block\"},\"id\":\"467892777148445204\",\"handlers\":{\"_toImage\":[\"(function (options){return this.Plotly.toImage(this.plotElem,options).then((function (data){return WebIO.setval({\\\"name\\\":\\\"image\\\",\\\"scope\\\":\\\"467892777148445204\\\",\\\"id\\\":\\\"5\\\",\\\"type\\\":\\\"observable\\\"},data)}))})\"],\"__get_gd_contents\":[\"(function (prop){prop==\\\"data\\\" ? (WebIO.setval({\\\"name\\\":\\\"__gd_contents\\\",\\\"scope\\\":\\\"467892777148445204\\\",\\\"id\\\":\\\"6\\\",\\\"type\\\":\\\"observable\\\"},this.plotElem.data)) : undefined; return prop==\\\"layout\\\" ? (WebIO.setval({\\\"name\\\":\\\"__gd_contents\\\",\\\"scope\\\":\\\"467892777148445204\\\",\\\"id\\\":\\\"6\\\",\\\"type\\\":\\\"observable\\\"},this.plotElem.layout)) : undefined})\"],\"_downloadImage\":[\"(function (options){return this.Plotly.downloadImage(this.plotElem,options)})\"],\"_commands\":[\"(function (args){var fn=args.shift(); var elem=this.plotElem; var Plotly=this.Plotly; args.unshift(elem); return Plotly[fn].apply(this,args)})\"]},\"systemjs_options\":null,\"mount_callbacks\":[\"function () {\\n    var handler = ((function (Plotly,PlotlyWebIO){PlotlyWebIO.init(WebIO); var gd=this.dom.querySelector(\\\"#plot-042b2501-4cbd-4d50-8d28-fa4360eab827\\\"); this.plotElem=gd; this.Plotly=Plotly; (window.Blink!==undefined) ? (gd.style.width=\\\"100%\\\", gd.style.height=\\\"100vh\\\", gd.style.marginLeft=\\\"0%\\\", gd.style.marginTop=\\\"0vh\\\") : undefined; window.onresize=(function (){return Plotly.Plots.resize(gd)}); Plotly.newPlot(gd,[{\\\"mode\\\":\\\"markers+text\\\",\\\"textposition\\\":\\\"bottom center\\\",\\\"type\\\":\\\"scattergeo\\\",\\\"lat\\\":[46.048783],\\\"text\\\":[\\\"Fire ID: 7133019\\\"],\\\"lon\\\":[-113.646767]}],{\\\"template\\\":{\\\"layout\\\":{\\\"coloraxis\\\":{\\\"colorbar\\\":{\\\"ticks\\\":\\\"\\\",\\\"outlinewidth\\\":0}},\\\"xaxis\\\":{\\\"gridcolor\\\":\\\"white\\\",\\\"zerolinewidth\\\":2,\\\"title\\\":{\\\"standoff\\\":15},\\\"ticks\\\":\\\"\\\",\\\"zerolinecolor\\\":\\\"white\\\",\\\"automargin\\\":true,\\\"linecolor\\\":\\\"white\\\"},\\\"hovermode\\\":\\\"closest\\\",\\\"paper_bgcolor\\\":\\\"white\\\",\\\"geo\\\":{\\\"showlakes\\\":true,\\\"showland\\\":true,\\\"landcolor\\\":\\\"#E5ECF6\\\",\\\"bgcolor\\\":\\\"white\\\",\\\"subunitcolor\\\":\\\"white\\\",\\\"lakecolor\\\":\\\"white\\\"},\\\"colorscale\\\":{\\\"sequential\\\":[[0.0,\\\"#0d0887\\\"],[0.1111111111111111,\\\"#46039f\\\"],[0.2222222222222222,\\\"#7201a8\\\"],[0.3333333333333333,\\\"#9c179e\\\"],[0.4444444444444444,\\\"#bd3786\\\"],[0.5555555555555556,\\\"#d8576b\\\"],[0.6666666666666666,\\\"#ed7953\\\"],[0.7777777777777778,\\\"#fb9f3a\\\"],[0.8888888888888888,\\\"#fdca26\\\"],[1.0,\\\"#f0f921\\\"]],\\\"diverging\\\":[[0,\\\"#8e0152\\\"],[0.1,\\\"#c51b7d\\\"],[0.2,\\\"#de77ae\\\"],[0.3,\\\"#f1b6da\\\"],[0.4,\\\"#fde0ef\\\"],[0.5,\\\"#f7f7f7\\\"],[0.6,\\\"#e6f5d0\\\"],[0.7,\\\"#b8e186\\\"],[0.8,\\\"#7fbc41\\\"],[0.9,\\\"#4d9221\\\"],[1,\\\"#276419\\\"]],\\\"sequentialminus\\\":[[0.0,\\\"#0d0887\\\"],[0.1111111111111111,\\\"#46039f\\\"],[0.2222222222222222,\\\"#7201a8\\\"],[0.3333333333333333,\\\"#9c179e\\\"],[0.4444444444444444,\\\"#bd3786\\\"],[0.5555555555555556,\\\"#d8576b\\\"],[0.6666666666666666,\\\"#ed7953\\\"],[0.7777777777777778,\\\"#fb9f3a\\\"],[0.8888888888888888,\\\"#fdca26\\\"],[1.0,\\\"#f0f921\\\"]]},\\\"yaxis\\\":{\\\"gridcolor\\\":\\\"white\\\",\\\"zerolinewidth\\\":2,\\\"title\\\":{\\\"standoff\\\":15},\\\"ticks\\\":\\\"\\\",\\\"zerolinecolor\\\":\\\"white\\\",\\\"automargin\\\":true,\\\"linecolor\\\":\\\"white\\\"},\\\"shapedefaults\\\":{\\\"line\\\":{\\\"color\\\":\\\"#2a3f5f\\\"}},\\\"hoverlabel\\\":{\\\"align\\\":\\\"left\\\"},\\\"mapbox\\\":{\\\"style\\\":\\\"light\\\"},\\\"polar\\\":{\\\"angularaxis\\\":{\\\"gridcolor\\\":\\\"white\\\",\\\"ticks\\\":\\\"\\\",\\\"linecolor\\\":\\\"white\\\"},\\\"bgcolor\\\":\\\"#E5ECF6\\\",\\\"radialaxis\\\":{\\\"gridcolor\\\":\\\"white\\\",\\\"ticks\\\":\\\"\\\",\\\"linecolor\\\":\\\"white\\\"}},\\\"autotypenumbers\\\":\\\"strict\\\",\\\"font\\\":{\\\"color\\\":\\\"#2a3f5f\\\"},\\\"ternary\\\":{\\\"baxis\\\":{\\\"gridcolor\\\":\\\"white\\\",\\\"ticks\\\":\\\"\\\",\\\"linecolor\\\":\\\"white\\\"},\\\"bgcolor\\\":\\\"#E5ECF6\\\",\\\"caxis\\\":{\\\"gridcolor\\\":\\\"white\\\",\\\"ticks\\\":\\\"\\\",\\\"linecolor\\\":\\\"white\\\"},\\\"aaxis\\\":{\\\"gridcolor\\\":\\\"white\\\",\\\"ticks\\\":\\\"\\\",\\\"linecolor\\\":\\\"white\\\"}},\\\"annotationdefaults\\\":{\\\"arrowhead\\\":0,\\\"arrowwidth\\\":1,\\\"arrowcolor\\\":\\\"#2a3f5f\\\"},\\\"plot_bgcolor\\\":\\\"#E5ECF6\\\",\\\"title\\\":{\\\"x\\\":0.05},\\\"scene\\\":{\\\"xaxis\\\":{\\\"gridcolor\\\":\\\"white\\\",\\\"gridwidth\\\":2,\\\"backgroundcolor\\\":\\\"#E5ECF6\\\",\\\"ticks\\\":\\\"\\\",\\\"showbackground\\\":true,\\\"zerolinecolor\\\":\\\"white\\\",\\\"linecolor\\\":\\\"white\\\"},\\\"zaxis\\\":{\\\"gridcolor\\\":\\\"white\\\",\\\"gridwidth\\\":2,\\\"backgroundcolor\\\":\\\"#E5ECF6\\\",\\\"ticks\\\":\\\"\\\",\\\"showbackground\\\":true,\\\"zerolinecolor\\\":\\\"white\\\",\\\"linecolor\\\":\\\"white\\\"},\\\"yaxis\\\":{\\\"gridcolor\\\":\\\"white\\\",\\\"gridwidth\\\":2,\\\"backgroundcolor\\\":\\\"#E5ECF6\\\",\\\"ticks\\\":\\\"\\\",\\\"showbackground\\\":true,\\\"zerolinecolor\\\":\\\"white\\\",\\\"linecolor\\\":\\\"white\\\"}},\\\"colorway\\\":[\\\"#636efa\\\",\\\"#EF553B\\\",\\\"#00cc96\\\",\\\"#ab63fa\\\",\\\"#FFA15A\\\",\\\"#19d3f3\\\",\\\"#FF6692\\\",\\\"#B6E880\\\",\\\"#FF97FF\\\",\\\"#FECB52\\\"]},\\\"data\\\":{\\\"barpolar\\\":[{\\\"type\\\":\\\"barpolar\\\",\\\"marker\\\":{\\\"line\\\":{\\\"color\\\":\\\"#E5ECF6\\\",\\\"width\\\":0.5}}}],\\\"carpet\\\":[{\\\"aaxis\\\":{\\\"gridcolor\\\":\\\"white\\\",\\\"endlinecolor\\\":\\\"#2a3f5f\\\",\\\"minorgridcolor\\\":\\\"white\\\",\\\"startlinecolor\\\":\\\"#2a3f5f\\\",\\\"linecolor\\\":\\\"white\\\"},\\\"type\\\":\\\"carpet\\\",\\\"baxis\\\":{\\\"gridcolor\\\":\\\"white\\\",\\\"endlinecolor\\\":\\\"#2a3f5f\\\",\\\"minorgridcolor\\\":\\\"white\\\",\\\"startlinecolor\\\":\\\"#2a3f5f\\\",\\\"linecolor\\\":\\\"white\\\"}}],\\\"scatterpolar\\\":[{\\\"type\\\":\\\"scatterpolar\\\",\\\"marker\\\":{\\\"colorbar\\\":{\\\"ticks\\\":\\\"\\\",\\\"outlinewidth\\\":0}}}],\\\"parcoords\\\":[{\\\"line\\\":{\\\"colorbar\\\":{\\\"ticks\\\":\\\"\\\",\\\"outlinewidth\\\":0}},\\\"type\\\":\\\"parcoords\\\"}],\\\"scatter\\\":[{\\\"type\\\":\\\"scatter\\\",\\\"marker\\\":{\\\"colorbar\\\":{\\\"ticks\\\":\\\"\\\",\\\"outlinewidth\\\":0}}}],\\\"histogram2dcontour\\\":[{\\\"colorbar\\\":{\\\"ticks\\\":\\\"\\\",\\\"outlinewidth\\\":0},\\\"type\\\":\\\"histogram2dcontour\\\",\\\"colorscale\\\":[[0.0,\\\"#0d0887\\\"],[0.1111111111111111,\\\"#46039f\\\"],[0.2222222222222222,\\\"#7201a8\\\"],[0.3333333333333333,\\\"#9c179e\\\"],[0.4444444444444444,\\\"#bd3786\\\"],[0.5555555555555556,\\\"#d8576b\\\"],[0.6666666666666666,\\\"#ed7953\\\"],[0.7777777777777778,\\\"#fb9f3a\\\"],[0.8888888888888888,\\\"#fdca26\\\"],[1.0,\\\"#f0f921\\\"]]}],\\\"contour\\\":[{\\\"colorbar\\\":{\\\"ticks\\\":\\\"\\\",\\\"outlinewidth\\\":0},\\\"type\\\":\\\"contour\\\",\\\"colorscale\\\":[[0.0,\\\"#0d0887\\\"],[0.1111111111111111,\\\"#46039f\\\"],[0.2222222222222222,\\\"#7201a8\\\"],[0.3333333333333333,\\\"#9c179e\\\"],[0.4444444444444444,\\\"#bd3786\\\"],[0.5555555555555556,\\\"#d8576b\\\"],[0.6666666666666666,\\\"#ed7953\\\"],[0.7777777777777778,\\\"#fb9f3a\\\"],[0.8888888888888888,\\\"#fdca26\\\"],[1.0,\\\"#f0f921\\\"]]}],\\\"scattercarpet\\\":[{\\\"type\\\":\\\"scattercarpet\\\",\\\"marker\\\":{\\\"colorbar\\\":{\\\"ticks\\\":\\\"\\\",\\\"outlinewidth\\\":0}}}],\\\"mesh3d\\\":[{\\\"colorbar\\\":{\\\"ticks\\\":\\\"\\\",\\\"outlinewidth\\\":0},\\\"type\\\":\\\"mesh3d\\\"}],\\\"surface\\\":[{\\\"colorbar\\\":{\\\"ticks\\\":\\\"\\\",\\\"outlinewidth\\\":0},\\\"type\\\":\\\"surface\\\",\\\"colorscale\\\":[[0.0,\\\"#0d0887\\\"],[0.1111111111111111,\\\"#46039f\\\"],[0.2222222222222222,\\\"#7201a8\\\"],[0.3333333333333333,\\\"#9c179e\\\"],[0.4444444444444444,\\\"#bd3786\\\"],[0.5555555555555556,\\\"#d8576b\\\"],[0.6666666666666666,\\\"#ed7953\\\"],[0.7777777777777778,\\\"#fb9f3a\\\"],[0.8888888888888888,\\\"#fdca26\\\"],[1.0,\\\"#f0f921\\\"]]}],\\\"scattermapbox\\\":[{\\\"type\\\":\\\"scattermapbox\\\",\\\"marker\\\":{\\\"colorbar\\\":{\\\"ticks\\\":\\\"\\\",\\\"outlinewidth\\\":0}}}],\\\"scattergeo\\\":[{\\\"type\\\":\\\"scattergeo\\\",\\\"marker\\\":{\\\"colorbar\\\":{\\\"ticks\\\":\\\"\\\",\\\"outlinewidth\\\":0}}}],\\\"histogram\\\":[{\\\"type\\\":\\\"histogram\\\",\\\"marker\\\":{\\\"colorbar\\\":{\\\"ticks\\\":\\\"\\\",\\\"outlinewidth\\\":0}}}],\\\"pie\\\":[{\\\"type\\\":\\\"pie\\\",\\\"automargin\\\":true}],\\\"choropleth\\\":[{\\\"colorbar\\\":{\\\"ticks\\\":\\\"\\\",\\\"outlinewidth\\\":0},\\\"type\\\":\\\"choropleth\\\"}],\\\"heatmapgl\\\":[{\\\"colorbar\\\":{\\\"ticks\\\":\\\"\\\",\\\"outlinewidth\\\":0},\\\"type\\\":\\\"heatmapgl\\\",\\\"colorscale\\\":[[0.0,\\\"#0d0887\\\"],[0.1111111111111111,\\\"#46039f\\\"],[0.2222222222222222,\\\"#7201a8\\\"],[0.3333333333333333,\\\"#9c179e\\\"],[0.4444444444444444,\\\"#bd3786\\\"],[0.5555555555555556,\\\"#d8576b\\\"],[0.6666666666666666,\\\"#ed7953\\\"],[0.7777777777777778,\\\"#fb9f3a\\\"],[0.8888888888888888,\\\"#fdca26\\\"],[1.0,\\\"#f0f921\\\"]]}],\\\"bar\\\":[{\\\"type\\\":\\\"bar\\\",\\\"error_y\\\":{\\\"color\\\":\\\"#2a3f5f\\\"},\\\"error_x\\\":{\\\"color\\\":\\\"#2a3f5f\\\"},\\\"marker\\\":{\\\"line\\\":{\\\"color\\\":\\\"#E5ECF6\\\",\\\"width\\\":0.5}}}],\\\"heatmap\\\":[{\\\"colorbar\\\":{\\\"ticks\\\":\\\"\\\",\\\"outlinewidth\\\":0},\\\"type\\\":\\\"heatmap\\\",\\\"colorscale\\\":[[0.0,\\\"#0d0887\\\"],[0.1111111111111111,\\\"#46039f\\\"],[0.2222222222222222,\\\"#7201a8\\\"],[0.3333333333333333,\\\"#9c179e\\\"],[0.4444444444444444,\\\"#bd3786\\\"],[0.5555555555555556,\\\"#d8576b\\\"],[0.6666666666666666,\\\"#ed7953\\\"],[0.7777777777777778,\\\"#fb9f3a\\\"],[0.8888888888888888,\\\"#fdca26\\\"],[1.0,\\\"#f0f921\\\"]]}],\\\"contourcarpet\\\":[{\\\"colorbar\\\":{\\\"ticks\\\":\\\"\\\",\\\"outlinewidth\\\":0},\\\"type\\\":\\\"contourcarpet\\\"}],\\\"table\\\":[{\\\"type\\\":\\\"table\\\",\\\"header\\\":{\\\"line\\\":{\\\"color\\\":\\\"white\\\"},\\\"fill\\\":{\\\"color\\\":\\\"#C8D4E3\\\"}},\\\"cells\\\":{\\\"line\\\":{\\\"color\\\":\\\"white\\\"},\\\"fill\\\":{\\\"color\\\":\\\"#EBF0F8\\\"}}}],\\\"scatter3d\\\":[{\\\"line\\\":{\\\"colorbar\\\":{\\\"ticks\\\":\\\"\\\",\\\"outlinewidth\\\":0}},\\\"type\\\":\\\"scatter3d\\\",\\\"marker\\\":{\\\"colorbar\\\":{\\\"ticks\\\":\\\"\\\",\\\"outlinewidth\\\":0}}}],\\\"scattergl\\\":[{\\\"type\\\":\\\"scattergl\\\",\\\"marker\\\":{\\\"colorbar\\\":{\\\"ticks\\\":\\\"\\\",\\\"outlinewidth\\\":0}}}],\\\"histogram2d\\\":[{\\\"colorbar\\\":{\\\"ticks\\\":\\\"\\\",\\\"outlinewidth\\\":0},\\\"type\\\":\\\"histogram2d\\\",\\\"colorscale\\\":[[0.0,\\\"#0d0887\\\"],[0.1111111111111111,\\\"#46039f\\\"],[0.2222222222222222,\\\"#7201a8\\\"],[0.3333333333333333,\\\"#9c179e\\\"],[0.4444444444444444,\\\"#bd3786\\\"],[0.5555555555555556,\\\"#d8576b\\\"],[0.6666666666666666,\\\"#ed7953\\\"],[0.7777777777777778,\\\"#fb9f3a\\\"],[0.8888888888888888,\\\"#fdca26\\\"],[1.0,\\\"#f0f921\\\"]]}],\\\"scatterternary\\\":[{\\\"type\\\":\\\"scatterternary\\\",\\\"marker\\\":{\\\"colorbar\\\":{\\\"ticks\\\":\\\"\\\",\\\"outlinewidth\\\":0}}}],\\\"scatterpolargl\\\":[{\\\"type\\\":\\\"scatterpolargl\\\",\\\"marker\\\":{\\\"colorbar\\\":{\\\"ticks\\\":\\\"\\\",\\\"outlinewidth\\\":0}}}]}},\\\"geo\\\":{\\\"countrywidth\\\":0.5,\\\"showland\\\":true,\\\"landcolor\\\":\\\"rgb(250, 250, 250)\\\",\\\"countrycolor\\\":\\\"rgb(217, 217, 217)\\\",\\\"subunitcolor\\\":\\\"rgb(217, 217, 217)\\\",\\\"projection\\\":{\\\"type\\\":\\\"albers usa\\\"},\\\"scope\\\":\\\"usa\\\",\\\"subunitwidth\\\":0.5},\\\"margin\\\":{\\\"l\\\":50,\\\"b\\\":50,\\\"r\\\":50,\\\"t\\\":60},\\\"title\\\":\\\"Fire Crew Unit Movements Over Time\\\"},{\\\"showLink\\\":false,\\\"editable\\\":false,\\\"responsive\\\":true,\\\"staticPlot\\\":false,\\\"scrollZoom\\\":true}); gd.on(\\\"plotly_hover\\\",(function (data){var filtered_data=WebIO.PlotlyCommands.filterEventData(gd,data,\\\"hover\\\"); return !(filtered_data.isnil) ? (WebIO.setval({\\\"name\\\":\\\"hover\\\",\\\"scope\\\":\\\"467892777148445204\\\",\\\"id\\\":\\\"1\\\",\\\"type\\\":\\\"observable\\\"},filtered_data.out)) : undefined})); gd.on(\\\"plotly_unhover\\\",(function (){return WebIO.setval({\\\"name\\\":\\\"hover\\\",\\\"scope\\\":\\\"467892777148445204\\\",\\\"id\\\":\\\"1\\\",\\\"type\\\":\\\"observable\\\"},{})})); gd.on(\\\"plotly_selected\\\",(function (data){var filtered_data=WebIO.PlotlyCommands.filterEventData(gd,data,\\\"selected\\\"); return !(filtered_data.isnil) ? (WebIO.setval({\\\"name\\\":\\\"selected\\\",\\\"scope\\\":\\\"467892777148445204\\\",\\\"id\\\":\\\"2\\\",\\\"type\\\":\\\"observable\\\"},filtered_data.out)) : undefined})); gd.on(\\\"plotly_deselect\\\",(function (){return WebIO.setval({\\\"name\\\":\\\"selected\\\",\\\"scope\\\":\\\"467892777148445204\\\",\\\"id\\\":\\\"2\\\",\\\"type\\\":\\\"observable\\\"},{})})); gd.on(\\\"plotly_relayout\\\",(function (data){var filtered_data=WebIO.PlotlyCommands.filterEventData(gd,data,\\\"relayout\\\"); return !(filtered_data.isnil) ? (WebIO.setval({\\\"name\\\":\\\"relayout\\\",\\\"scope\\\":\\\"467892777148445204\\\",\\\"id\\\":\\\"4\\\",\\\"type\\\":\\\"observable\\\"},filtered_data.out)) : undefined})); return gd.on(\\\"plotly_click\\\",(function (data){var filtered_data=WebIO.PlotlyCommands.filterEventData(gd,data,\\\"click\\\"); return !(filtered_data.isnil) ? (WebIO.setval({\\\"name\\\":\\\"click\\\",\\\"scope\\\":\\\"467892777148445204\\\",\\\"id\\\":\\\"3\\\",\\\"type\\\":\\\"observable\\\"},filtered_data.out)) : undefined}))}));\\n    (WebIO.importBlock({\\\"data\\\":[{\\\"name\\\":\\\"Plotly\\\",\\\"type\\\":\\\"js\\\",\\\"url\\\":\\\"\\/assetserver\\/713b4d7b372cc4aab51a963cb2b0ed084fb851fa-plotly.min.js\\\"},{\\\"name\\\":null,\\\"type\\\":\\\"js\\\",\\\"url\\\":\\\"\\/assetserver\\/155be943446dba236385e0ab38c7ad9cdb454c1b-plotly_webio.bundle.js\\\"}],\\\"type\\\":\\\"async_block\\\"})).then((imports) => handler.apply(this, imports));\\n}\\n\"],\"observables\":{\"_toImage\":{\"sync\":false,\"id\":\"8\",\"value\":{}},\"hover\":{\"sync\":false,\"id\":\"1\",\"value\":{}},\"selected\":{\"sync\":false,\"id\":\"2\",\"value\":{}},\"__gd_contents\":{\"sync\":false,\"id\":\"6\",\"value\":{}},\"click\":{\"sync\":false,\"id\":\"3\",\"value\":{}},\"image\":{\"sync\":true,\"id\":\"5\",\"value\":\"\"},\"__get_gd_contents\":{\"sync\":false,\"id\":\"10\",\"value\":\"\"},\"_downloadImage\":{\"sync\":false,\"id\":\"9\",\"value\":{}},\"relayout\":{\"sync\":false,\"id\":\"4\",\"value\":{}},\"_commands\":{\"sync\":false,\"id\":\"7\",\"value\":[]}}},\"children\":[{\"props\":{\"id\":\"plot-042b2501-4cbd-4d50-8d28-fa4360eab827\"},\"nodeType\":\"DOM\",\"type\":\"node\",\"instanceArgs\":{\"namespace\":\"html\",\"tag\":\"div\"},\"children\":[]}]},\n",
       "        window,\n",
       "    );\n",
       "    })()\n",
       "    </script>\n",
       "</div>\n"
      ],
      "text/plain": [
       "data: [\n",
       "  \"scattergeo with fields lat, lon, mode, text, textposition, and type\"\n",
       "]\n",
       "\n",
       "layout: \"layout with fields geo, margin, template, and title\"\n",
       "\n"
      ]
     },
     "execution_count": 134,
     "metadata": {},
     "output_type": "execute_result"
    }
   ],
   "source": [
    "using DataFrames, PlotlyJS, CSV\n",
    "\n",
    "traces = []\n",
    "for (id, lat, lon) in eachrow(fires_on_august_1_2017[!, [:fire_id, :latitude, :longitude]])\n",
    "   push!(traces, scattergeo(lon=[lon], lat=[lat], mode=\"markers+text\", text=[\"Fire ID: $id\"], textposition=\"bottom center\"))\n",
    "end\n",
    "\n",
    "layout = Layout(\n",
    "    title=\"Fire Crew Unit Movements Over Time\",\n",
    "    geo=attr(\n",
    "        scope=\"usa\",\n",
    "        projection_type=\"albers usa\",\n",
    "        showland=true,\n",
    "        landcolor=\"rgb(250, 250, 250)\",\n",
    "        subunitcolor=\"rgb(217, 217, 217)\",\n",
    "        countrycolor=\"rgb(217, 217, 217)\",\n",
    "        countrywidth=0.5,\n",
    "        subunitwidth=0.5\n",
    "    )\n",
    ")\n",
    "\n",
    "PlotlyJS.plot(traces[1], layout)\n"
   ]
  },
  {
   "cell_type": "code",
   "execution_count": 126,
   "id": "0baa042f-0950-4e47-bbd9-94ddcf22a283",
   "metadata": {},
   "outputs": [
    {
     "data": {
      "text/plain": [
       "61-element Vector{Any}:\n",
       " GenericTrace{Dict{Symbol, Any}}(Dict{Symbol, Any}(:mode => \"markers+text\", :textposition => \"bottom center\", :type => \"scattergeo\", :lat => [7133019], :text => [\"Fire ID: 7133137\"], :lon => [3621.0]))\n",
       " GenericTrace{Dict{Symbol, Any}}(Dict{Symbol, Any}(:mode => \"markers+text\", :textposition => \"bottom center\", :type => \"scattergeo\", :lat => [7165456], :text => [\"Fire ID: 7166347\"], :lon => [5724.0]))\n",
       " GenericTrace{Dict{Symbol, Any}}(Dict{Symbol, Any}(:mode => \"markers+text\", :textposition => \"bottom center\", :type => \"scattergeo\", :lat => [7170139], :text => [\"Fire ID: 7170884\"], :lon => [81826.0]))\n",
       " GenericTrace{Dict{Symbol, Any}}(Dict{Symbol, Any}(:mode => \"markers+text\", :textposition => \"bottom center\", :type => \"scattergeo\", :lat => [7170139], :text => [\"Fire ID: 7170401\"], :lon => [81826.0]))\n",
       " GenericTrace{Dict{Symbol, Any}}(Dict{Symbol, Any}(:mode => \"markers+text\", :textposition => \"bottom center\", :type => \"scattergeo\", :lat => [7173747], :text => [\"Fire ID: 7174142\"], :lon => [625.0]))\n",
       " GenericTrace{Dict{Symbol, Any}}(Dict{Symbol, Any}(:mode => \"markers+text\", :textposition => \"bottom center\", :type => \"scattergeo\", :lat => [7177619], :text => [\"Fire ID: 7177852\"], :lon => [1241.0]))\n",
       " GenericTrace{Dict{Symbol, Any}}(Dict{Symbol, Any}(:mode => \"markers+text\", :textposition => \"bottom center\", :type => \"scattergeo\", :lat => [7178456], :text => [\"Fire ID: 7178600\"], :lon => [3250.0]))\n",
       " GenericTrace{Dict{Symbol, Any}}(Dict{Symbol, Any}(:mode => \"markers+text\", :textposition => \"bottom center\", :type => \"scattergeo\", :lat => [7180491], :text => [\"Fire ID: 7182436\"], :lon => [4772.0]))\n",
       " GenericTrace{Dict{Symbol, Any}}(Dict{Symbol, Any}(:mode => \"markers+text\", :textposition => \"bottom center\", :type => \"scattergeo\", :lat => [7182946], :text => [\"Fire ID: 7183147\"], :lon => [1277.0]))\n",
       " GenericTrace{Dict{Symbol, Any}}(Dict{Symbol, Any}(:mode => \"markers+text\", :textposition => \"bottom center\", :type => \"scattergeo\", :lat => [7184510], :text => [\"Fire ID: 7184970\"], :lon => [1825.0]))\n",
       " GenericTrace{Dict{Symbol, Any}}(Dict{Symbol, Any}(:mode => \"markers+text\", :textposition => \"bottom center\", :type => \"scattergeo\", :lat => [7188114], :text => [\"Fire ID: 7189625\"], :lon => [1674.0]))\n",
       " GenericTrace{Dict{Symbol, Any}}(Dict{Symbol, Any}(:mode => \"markers+text\", :textposition => \"bottom center\", :type => \"scattergeo\", :lat => [7203228], :text => [\"Fire ID: 7203303\"], :lon => [3600.0]))\n",
       " GenericTrace{Dict{Symbol, Any}}(Dict{Symbol, Any}(:mode => \"markers+text\", :textposition => \"bottom center\", :type => \"scattergeo\", :lat => [7203820], :text => [\"Fire ID: 7203849\"], :lon => [4.0]))\n",
       " ⋮\n",
       " GenericTrace{Dict{Symbol, Any}}(Dict{Symbol, Any}(:mode => \"markers+text\", :textposition => \"bottom center\", :type => \"scattergeo\", :lat => [7324066], :text => [\"Fire ID: 7324116\"], :lon => [1350.0]))\n",
       " GenericTrace{Dict{Symbol, Any}}(Dict{Symbol, Any}(:mode => \"markers+text\", :textposition => \"bottom center\", :type => \"scattergeo\", :lat => [7324066], :text => [\"Fire ID: 7324245\"], :lon => [1350.0]))\n",
       " GenericTrace{Dict{Symbol, Any}}(Dict{Symbol, Any}(:mode => \"markers+text\", :textposition => \"bottom center\", :type => \"scattergeo\", :lat => [7327215], :text => [\"Fire ID: 7327216\"], :lon => [6540.0]))\n",
       " GenericTrace{Dict{Symbol, Any}}(Dict{Symbol, Any}(:mode => \"markers+text\", :textposition => \"bottom center\", :type => \"scattergeo\", :lat => [7327346], :text => [\"Fire ID: 7327383\"], :lon => [10669.0]))\n",
       " GenericTrace{Dict{Symbol, Any}}(Dict{Symbol, Any}(:mode => \"markers+text\", :textposition => \"bottom center\", :type => \"scattergeo\", :lat => [7327617], :text => [\"Fire ID: 7327630\"], :lon => [2289.0]))\n",
       " GenericTrace{Dict{Symbol, Any}}(Dict{Symbol, Any}(:mode => \"markers+text\", :textposition => \"bottom center\", :type => \"scattergeo\", :lat => [7327617], :text => [\"Fire ID: 7327641\"], :lon => [2289.0]))\n",
       " GenericTrace{Dict{Symbol, Any}}(Dict{Symbol, Any}(:mode => \"markers+text\", :textposition => \"bottom center\", :type => \"scattergeo\", :lat => [7336175], :text => [\"Fire ID: 7336176\"], :lon => [0.0]))\n",
       " GenericTrace{Dict{Symbol, Any}}(Dict{Symbol, Any}(:mode => \"markers+text\", :textposition => \"bottom center\", :type => \"scattergeo\", :lat => [7357230], :text => [\"Fire ID: 7357306\"], :lon => [800.0]))\n",
       " GenericTrace{Dict{Symbol, Any}}(Dict{Symbol, Any}(:mode => \"markers+text\", :textposition => \"bottom center\", :type => \"scattergeo\", :lat => [7360110], :text => [\"Fire ID: 7360221\"], :lon => [418.0]))\n",
       " GenericTrace{Dict{Symbol, Any}}(Dict{Symbol, Any}(:mode => \"markers+text\", :textposition => \"bottom center\", :type => \"scattergeo\", :lat => [7366105], :text => [\"Fire ID: 7368042\"], :lon => [2523.0]))\n",
       " GenericTrace{Dict{Symbol, Any}}(Dict{Symbol, Any}(:mode => \"markers+text\", :textposition => \"bottom center\", :type => \"scattergeo\", :lat => [7382007], :text => [\"Fire ID: 7382758\"], :lon => [1377.0]))\n",
       " GenericTrace{Dict{Symbol, Any}}(Dict{Symbol, Any}(:mode => \"markers+text\", :textposition => \"bottom center\", :type => \"scattergeo\", :lat => [7390502], :text => [\"Fire ID: 7390518\"], :lon => [1454.0]))"
      ]
     },
     "execution_count": 126,
     "metadata": {},
     "output_type": "execute_result"
    }
   ],
   "source": []
  },
  {
   "cell_type": "code",
   "execution_count": 112,
   "id": "49983874-75c0-4e02-a403-b10d75adcc78",
   "metadata": {},
   "outputs": [
    {
     "name": "stderr",
     "output_type": "stream",
     "text": [
      "\u001b[32m\u001b[1m   Resolving\u001b[22m\u001b[39m package versions...\n",
      "\u001b[32m\u001b[1m  No Changes\u001b[22m\u001b[39m to `C:\\Users\\benja\\.julia\\environments\\v1.9\\Project.toml`\n",
      "\u001b[32m\u001b[1m  No Changes\u001b[22m\u001b[39m to `C:\\Users\\benja\\.julia\\environments\\v1.9\\Manifest.toml`\n"
     ]
    }
   ],
   "source": [
    "using Pkg\n",
    "Pkg.add(\"PlotlyJS\")\n"
   ]
  },
  {
   "cell_type": "code",
   "execution_count": 102,
   "id": "cc416aaa-5852-4461-a03e-57e693826e85",
   "metadata": {},
   "outputs": [
    {
     "name": "stderr",
     "output_type": "stream",
     "text": [
      "\u001b[36m\u001b[1m[ \u001b[22m\u001b[39m\u001b[36m\u001b[1mInfo: \u001b[22m\u001b[39mRunning `conda config --set pip_interop_enabled true --file 'C:\\Users\\benja\\.julia\\conda\\3\\x86_64\\condarc-julia.yml'` in root environment\n",
      "\u001b[36m\u001b[1m[ \u001b[22m\u001b[39m\u001b[36m\u001b[1mInfo: \u001b[22m\u001b[39mRunning `pip install webio_jupyter_extension` in root environment\n"
     ]
    },
    {
     "name": "stdout",
     "output_type": "stream",
     "text": [
      "Collecting webio_jupyter_extension\n",
      "  Downloading webio_jupyter_extension-0.1.0-py3-none-any.whl (219 kB)\n",
      "     ------------------------------------- 219.9/219.9 kB 1.2 MB/s eta 0:00:00\n",
      "Installing collected packages: webio_jupyter_extension\n",
      "Successfully installed webio_jupyter_extension-0.1.0\n"
     ]
    }
   ],
   "source": [
    "using Conda\n",
    "Conda.pip_interop(true)\n",
    "Conda.pip(\"install\", \"webio_jupyter_extension\")"
   ]
  },
  {
   "cell_type": "code",
   "execution_count": 135,
   "id": "963b83ab-fb87-475d-a26f-a41b0935f89e",
   "metadata": {},
   "outputs": [
    {
     "ename": "LoadError",
     "evalue": "UndefVarError: `plot` not defined",
     "output_type": "error",
     "traceback": [
      "UndefVarError: `plot` not defined",
      "",
      "Stacktrace:",
      " [1] top-level scope",
      "   @ In[135]:48"
     ]
    }
   ],
   "source": [
    "using PlotlyJS\n",
    "\n",
    "# Example data (replace with your actual data)\n",
    "fire_locations = Dict(\n",
    "    1 => (lat = 34.0522, lon = -118.2437),  # Fire 1 coordinates\n",
    "    2 => (lat = 36.7783, lon = -119.4179)   # Fire 2 coordinates\n",
    ")\n",
    "\n",
    "# Replace with your actual tensor data\n",
    "X = rand(0:1, 5, 3, length(fire_locations))  # 5 units, 3 days, N fires\n",
    "\n",
    "# Create traces for each unit and day\n",
    "traces = []\n",
    "for i in 1:size(X, 1)  # for each fire crew unit\n",
    "    for t in 1:size(X, 2)  # for each day\n",
    "        last_location = nothing\n",
    "        for k in 1:size(X, 3)  # for each fire\n",
    "            if X[i, t, k] == 1\n",
    "                location = fire_locations[k]\n",
    "                push!(traces, scattergeo(lon=[location.lon], lat=[location.lat], mode=\"markers+text\", text=[\"Unit $i\"], textposition=\"bottom center\"))\n",
    "\n",
    "                if last_location !== nothing\n",
    "                    # Draw line for movement\n",
    "                    push!(traces, scattergeo(lon=[last_location.lon, location.lon], lat=[last_location.lat, location.lat], mode=\"lines\", line=attr(width=2, color=\"blue\")))\n",
    "                end\n",
    "                last_location = location\n",
    "            end\n",
    "        end\n",
    "    end\n",
    "end\n",
    "\n",
    "# Creating the layout\n",
    "layout = Layout(\n",
    "    title=\"Macro Movement of Fire Crew Units\",\n",
    "    geo=attr(\n",
    "        scope=\"usa\",\n",
    "        projection_type=\"albers usa\",\n",
    "        showland=true,\n",
    "        landcolor=\"rgb(250, 250, 250)\",\n",
    "        subunitcolor=\"rgb(217, 217, 217)\",\n",
    "        countrycolor=\"rgb(217, 217, 217)\",\n",
    "        countrywidth=0.5,\n",
    "        subunitwidth=0.5\n",
    "    )\n",
    ")\n",
    "\n",
    "# Plot the figure\n",
    "fig = plot(traces, layout)\n",
    "PlotlyJS.show(fig)\n"
   ]
  }
 ],
 "metadata": {
  "kernelspec": {
   "display_name": "Julia IAI final 1.9.3",
   "language": "julia",
   "name": "julia-iai-final-1.9"
  },
  "language_info": {
   "file_extension": ".jl",
   "mimetype": "application/julia",
   "name": "julia",
   "version": "1.9.3"
  }
 },
 "nbformat": 4,
 "nbformat_minor": 5
}
