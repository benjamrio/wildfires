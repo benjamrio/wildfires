{
 "cells": [
  {
   "cell_type": "markdown",
   "id": "995d7da5-0a8b-44d6-9938-5dc21069d98d",
   "metadata": {},
   "source": [
    "# Project"
   ]
  },
  {
   "cell_type": "code",
   "execution_count": 9,
   "id": "046f3d71-ef4e-497c-8d33-e532632edcd2",
   "metadata": {},
   "outputs": [],
   "source": [
    "using CSV, DataFrames, JuMP, Gurobi, Plots, LinearAlgebra"
   ]
  },
  {
   "cell_type": "code",
   "execution_count": 10,
   "id": "2ec0218e-d063-4a41-90fa-dd0c384a5999",
   "metadata": {},
   "outputs": [
    {
     "data": {
      "text/html": [
       "<div><div style = \"float: left;\"><span>DataFrameRow (8 columns)</span></div><div style = \"clear: both;\"></div></div><div class = \"data-frame\" style = \"overflow-x: scroll;\"><table class = \"data-frame\" style = \"margin-bottom: 6px;\"><thead><tr class = \"header\"><th class = \"rowLabel\" style = \"font-weight: bold; text-align: right;\">Row</th><th style = \"text-align: left;\">report_id</th><th style = \"text-align: left;\">fire_id</th><th style = \"text-align: left;\">area</th><th style = \"text-align: left;\">date</th><th style = \"text-align: left;\">longitude</th><th style = \"text-align: left;\">latitude</th><th style = \"text-align: left;\">from_date</th><th style = \"text-align: left;\">total_crews_sent</th></tr><tr class = \"subheader headerLastRow\"><th class = \"rowLabel\" style = \"font-weight: bold; text-align: right;\"></th><th title = \"Int64\" style = \"text-align: left;\">Int64</th><th title = \"Int64\" style = \"text-align: left;\">Int64</th><th title = \"Union{Missing, Float64}\" style = \"text-align: left;\">Float64?</th><th title = \"String31\" style = \"text-align: left;\">String31</th><th title = \"Union{Missing, Float64}\" style = \"text-align: left;\">Float64?</th><th title = \"Union{Missing, Float64}\" style = \"text-align: left;\">Float64?</th><th title = \"String31\" style = \"text-align: left;\">String31</th><th title = \"Float64\" style = \"text-align: left;\">Float64</th></tr></thead><tbody><tr><td class = \"rowLabel\" style = \"font-weight: bold; text-align: right;\">1</td><td style = \"text-align: right;\">2714023</td><td style = \"text-align: right;\">2714022</td><td style = \"text-align: right;\">150.0</td><td style = \"text-align: left;\">2015-05-06 10:15:00</td><td style = \"text-align: right;\">-71.2519</td><td style = \"text-align: right;\">43.7811</td><td style = \"text-align: left;\">2015-05-05 09:30:00</td><td style = \"text-align: right;\">45.0</td></tr></tbody></table></div>"
      ],
      "text/latex": [
       "\\begin{tabular}{r|cccccccc}\n",
       "\t& report\\_id & fire\\_id & area & date & longitude & latitude & from\\_date & \\\\\n",
       "\t\\hline\n",
       "\t& Int64 & Int64 & Float64? & String31 & Float64? & Float64? & String31 & \\\\\n",
       "\t\\hline\n",
       "\t1 & 2714023 & 2714022 & 150.0 & 2015-05-06 10:15:00 & -71.2519 & 43.7811 & 2015-05-05 09:30:00 & $\\dots$ \\\\\n",
       "\\end{tabular}\n"
      ],
      "text/plain": [
       "\u001b[1mDataFrameRow\u001b[0m\n",
       "\u001b[1m Row \u001b[0m│\u001b[1m report_id \u001b[0m\u001b[1m fire_id \u001b[0m\u001b[1m area     \u001b[0m\u001b[1m date                \u001b[0m\u001b[1m longitude \u001b[0m\u001b[1m latitude \u001b[0m\u001b[1m\u001b[0m ⋯\n",
       "     │\u001b[90m Int64     \u001b[0m\u001b[90m Int64   \u001b[0m\u001b[90m Float64? \u001b[0m\u001b[90m String31            \u001b[0m\u001b[90m Float64?  \u001b[0m\u001b[90m Float64? \u001b[0m\u001b[90m\u001b[0m ⋯\n",
       "─────┼──────────────────────────────────────────────────────────────────────────\n",
       "   1 │   2714023  2714022     150.0  2015-05-06 10:15:00   -71.2519   43.7811  ⋯\n",
       "\u001b[36m                                                               2 columns omitted\u001b[0m"
      ]
     },
     "metadata": {},
     "output_type": "display_data"
    }
   ],
   "source": [
    "fires = CSV.read(\"data/wildfire_suppression.csv\", DataFrame, header = true);\n",
    "first(fires)"
   ]
  },
  {
   "cell_type": "code",
   "execution_count": 97,
   "id": "c7496654-94a8-4378-9af3-9a67568975c2",
   "metadata": {},
   "outputs": [
    {
     "data": {
      "text/html": [
       "<div><div style = \"float: left;\"><span>6×8 DataFrame</span></div><div style = \"clear: both;\"></div></div><div class = \"data-frame\" style = \"overflow-x: scroll;\"><table class = \"data-frame\" style = \"margin-bottom: 6px;\"><thead><tr class = \"header\"><th class = \"rowNumber\" style = \"font-weight: bold; text-align: right;\">Row</th><th style = \"text-align: left;\">Column1</th><th style = \"text-align: left;\">Column2</th><th style = \"text-align: left;\">Column3</th><th style = \"text-align: left;\">Column4</th><th style = \"text-align: left;\">Column5</th><th style = \"text-align: left;\">Column6</th><th style = \"text-align: left;\">Column7</th><th style = \"text-align: left;\">Column8</th></tr><tr class = \"subheader headerLastRow\"><th class = \"rowNumber\" style = \"font-weight: bold; text-align: right;\"></th><th title = \"String15\" style = \"text-align: left;\">String15</th><th title = \"String7\" style = \"text-align: left;\">String7</th><th title = \"AbstractString\" style = \"text-align: left;\">Abstract…</th><th title = \"String31\" style = \"text-align: left;\">String31</th><th title = \"AbstractString\" style = \"text-align: left;\">Abstract…</th><th title = \"AbstractString\" style = \"text-align: left;\">Abstract…</th><th title = \"String31\" style = \"text-align: left;\">String31</th><th title = \"String31\" style = \"text-align: left;\">String31</th></tr></thead><tbody><tr><td class = \"rowNumber\" style = \"font-weight: bold; text-align: right;\">1</td><td style = \"text-align: left;\">report_id</td><td style = \"text-align: left;\">fire_id</td><td style = \"text-align: left;\">area</td><td style = \"text-align: left;\">date</td><td style = \"text-align: left;\">longitude</td><td style = \"text-align: left;\">latitude</td><td style = \"text-align: left;\">date</td><td style = \"text-align: left;\">total_crews_sent</td></tr><tr><td class = \"rowNumber\" style = \"font-weight: bold; text-align: right;\">2</td><td style = \"text-align: left;\">2714023</td><td style = \"text-align: left;\">2714022</td><td style = \"text-align: left;\">150.0</td><td style = \"text-align: left;\">2015-05-06 10:15:00</td><td style = \"text-align: left;\">-71.2519444</td><td style = \"text-align: left;\">43.7811111</td><td style = \"text-align: left;\">2015-05-06 10:15:00</td><td style = \"text-align: left;\">45.0</td></tr><tr><td class = \"rowNumber\" style = \"font-weight: bold; text-align: right;\">3</td><td style = \"text-align: left;\">2714037</td><td style = \"text-align: left;\">2714022</td><td style = \"text-align: left;\">275.0</td><td style = \"text-align: left;\">2015-05-08 00:30:00</td><td style = \"text-align: left;\">-71.2519444</td><td style = \"text-align: left;\">43.7811111</td><td style = \"text-align: left;\">2015-05-08 00:30:00</td><td style = \"text-align: left;\">45.0</td></tr><tr><td class = \"rowNumber\" style = \"font-weight: bold; text-align: right;\">4</td><td style = \"text-align: left;\">2714050</td><td style = \"text-align: left;\">2714022</td><td style = \"text-align: left;\">275.0</td><td style = \"text-align: left;\">2015-05-09 00:30:00</td><td style = \"text-align: left;\">-71.2519444</td><td style = \"text-align: left;\">43.7811111</td><td style = \"text-align: left;\">2015-05-09 00:30:00</td><td style = \"text-align: left;\">33.0</td></tr><tr><td class = \"rowNumber\" style = \"font-weight: bold; text-align: right;\">5</td><td style = \"text-align: left;\">2714066</td><td style = \"text-align: left;\">2714022</td><td style = \"text-align: left;\">275.0</td><td style = \"text-align: left;\">2015-05-10 13:00:00</td><td style = \"text-align: left;\">-71.2519444</td><td style = \"text-align: left;\">43.7811111</td><td style = \"text-align: left;\">2015-05-10 13:00:00</td><td style = \"text-align: left;\">0.0</td></tr><tr><td class = \"rowNumber\" style = \"font-weight: bold; text-align: right;\">6</td><td style = \"text-align: left;\">2714082</td><td style = \"text-align: left;\">2714081</td><td style = \"text-align: left;\">205.0</td><td style = \"text-align: left;\">2015-05-07 07:15:00</td><td style = \"text-align: left;\">-67.0125</td><td style = \"text-align: left;\">44.7916667</td><td style = \"text-align: left;\">2015-05-07 07:15:00</td><td style = \"text-align: left;\">21.0</td></tr></tbody></table></div>"
      ],
      "text/latex": [
       "\\begin{tabular}{r|cccccccc}\n",
       "\t& Column1 & Column2 & Column3 & Column4 & Column5 & Column6 & Column7 & \\\\\n",
       "\t\\hline\n",
       "\t& String15 & String7 & Abstract… & String31 & Abstract… & Abstract… & String31 & \\\\\n",
       "\t\\hline\n",
       "\t1 & report\\_id & fire\\_id & area & date & longitude & latitude & date & $\\dots$ \\\\\n",
       "\t2 & 2714023 & 2714022 & 150.0 & 2015-05-06 10:15:00 & -71.2519444 & 43.7811111 & 2015-05-06 10:15:00 & $\\dots$ \\\\\n",
       "\t3 & 2714037 & 2714022 & 275.0 & 2015-05-08 00:30:00 & -71.2519444 & 43.7811111 & 2015-05-08 00:30:00 & $\\dots$ \\\\\n",
       "\t4 & 2714050 & 2714022 & 275.0 & 2015-05-09 00:30:00 & -71.2519444 & 43.7811111 & 2015-05-09 00:30:00 & $\\dots$ \\\\\n",
       "\t5 & 2714066 & 2714022 & 275.0 & 2015-05-10 13:00:00 & -71.2519444 & 43.7811111 & 2015-05-10 13:00:00 & $\\dots$ \\\\\n",
       "\t6 & 2714082 & 2714081 & 205.0 & 2015-05-07 07:15:00 & -67.0125 & 44.7916667 & 2015-05-07 07:15:00 & $\\dots$ \\\\\n",
       "\\end{tabular}\n"
      ],
      "text/plain": [
       "\u001b[1m6×8 DataFrame\u001b[0m\n",
       "\u001b[1m Row \u001b[0m│\u001b[1m Column1   \u001b[0m\u001b[1m Column2 \u001b[0m\u001b[1m Column3   \u001b[0m\u001b[1m Column4             \u001b[0m\u001b[1m Column5     \u001b[0m\u001b[1m Column\u001b[0m ⋯\n",
       "     │\u001b[90m String15  \u001b[0m\u001b[90m String7 \u001b[0m\u001b[90m Abstract… \u001b[0m\u001b[90m String31            \u001b[0m\u001b[90m Abstract…   \u001b[0m\u001b[90m Abstra\u001b[0m ⋯\n",
       "─────┼──────────────────────────────────────────────────────────────────────────\n",
       "   1 │ report_id  fire_id  area       date                 longitude    latitu ⋯\n",
       "   2 │ 2714023    2714022  150.0      2015-05-06 10:15:00  -71.2519444  43.781\n",
       "   3 │ 2714037    2714022  275.0      2015-05-08 00:30:00  -71.2519444  43.781\n",
       "   4 │ 2714050    2714022  275.0      2015-05-09 00:30:00  -71.2519444  43.781\n",
       "   5 │ 2714066    2714022  275.0      2015-05-10 13:00:00  -71.2519444  43.781 ⋯\n",
       "   6 │ 2714082    2714081  205.0      2015-05-07 07:15:00  -67.0125     44.791\n",
       "\u001b[36m                                                               3 columns omitted\u001b[0m"
      ]
     },
     "execution_count": 97,
     "metadata": {},
     "output_type": "execute_result"
    }
   ],
   "source": [
    "# Turn strings into float\n",
    "fires[!, :Column3] = string.(fires[:, :Column3])\n",
    "fires[!, :Column5] = string.(fires[:, :Column5])\n",
    "fires[!, :Column6] = string.(fires[:, :Column6])\n",
    "fires[!, :Column8] = string.(fires[:, :Column8])\n",
    "first(fires, 6)"
   ]
  },
  {
   "cell_type": "code",
   "execution_count": 99,
   "id": "85810109-bafd-4bd5-b649-d4647b33d7bd",
   "metadata": {},
   "outputs": [
    {
     "ename": "LoadError",
     "evalue": "MethodError: no method matching Float64(::String15)\n\n\u001b[0mClosest candidates are:\n\u001b[0m  (::Type{T})(\u001b[91m::AbstractChar\u001b[39m) where T<:Union{AbstractChar, Number}\n\u001b[0m\u001b[90m   @\u001b[39m \u001b[90mBase\u001b[39m \u001b[90m\u001b[4mchar.jl:50\u001b[24m\u001b[39m\n\u001b[0m  (::Type{T})(\u001b[91m::Base.TwicePrecision\u001b[39m) where T<:Number\n\u001b[0m\u001b[90m   @\u001b[39m \u001b[90mBase\u001b[39m \u001b[90m\u001b[4mtwiceprecision.jl:266\u001b[24m\u001b[39m\n\u001b[0m  (::Type{T})(\u001b[91m::Complex\u001b[39m) where T<:Real\n\u001b[0m\u001b[90m   @\u001b[39m \u001b[90mBase\u001b[39m \u001b[90m\u001b[4mcomplex.jl:44\u001b[24m\u001b[39m\n\u001b[0m  ...\n",
     "output_type": "error",
     "traceback": [
      "MethodError: no method matching Float64(::String15)\n\n\u001b[0mClosest candidates are:\n\u001b[0m  (::Type{T})(\u001b[91m::AbstractChar\u001b[39m) where T<:Union{AbstractChar, Number}\n\u001b[0m\u001b[90m   @\u001b[39m \u001b[90mBase\u001b[39m \u001b[90m\u001b[4mchar.jl:50\u001b[24m\u001b[39m\n\u001b[0m  (::Type{T})(\u001b[91m::Base.TwicePrecision\u001b[39m) where T<:Number\n\u001b[0m\u001b[90m   @\u001b[39m \u001b[90mBase\u001b[39m \u001b[90m\u001b[4mtwiceprecision.jl:266\u001b[24m\u001b[39m\n\u001b[0m  (::Type{T})(\u001b[91m::Complex\u001b[39m) where T<:Real\n\u001b[0m\u001b[90m   @\u001b[39m \u001b[90mBase\u001b[39m \u001b[90m\u001b[4mcomplex.jl:44\u001b[24m\u001b[39m\n\u001b[0m  ...\n",
      "",
      "Stacktrace:",
      " [1] _broadcast_getindex_evalf",
      "   @ ./broadcast.jl:683 [inlined]",
      " [2] _broadcast_getindex",
      "   @ ./broadcast.jl:656 [inlined]",
      " [3] getindex",
      "   @ ./broadcast.jl:610 [inlined]",
      " [4] copy",
      "   @ ./broadcast.jl:912 [inlined]",
      " [5] materialize(bc::Base.Broadcast.Broadcasted{Base.Broadcast.DefaultArrayStyle{1}, Nothing, Type{Float64}, Tuple{Vector{AbstractString}}})",
      "   @ Base.Broadcast ./broadcast.jl:873",
      " [6] top-level scope",
      "   @ In[99]:1"
     ]
    }
   ],
   "source": [
    "fires[!, :Column3] = Float64.(fires[:, :Column3])"
   ]
  },
  {
   "cell_type": "code",
   "execution_count": 44,
   "id": "cd272e31-dda3-4b4a-a9a9-19cdb1606dff",
   "metadata": {},
   "outputs": [
    {
     "ename": "LoadError",
     "evalue": "MethodError: no method matching -(::String15, ::String15)\n\n\u001b[0mClosest candidates are:\n\u001b[0m  -(\u001b[91m::MutableArithmetics.Zero\u001b[39m, ::Any)\n\u001b[0m\u001b[90m   @\u001b[39m \u001b[32mMutableArithmetics\u001b[39m \u001b[90m~/.julia/packages/MutableArithmetics/NIXlP/src/\u001b[39m\u001b[90m\u001b[4mrewrite.jl:63\u001b[24m\u001b[39m\n\u001b[0m  -(::Any, \u001b[91m::MutableArithmetics.Zero\u001b[39m)\n\u001b[0m\u001b[90m   @\u001b[39m \u001b[32mMutableArithmetics\u001b[39m \u001b[90m~/.julia/packages/MutableArithmetics/NIXlP/src/\u001b[39m\u001b[90m\u001b[4mrewrite.jl:64\u001b[24m\u001b[39m\n",
     "output_type": "error",
     "traceback": [
      "MethodError: no method matching -(::String15, ::String15)\n\n\u001b[0mClosest candidates are:\n\u001b[0m  -(\u001b[91m::MutableArithmetics.Zero\u001b[39m, ::Any)\n\u001b[0m\u001b[90m   @\u001b[39m \u001b[32mMutableArithmetics\u001b[39m \u001b[90m~/.julia/packages/MutableArithmetics/NIXlP/src/\u001b[39m\u001b[90m\u001b[4mrewrite.jl:63\u001b[24m\u001b[39m\n\u001b[0m  -(::Any, \u001b[91m::MutableArithmetics.Zero\u001b[39m)\n\u001b[0m\u001b[90m   @\u001b[39m \u001b[32mMutableArithmetics\u001b[39m \u001b[90m~/.julia/packages/MutableArithmetics/NIXlP/src/\u001b[39m\u001b[90m\u001b[4mrewrite.jl:64\u001b[24m\u001b[39m\n",
      "",
      "Stacktrace:",
      " [1] haversine_distance(lat1::String15, lon1::String15, lat2::String15, lon2::String15)",
      "   @ Main ./In[44]:9",
      " [2] get_distance_matrix(df::DataFrame, distance_function::Int64)",
      "   @ Main ./In[44]:26",
      " [3] get_distance_matrix(df::DataFrame)",
      "   @ Main ./In[44]:22",
      " [4] top-level scope",
      "   @ In[44]:31"
     ]
    }
   ],
   "source": [
    "# Calculate Euclidian distance\n",
    "function euclidean_distance(lat1, lon1, lat2, lon2)\n",
    "    return sqrt((lat2 - lat1)^2 + (lon2 - lon1)^2)\n",
    "end\n",
    "\n",
    "# Calculate the Haversine distance\n",
    "function haversine_distance(lat1, lon1, lat2, lon2)\n",
    "    R = 6371.0 # Earth radius in kilometers\n",
    "    dLat = deg2rad(lat2 - lat1)\n",
    "    dLon = deg2rad(lon2 - lon1)\n",
    "    lat1 = deg2rad(lat1)\n",
    "    lat2 = deg2rad(lat2)\n",
    "\n",
    "    a = sin(dLat/2)^2 + cos(lat1) * cos(lat2) * sin(dLon/2)^2\n",
    "    c = 2 * atan2(sqrt(a), sqrt(1 - a))\n",
    "\n",
    "    return R * c\n",
    "end\n",
    "\n",
    "# Returns distance matrix of distances between fires\n",
    "function get_distance_matrix(df, distance_function=1)\n",
    "    n = nrow(df)\n",
    "    dist_matrix = zeros(n, n)\n",
    "    for i in 1:n\n",
    "        for j in 1:n\n",
    "            distance_matrix[i, j] = haversine_distance(df[i, :latitude], df[i, :longitude], df[j, :latitude], df[j, :longitude])\n",
    "        end\n",
    "    end\n",
    "end;\n",
    "\n",
    "distance_matrix = get_distance_matrix(fires)"
   ]
  }
 ],
 "metadata": {
  "kernelspec": {
   "display_name": "Julia 1.9.3",
   "language": "julia",
   "name": "julia-1.9"
  },
  "language_info": {
   "file_extension": ".jl",
   "mimetype": "application/julia",
   "name": "julia",
   "version": "1.9.3"
  }
 },
 "nbformat": 4,
 "nbformat_minor": 5
}
