{
 "cells": [
  {
   "cell_type": "markdown",
   "id": "995d7da5-0a8b-44d6-9938-5dc21069d98d",
   "metadata": {},
   "source": [
    "# Project"
   ]
  },
  {
   "cell_type": "code",
   "execution_count": 1,
   "id": "046f3d71-ef4e-497c-8d33-e532632edcd2",
   "metadata": {},
   "outputs": [],
   "source": [
    "using CSV, DataFrames, JuMP, Gurobi, Plots, LinearAlgebra, Dates, JSON"
   ]
  },
  {
   "cell_type": "markdown",
   "id": "d5f6e888-7490-4b6d-a0ab-b7ec33d47366",
   "metadata": {},
   "source": [
    "### Preprocessing"
   ]
  },
  {
   "cell_type": "code",
   "execution_count": 2,
   "id": "2ec0218e-d063-4a41-90fa-dd0c384a5999",
   "metadata": {},
   "outputs": [
    {
     "data": {
      "text/html": [
       "<div><div style = \"float: left;\"><span>5×10 DataFrame</span></div><div style = \"clear: both;\"></div></div><div class = \"data-frame\" style = \"overflow-x: scroll;\"><table class = \"data-frame\" style = \"margin-bottom: 6px;\"><thead><tr class = \"header\"><th class = \"rowNumber\" style = \"font-weight: bold; text-align: right;\">Row</th><th style = \"text-align: left;\">report_id</th><th style = \"text-align: left;\">fire_id</th><th style = \"text-align: left;\">area</th><th style = \"text-align: left;\">date</th><th style = \"text-align: left;\">longitude</th><th style = \"text-align: left;\">latitude</th><th style = \"text-align: left;\">from_date</th><th style = \"text-align: left;\">crews_sent</th><th style = \"text-align: left;\">total_crews_sent</th><th style = \"text-align: left;\">max_crews_sent</th></tr><tr class = \"subheader headerLastRow\"><th class = \"rowNumber\" style = \"font-weight: bold; text-align: right;\"></th><th title = \"Int64\" style = \"text-align: left;\">Int64</th><th title = \"Int64\" style = \"text-align: left;\">Int64</th><th title = \"Float64\" style = \"text-align: left;\">Float64</th><th title = \"String31\" style = \"text-align: left;\">String31</th><th title = \"Float64\" style = \"text-align: left;\">Float64</th><th title = \"Float64\" style = \"text-align: left;\">Float64</th><th title = \"String31\" style = \"text-align: left;\">String31</th><th title = \"Float64\" style = \"text-align: left;\">Float64</th><th title = \"Float64\" style = \"text-align: left;\">Float64</th><th title = \"Float64\" style = \"text-align: left;\">Float64</th></tr></thead><tbody><tr><td class = \"rowNumber\" style = \"font-weight: bold; text-align: right;\">1</td><td style = \"text-align: right;\">2714023</td><td style = \"text-align: right;\">2714022</td><td style = \"text-align: right;\">150.0</td><td style = \"text-align: left;\">2015-05-06 10:15:00</td><td style = \"text-align: right;\">-71.2519</td><td style = \"text-align: right;\">43.7811</td><td style = \"text-align: left;\">2015-05-05 09:30:00</td><td style = \"text-align: right;\">45.0</td><td style = \"text-align: right;\">123.0</td><td style = \"text-align: right;\">45.0</td></tr><tr><td class = \"rowNumber\" style = \"font-weight: bold; text-align: right;\">2</td><td style = \"text-align: right;\">2714037</td><td style = \"text-align: right;\">2714022</td><td style = \"text-align: right;\">275.0</td><td style = \"text-align: left;\">2015-05-08 00:30:00</td><td style = \"text-align: right;\">-71.2519</td><td style = \"text-align: right;\">43.7811</td><td style = \"text-align: left;\">2015-05-07 11:00:00</td><td style = \"text-align: right;\">45.0</td><td style = \"text-align: right;\">123.0</td><td style = \"text-align: right;\">45.0</td></tr><tr><td class = \"rowNumber\" style = \"font-weight: bold; text-align: right;\">3</td><td style = \"text-align: right;\">2714050</td><td style = \"text-align: right;\">2714022</td><td style = \"text-align: right;\">275.0</td><td style = \"text-align: left;\">2015-05-09 00:30:00</td><td style = \"text-align: right;\">-71.2519</td><td style = \"text-align: right;\">43.7811</td><td style = \"text-align: left;\">2015-05-08 11:00:00</td><td style = \"text-align: right;\">33.0</td><td style = \"text-align: right;\">123.0</td><td style = \"text-align: right;\">45.0</td></tr><tr><td class = \"rowNumber\" style = \"font-weight: bold; text-align: right;\">4</td><td style = \"text-align: right;\">2714066</td><td style = \"text-align: right;\">2714022</td><td style = \"text-align: right;\">275.0</td><td style = \"text-align: left;\">2015-05-10 13:00:00</td><td style = \"text-align: right;\">-71.2519</td><td style = \"text-align: right;\">43.7811</td><td style = \"text-align: left;\">2015-05-09 15:00:00</td><td style = \"text-align: right;\">0.0</td><td style = \"text-align: right;\">123.0</td><td style = \"text-align: right;\">45.0</td></tr><tr><td class = \"rowNumber\" style = \"font-weight: bold; text-align: right;\">5</td><td style = \"text-align: right;\">2714082</td><td style = \"text-align: right;\">2714081</td><td style = \"text-align: right;\">205.0</td><td style = \"text-align: left;\">2015-05-07 07:15:00</td><td style = \"text-align: right;\">-67.0125</td><td style = \"text-align: right;\">44.7917</td><td style = \"text-align: left;\">2015-05-06 20:30:00</td><td style = \"text-align: right;\">21.0</td><td style = \"text-align: right;\">37.0</td><td style = \"text-align: right;\">21.0</td></tr></tbody></table></div>"
      ],
      "text/latex": [
       "\\begin{tabular}{r|cccccccc}\n",
       "\t& report\\_id & fire\\_id & area & date & longitude & latitude & from\\_date & \\\\\n",
       "\t\\hline\n",
       "\t& Int64 & Int64 & Float64 & String31 & Float64 & Float64 & String31 & \\\\\n",
       "\t\\hline\n",
       "\t1 & 2714023 & 2714022 & 150.0 & 2015-05-06 10:15:00 & -71.2519 & 43.7811 & 2015-05-05 09:30:00 & $\\dots$ \\\\\n",
       "\t2 & 2714037 & 2714022 & 275.0 & 2015-05-08 00:30:00 & -71.2519 & 43.7811 & 2015-05-07 11:00:00 & $\\dots$ \\\\\n",
       "\t3 & 2714050 & 2714022 & 275.0 & 2015-05-09 00:30:00 & -71.2519 & 43.7811 & 2015-05-08 11:00:00 & $\\dots$ \\\\\n",
       "\t4 & 2714066 & 2714022 & 275.0 & 2015-05-10 13:00:00 & -71.2519 & 43.7811 & 2015-05-09 15:00:00 & $\\dots$ \\\\\n",
       "\t5 & 2714082 & 2714081 & 205.0 & 2015-05-07 07:15:00 & -67.0125 & 44.7917 & 2015-05-06 20:30:00 & $\\dots$ \\\\\n",
       "\\end{tabular}\n"
      ],
      "text/plain": [
       "\u001b[1m5×10 DataFrame\u001b[0m\n",
       "\u001b[1m Row \u001b[0m│\u001b[1m report_id \u001b[0m\u001b[1m fire_id \u001b[0m\u001b[1m area    \u001b[0m\u001b[1m date                \u001b[0m\u001b[1m longitude \u001b[0m\u001b[1m latitude \u001b[0m\u001b[1m \u001b[0m ⋯\n",
       "     │\u001b[90m Int64     \u001b[0m\u001b[90m Int64   \u001b[0m\u001b[90m Float64 \u001b[0m\u001b[90m String31            \u001b[0m\u001b[90m Float64   \u001b[0m\u001b[90m Float64  \u001b[0m\u001b[90m \u001b[0m ⋯\n",
       "─────┼──────────────────────────────────────────────────────────────────────────\n",
       "   1 │   2714023  2714022    150.0  2015-05-06 10:15:00   -71.2519   43.7811   ⋯\n",
       "   2 │   2714037  2714022    275.0  2015-05-08 00:30:00   -71.2519   43.7811\n",
       "   3 │   2714050  2714022    275.0  2015-05-09 00:30:00   -71.2519   43.7811\n",
       "   4 │   2714066  2714022    275.0  2015-05-10 13:00:00   -71.2519   43.7811\n",
       "   5 │   2714082  2714081    205.0  2015-05-07 07:15:00   -67.0125   44.7917   ⋯\n",
       "\u001b[36m                                                               4 columns omitted\u001b[0m"
      ]
     },
     "execution_count": 2,
     "metadata": {},
     "output_type": "execute_result"
    }
   ],
   "source": [
    "fires = CSV.read(\"data/wildfire_suppression.csv\", DataFrame, header = true);\n",
    "first(fires, 5)"
   ]
  },
  {
   "cell_type": "code",
   "execution_count": 3,
   "id": "755434ae-92ae-4e3b-8b1d-0ce820ffcdda",
   "metadata": {
    "scrolled": true
   },
   "outputs": [],
   "source": [
    "function parse_date(date_string)\n",
    "    try\n",
    "        return DateTime(date_string, \"yyyy-mm-dd HH:MM:SS.sss\")\n",
    "    catch\n",
    "        return DateTime(date_string, \"yyyy-mm-dd HH:MM:SS\")\n",
    "    end\n",
    "end\n",
    "fires.date = [parse_date(date_string) for date_string in fires.date]\n",
    "fires_df = filter(row -> Dates.format(row.date, \"yyyy-mm-dd\") == \"2017-08-01\", fires);"
   ]
  },
  {
   "cell_type": "code",
   "execution_count": 4,
   "id": "a43c3b33-dfe2-481c-b2d2-b35c938b7103",
   "metadata": {
    "scrolled": true
   },
   "outputs": [],
   "source": [
    "Fires = Matrix(fires_df);\n",
    "n_fires = 1:nrow(fires_df);\n",
    "Surfaces = fires_df[:, :area];"
   ]
  },
  {
   "cell_type": "markdown",
   "id": "c297abb3-8ffe-4690-87ab-64801a7ce553",
   "metadata": {},
   "source": [
    "### Distance feature"
   ]
  },
  {
   "cell_type": "code",
   "execution_count": 5,
   "id": "cd272e31-dda3-4b4a-a9a9-19cdb1606dff",
   "metadata": {
    "scrolled": true
   },
   "outputs": [],
   "source": [
    "# Calculate Euclidian distance\n",
    "function euclidean_distance(lat1, lon1, lat2, lon2)\n",
    "    return sqrt((lat2 - lat1)^2 + (lon2 - lon1)^2)\n",
    "end\n",
    "\n",
    "# Calculate the Haversine distance\n",
    "function haversine_distance(lat1, lon1, lat2, lon2)\n",
    "    R = 6371.0 # Earth radius in kilometers\n",
    "    dLat = deg2rad(lat2 - lat1)\n",
    "    dLon = deg2rad(lon2 - lon1)\n",
    "    lat1 = deg2rad(lat1)\n",
    "    lat2 = deg2rad(lat2)\n",
    "\n",
    "    a = sin(dLat/2)^2 + cos(lat1) * cos(lat2) * sin(dLon/2)^2\n",
    "    c = 2 * atan2(sqrt(a), sqrt(1 - a))\n",
    "\n",
    "    return R * c\n",
    "end\n",
    "\n",
    "# Returns distance matrix of distances between fires\n",
    "function distance_matrix(df, euclidian=1)\n",
    "    n = size(df,1)\n",
    "    dist_matrix = zeros(n, n)\n",
    "    for i in 1:n\n",
    "        for j in (i+1):n\n",
    "            if euclidian == 1\n",
    "                dist = euclidean_distance(df[i][:,:latitude][1], df[i][:,:longitude][1], df[j][:,:latitude][1], df[j][:,:longitude][1])\n",
    "            else\n",
    "                dist = haversine_distance(df[i][:,:latitude][1], df[i][:,:longitude][1], df[j][:,:latitude][1], df[j][:,:longitude][1])\n",
    "            end \n",
    "            dist_matrix[i, j] = dist\n",
    "            dist_matrix[j, i] = dist\n",
    "        end\n",
    "    end\n",
    "    return dist_matrix\n",
    "end; \n"
   ]
  },
  {
   "cell_type": "markdown",
   "id": "f8355bee-52a9-4fb9-bb33-6b3d150b3bbf",
   "metadata": {},
   "source": [
    "### Data ready"
   ]
  },
  {
   "cell_type": "code",
   "execution_count": 6,
   "id": "3d1ee27d-825c-441f-8610-ee889cc51145",
   "metadata": {},
   "outputs": [
    {
     "data": {
      "text/html": [
       "<div><div style = \"float: left;\"><span>2×10 DataFrame</span></div><div style = \"clear: both;\"></div></div><div class = \"data-frame\" style = \"overflow-x: scroll;\"><table class = \"data-frame\" style = \"margin-bottom: 6px;\"><thead><tr class = \"header\"><th class = \"rowNumber\" style = \"font-weight: bold; text-align: right;\">Row</th><th style = \"text-align: left;\">report_id</th><th style = \"text-align: left;\">fire_id</th><th style = \"text-align: left;\">area</th><th style = \"text-align: left;\">date</th><th style = \"text-align: left;\">longitude</th><th style = \"text-align: left;\">latitude</th><th style = \"text-align: left;\">from_date</th><th style = \"text-align: left;\">crews_sent</th><th style = \"text-align: left;\">total_crews_sent</th><th style = \"text-align: left;\">max_crews_sent</th></tr><tr class = \"subheader headerLastRow\"><th class = \"rowNumber\" style = \"font-weight: bold; text-align: right;\"></th><th title = \"Int64\" style = \"text-align: left;\">Int64</th><th title = \"Int64\" style = \"text-align: left;\">Int64</th><th title = \"Float64\" style = \"text-align: left;\">Float64</th><th title = \"DateTime\" style = \"text-align: left;\">DateTime</th><th title = \"Float64\" style = \"text-align: left;\">Float64</th><th title = \"Float64\" style = \"text-align: left;\">Float64</th><th title = \"String31\" style = \"text-align: left;\">String31</th><th title = \"Float64\" style = \"text-align: left;\">Float64</th><th title = \"Float64\" style = \"text-align: left;\">Float64</th><th title = \"Float64\" style = \"text-align: left;\">Float64</th></tr></thead><tbody><tr><td class = \"rowNumber\" style = \"font-weight: bold; text-align: right;\">1</td><td style = \"text-align: right;\">2714023</td><td style = \"text-align: right;\">2714022</td><td style = \"text-align: right;\">150.0</td><td style = \"text-align: left;\">2015-05-06T10:15:00</td><td style = \"text-align: right;\">-71.2519</td><td style = \"text-align: right;\">43.7811</td><td style = \"text-align: left;\">2015-05-05 09:30:00</td><td style = \"text-align: right;\">45.0</td><td style = \"text-align: right;\">123.0</td><td style = \"text-align: right;\">45.0</td></tr><tr><td class = \"rowNumber\" style = \"font-weight: bold; text-align: right;\">2</td><td style = \"text-align: right;\">2714037</td><td style = \"text-align: right;\">2714022</td><td style = \"text-align: right;\">275.0</td><td style = \"text-align: left;\">2015-05-08T00:30:00</td><td style = \"text-align: right;\">-71.2519</td><td style = \"text-align: right;\">43.7811</td><td style = \"text-align: left;\">2015-05-07 11:00:00</td><td style = \"text-align: right;\">45.0</td><td style = \"text-align: right;\">123.0</td><td style = \"text-align: right;\">45.0</td></tr></tbody></table></div>"
      ],
      "text/latex": [
       "\\begin{tabular}{r|cccccccc}\n",
       "\t& report\\_id & fire\\_id & area & date & longitude & latitude & from\\_date & \\\\\n",
       "\t\\hline\n",
       "\t& Int64 & Int64 & Float64 & DateTime & Float64 & Float64 & String31 & \\\\\n",
       "\t\\hline\n",
       "\t1 & 2714023 & 2714022 & 150.0 & 2015-05-06T10:15:00 & -71.2519 & 43.7811 & 2015-05-05 09:30:00 & $\\dots$ \\\\\n",
       "\t2 & 2714037 & 2714022 & 275.0 & 2015-05-08T00:30:00 & -71.2519 & 43.7811 & 2015-05-07 11:00:00 & $\\dots$ \\\\\n",
       "\\end{tabular}\n"
      ],
      "text/plain": [
       "\u001b[1m2×10 DataFrame\u001b[0m\n",
       "\u001b[1m Row \u001b[0m│\u001b[1m report_id \u001b[0m\u001b[1m fire_id \u001b[0m\u001b[1m area    \u001b[0m\u001b[1m date                \u001b[0m\u001b[1m longitude \u001b[0m\u001b[1m latitude \u001b[0m\u001b[1m \u001b[0m ⋯\n",
       "     │\u001b[90m Int64     \u001b[0m\u001b[90m Int64   \u001b[0m\u001b[90m Float64 \u001b[0m\u001b[90m DateTime            \u001b[0m\u001b[90m Float64   \u001b[0m\u001b[90m Float64  \u001b[0m\u001b[90m \u001b[0m ⋯\n",
       "─────┼──────────────────────────────────────────────────────────────────────────\n",
       "   1 │   2714023  2714022    150.0  2015-05-06T10:15:00   -71.2519   43.7811   ⋯\n",
       "   2 │   2714037  2714022    275.0  2015-05-08T00:30:00   -71.2519   43.7811\n",
       "\u001b[36m                                                               4 columns omitted\u001b[0m"
      ]
     },
     "execution_count": 6,
     "metadata": {},
     "output_type": "execute_result"
    }
   ],
   "source": [
    "fires = CSV.read(\"data/wildfire_suppression.csv\", DataFrame, header = true);\n",
    "function parse_date(date_string)\n",
    "    try\n",
    "        return DateTime(date_string, \"yyyy-mm-dd HH:MM:SS.sss\")\n",
    "    catch\n",
    "        return DateTime(date_string, \"yyyy-mm-dd HH:MM:SS\")\n",
    "    end\n",
    "end\n",
    "fires.date = [parse_date(date_string) for date_string in fires.date]\n",
    "first(fires, 2)"
   ]
  },
  {
   "cell_type": "markdown",
   "id": "300bb291-caac-4ee4-8fd2-e9b786a19e2e",
   "metadata": {},
   "source": [
    "### Current test"
   ]
  },
  {
   "cell_type": "code",
   "execution_count": 8,
   "id": "3d51d2ad-8951-45c4-b913-05b139078068",
   "metadata": {},
   "outputs": [
    {
     "data": {
      "text/plain": [
       "0.01"
      ]
     },
     "execution_count": 8,
     "metadata": {},
     "output_type": "execute_result"
    }
   ],
   "source": [
    "alpha = 0.01"
   ]
  },
  {
   "cell_type": "code",
   "execution_count": 121,
   "id": "9b64779e-3b7b-4bf7-8473-db22b887d6b0",
   "metadata": {},
   "outputs": [],
   "source": [
    "fires_on_august_1_2017 = filter(row -> Dates.format(row.date, \"yyyy-mm-dd\") == \"2017-08-01\", fires)\n",
    "\n",
    "n_fighters = Int(floor(sum(fires_on_august_1_2017[:,:crews_sent])) / 34); # = 523\n",
    "n_fires = nrow(unique(fires_on_august_1_2017, :fire_id));\n",
    "\n",
    "grouped_fires = groupby(fires_on_august_1_2017, :fire_id)\n",
    "demand = [sum(group[!,:max_crews_sent]) for group in grouped_fires]\n",
    "demand = demand ./ 34\n",
    "\n",
    "# Get assignements on freeze day \n",
    "initial_allocation = [sum(group[!,:crews_sent]) for group in grouped_fires];\n",
    "initial_allocation = floor.(initial_allocation ./ 34)\n",
    "\n",
    "assignements = zeros(Int(n_fighters), n_fires);\n",
    "k, start = 1, 1\n",
    "for f in initial_allocation\n",
    "    num_ones = Int(f)\n",
    "    assignements[start:num_ones, k] .= 1\n",
    "    start = Int(f)+1\n",
    "    k += 1\n",
    "end  \n",
    "\n",
    "Distances = distance_matrix(grouped_fires);"
   ]
  },
  {
   "cell_type": "code",
   "execution_count": 39,
   "id": "fce47a4f-3eac-4545-a200-716085541d0f",
   "metadata": {},
   "outputs": [],
   "source": []
  },
  {
   "cell_type": "code",
   "execution_count": 90,
   "id": "b67b6d1f-830c-4fac-8873-414c3faec800",
   "metadata": {},
   "outputs": [
    {
     "data": {
      "text/plain": [
       "0.0"
      ]
     },
     "execution_count": 90,
     "metadata": {},
     "output_type": "execute_result"
    }
   ],
   "source": [
    "Distances[1,1]"
   ]
  },
  {
   "cell_type": "code",
   "execution_count": 105,
   "id": "4ee8f672-a281-4921-b91c-b8fecc5105bb",
   "metadata": {},
   "outputs": [
    {
     "data": {
      "text/plain": [
       "5"
      ]
     },
     "execution_count": 105,
     "metadata": {},
     "output_type": "execute_result"
    }
   ],
   "source": [
    "alpha=5"
   ]
  },
  {
   "cell_type": "code",
   "execution_count": 122,
   "id": "796661c3-34c6-49c9-8d42-747ec597220e",
   "metadata": {},
   "outputs": [],
   "source": [
    "n_fighters = Int(sum(fires_on_august_1_2017[:,:crews_sent]));\n",
    "demand = [];\n",
    "fires_list = [];\n",
    "days = [\"2017-08-01\", \"2017-08-02\", \"2017-08-03\"];\n",
    "\n",
    "for day in days\n",
    "    fires_on_day_i = filter(row -> Dates.format(row.date, \"yyyy-mm-dd\") == day, fires)\n",
    "    \n",
    "    push!(fires_list, nrow(unique(fires_on_day_i, :fire_id)));\n",
    "    \n",
    "    # Group by fire_id and calculate sum of max_crews_sent for each group\n",
    "    grouped_fires = groupby(fires_on_day_i, :fire_id)\n",
    "    sum_max_crews_sent = [sum(group[!,:max_crews_sent]) for group in grouped_fires]\n",
    "\n",
    "    # Push the array of sums to the demand array\n",
    "    push!(demand, sum_max_crews_sent)\n",
    "end"
   ]
  },
  {
   "cell_type": "code",
   "execution_count": 116,
   "id": "db907290-c375-46b5-a043-b53567aae527",
   "metadata": {},
   "outputs": [
    {
     "name": "stdout",
     "output_type": "stream",
     "text": [
      "Set parameter Username\n",
      "Academic license - for non-commercial use only - expires 2024-08-22\n"
     ]
    },
    {
     "ename": "LoadError",
     "evalue": "MethodError: no method matching (::Colon)(::Int64, ::Vector{Any})\n\n\u001b[0mClosest candidates are:\n\u001b[0m  (::Colon)(::T, ::Any, \u001b[91m::T\u001b[39m) where T<:Real\n\u001b[0m\u001b[90m   @\u001b[39m \u001b[90mBase\u001b[39m \u001b[90m\u001b[4mrange.jl:45\u001b[24m\u001b[39m\n\u001b[0m  (::Colon)(::A, ::Any, \u001b[91m::C\u001b[39m) where {A<:Real, C<:Real}\n\u001b[0m\u001b[90m   @\u001b[39m \u001b[90mBase\u001b[39m \u001b[90m\u001b[4mrange.jl:10\u001b[24m\u001b[39m\n\u001b[0m  (::Colon)(::T, ::Any, \u001b[91m::T\u001b[39m) where T\n\u001b[0m\u001b[90m   @\u001b[39m \u001b[90mBase\u001b[39m \u001b[90m\u001b[4mrange.jl:44\u001b[24m\u001b[39m\n\u001b[0m  ...\n",
     "output_type": "error",
     "traceback": [
      "MethodError: no method matching (::Colon)(::Int64, ::Vector{Any})\n\n\u001b[0mClosest candidates are:\n\u001b[0m  (::Colon)(::T, ::Any, \u001b[91m::T\u001b[39m) where T<:Real\n\u001b[0m\u001b[90m   @\u001b[39m \u001b[90mBase\u001b[39m \u001b[90m\u001b[4mrange.jl:45\u001b[24m\u001b[39m\n\u001b[0m  (::Colon)(::A, ::Any, \u001b[91m::C\u001b[39m) where {A<:Real, C<:Real}\n\u001b[0m\u001b[90m   @\u001b[39m \u001b[90mBase\u001b[39m \u001b[90m\u001b[4mrange.jl:10\u001b[24m\u001b[39m\n\u001b[0m  (::Colon)(::T, ::Any, \u001b[91m::T\u001b[39m) where T\n\u001b[0m\u001b[90m   @\u001b[39m \u001b[90mBase\u001b[39m \u001b[90m\u001b[4mrange.jl:44\u001b[24m\u001b[39m\n\u001b[0m  ...\n",
      "",
      "Stacktrace:",
      " [1] macro expansion",
      "   @ C:\\Users\\iai\\builds\\InterpretableAI\\SystemImage\\SysImgBuilder\\.julia\\packages\\JuMP\\ptoff\\src\\macros.jl:136 [inlined]",
      " [2] top-level scope",
      "   @ In[116]:4"
     ]
    }
   ],
   "source": [
    "\n",
    "model = Model(Gurobi.Optimizer)\n",
    "time=4\n",
    "@variable(model, Y[k1=1:n_fires, k2=1:n_fires, t=1:time]>=0)\n",
    "@variable(model, pos_cost[k=1:n_fires, t=1:time]>=0)\n",
    "@constraint(model, pos_cost_con[k=1:n_fires, t=1:time],\n",
    "            pos_cost[k, t] >= demand[1][k] - sum(sum(Y[k1,k,t_] for k1=1:n_fires) for t_=1:t))\n",
    "\n",
    "@objective(model, Min, sum(pos_cost[k, t] for k=1:n_fires, t=1:time) + \n",
    "                        alpha * sum(Y[k1,k2,t] * Distances[k1,k2] for k1=1:n_fires, k2=1:n_fires, t=1:time))\n",
    "\n",
    "\n",
    "@constraint(model, initial, Y[:,:,1].==Y_init)\n",
    "@constraint(model, constraint_fighters[t=1:time-1, k=1:n_fires],\n",
    "            sum(Y[k1,k,t] for k1=1:n_fires)==sum(Y[k,k2,t+1] for k2=1:n_fires))\n",
    "\n",
    "set_optimizer_attribute(model, \"TimeLimit\", 60.0)\n",
    "optimize!(model)"
   ]
  },
  {
   "cell_type": "code",
   "execution_count": 110,
   "id": "1ada0f8b-e523-4a77-aaa4-612d6a1993f6",
   "metadata": {},
   "outputs": [
    {
     "data": {
      "text/plain": [
       "690"
      ]
     },
     "execution_count": 110,
     "metadata": {},
     "output_type": "execute_result"
    }
   ],
   "source": [
    "690"
   ]
  },
  {
   "cell_type": "code",
   "execution_count": null,
   "id": "4a098639-38d4-4306-8f62-be78b575a147",
   "metadata": {},
   "outputs": [],
   "source": [
    "demand fixe : 887 891"
   ]
  },
  {
   "cell_type": "code",
   "execution_count": 72,
   "id": "2beae9c6-0844-4db5-ba9d-205405ead71d",
   "metadata": {},
   "outputs": [
    {
     "data": {
      "text/plain": [
       "51×51×10 Array{Float64, 3}:\n",
       "[:, :, 1] =\n",
       " 0.0   0.0   0.0  0.0   0.0   0.0  0.0  …  0.0  0.0  0.0  0.0  0.0   0.0  0.0\n",
       " 0.0  11.0   0.0  0.0   0.0   0.0  0.0     0.0  0.0  0.0  0.0  0.0   0.0  0.0\n",
       " 0.0   0.0  77.0  0.0   0.0   0.0  0.0     0.0  0.0  0.0  0.0  0.0   0.0  0.0\n",
       " 0.0   0.0   0.0  1.0   0.0   0.0  0.0     0.0  0.0  0.0  0.0  0.0   0.0  0.0\n",
       " 0.0   0.0   0.0  0.0  17.0   0.0  0.0     0.0  0.0  0.0  0.0  0.0   0.0  0.0\n",
       " 0.0   0.0   0.0  0.0   0.0  18.0  0.0  …  0.0  0.0  0.0  0.0  0.0   0.0  0.0\n",
       " 0.0   0.0   0.0  0.0   0.0   0.0  7.0     0.0  0.0  0.0  0.0  0.0   0.0  0.0\n",
       " 0.0   0.0   0.0  0.0   0.0   0.0  0.0     0.0  0.0  0.0  0.0  0.0   0.0  0.0\n",
       " 0.0   0.0   0.0  0.0   0.0   0.0  0.0     0.0  0.0  0.0  0.0  0.0   0.0  0.0\n",
       " 0.0   0.0   0.0  0.0   0.0   0.0  0.0     0.0  0.0  0.0  0.0  0.0   0.0  0.0\n",
       " 0.0   0.0   0.0  0.0   0.0   0.0  0.0  …  0.0  0.0  0.0  0.0  0.0   0.0  0.0\n",
       " 0.0   0.0   0.0  0.0   0.0   0.0  0.0     0.0  0.0  0.0  0.0  0.0   0.0  0.0\n",
       " 0.0   0.0   0.0  0.0   0.0   0.0  0.0     0.0  0.0  0.0  0.0  0.0   0.0  0.0\n",
       " ⋮                            ⋮         ⋱       ⋮                         ⋮\n",
       " 0.0   0.0   0.0  0.0   0.0   0.0  0.0     0.0  0.0  0.0  0.0  0.0   0.0  0.0\n",
       " 0.0   0.0   0.0  0.0   0.0   0.0  0.0  …  0.0  0.0  0.0  0.0  0.0   0.0  0.0\n",
       " 0.0   0.0   0.0  0.0   0.0   0.0  0.0     0.0  0.0  0.0  0.0  0.0   0.0  0.0\n",
       " 0.0   0.0   0.0  0.0   0.0   0.0  0.0     0.0  0.0  0.0  0.0  0.0   0.0  0.0\n",
       " 0.0   0.0   0.0  0.0   0.0   0.0  0.0     0.0  0.0  0.0  0.0  0.0   0.0  0.0\n",
       " 0.0   0.0   0.0  0.0   0.0   0.0  0.0     0.0  0.0  0.0  0.0  0.0   0.0  0.0\n",
       " 0.0   0.0   0.0  0.0   0.0   0.0  0.0  …  0.0  0.0  0.0  0.0  0.0   0.0  0.0\n",
       " 0.0   0.0   0.0  0.0   0.0   0.0  0.0     0.0  0.0  0.0  0.0  0.0   0.0  0.0\n",
       " 0.0   0.0   0.0  0.0   0.0   0.0  0.0     0.0  0.0  0.0  8.0  0.0   0.0  0.0\n",
       " 0.0   0.0   0.0  0.0   0.0   0.0  0.0     0.0  0.0  0.0  0.0  5.0   0.0  0.0\n",
       " 0.0   0.0   0.0  0.0   0.0   0.0  0.0     0.0  0.0  0.0  0.0  0.0  22.0  0.0\n",
       " 0.0   0.0   0.0  0.0   0.0   0.0  0.0  …  0.0  0.0  0.0  0.0  0.0   0.0  0.0\n",
       "\n",
       "[:, :, 2] =\n",
       " 0.0   0.0   0.0  0.0   0.0   0.0  0.0  …  0.0  0.0  0.0  0.0  0.0   0.0  0.0\n",
       " 0.0  11.0   0.0  0.0   0.0   0.0  0.0     0.0  0.0  0.0  0.0  0.0   0.0  0.0\n",
       " 0.0   0.0  77.0  0.0   0.0   0.0  0.0     0.0  0.0  0.0  0.0  0.0   0.0  0.0\n",
       " 0.0   0.0   0.0  1.0   0.0   0.0  0.0     0.0  0.0  0.0  0.0  0.0   0.0  0.0\n",
       " 0.0   0.0   0.0  0.0  17.0   0.0  0.0     0.0  0.0  0.0  0.0  0.0   0.0  0.0\n",
       " 0.0   0.0   0.0  0.0   0.0  18.0  0.0  …  0.0  0.0  0.0  0.0  0.0   0.0  0.0\n",
       " 0.0   0.0   0.0  0.0   0.0   0.0  7.0     0.0  0.0  0.0  0.0  0.0   0.0  0.0\n",
       " 0.0   0.0   0.0  0.0   0.0   0.0  0.0     0.0  0.0  0.0  0.0  0.0   0.0  0.0\n",
       " 0.0   0.0   0.0  0.0   0.0   0.0  0.0     0.0  0.0  0.0  0.0  0.0   0.0  0.0\n",
       " 0.0   0.0   0.0  0.0   0.0   0.0  0.0     0.0  0.0  0.0  0.0  0.0   0.0  0.0\n",
       " 0.0   0.0   0.0  0.0   0.0   0.0  0.0  …  0.0  0.0  0.0  0.0  0.0   0.0  0.0\n",
       " 0.0   0.0   0.0  0.0   0.0   0.0  0.0     0.0  0.0  0.0  0.0  0.0   0.0  0.0\n",
       " 0.0   0.0   0.0  0.0   0.0   0.0  0.0     0.0  0.0  0.0  0.0  0.0   0.0  0.0\n",
       " ⋮                            ⋮         ⋱       ⋮                         ⋮\n",
       " 0.0   0.0   0.0  0.0   0.0   0.0  0.0     0.0  0.0  0.0  0.0  0.0   0.0  0.0\n",
       " 0.0   0.0   0.0  0.0   0.0   0.0  0.0  …  0.0  0.0  0.0  0.0  0.0   0.0  0.0\n",
       " 0.0   0.0   0.0  0.0   0.0   0.0  0.0     0.0  0.0  0.0  0.0  0.0   0.0  0.0\n",
       " 0.0   0.0   0.0  0.0   0.0   0.0  0.0     0.0  0.0  0.0  0.0  0.0   0.0  0.0\n",
       " 0.0   0.0   0.0  0.0   0.0   0.0  0.0     0.0  0.0  0.0  0.0  0.0   0.0  0.0\n",
       " 0.0   0.0   0.0  0.0   0.0   0.0  0.0     0.0  0.0  0.0  0.0  0.0   0.0  0.0\n",
       " 0.0   0.0   0.0  0.0   0.0   0.0  0.0  …  0.0  0.0  0.0  0.0  0.0   0.0  0.0\n",
       " 0.0   0.0   0.0  0.0   0.0   0.0  0.0     0.0  0.0  0.0  0.0  0.0   0.0  0.0\n",
       " 0.0   0.0   0.0  0.0   0.0   0.0  0.0     0.0  0.0  0.0  8.0  0.0   0.0  0.0\n",
       " 0.0   0.0   0.0  0.0   0.0   0.0  0.0     0.0  0.0  0.0  0.0  5.0   0.0  0.0\n",
       " 0.0   0.0   0.0  0.0   0.0   0.0  0.0     0.0  0.0  0.0  0.0  0.0  22.0  0.0\n",
       " 0.0   0.0   0.0  0.0   0.0   0.0  0.0  …  0.0  0.0  0.0  0.0  0.0   0.0  0.0\n",
       "\n",
       "[:, :, 3] =\n",
       " 0.0   0.0   0.0  0.0   0.0   0.0  0.0  …  0.0  0.0  0.0  0.0  0.0   0.0  0.0\n",
       " 0.0  11.0   0.0  0.0   0.0   0.0  0.0     0.0  0.0  0.0  0.0  0.0   0.0  0.0\n",
       " 0.0   0.0  77.0  0.0   0.0   0.0  0.0     0.0  0.0  0.0  0.0  0.0   0.0  0.0\n",
       " 0.0   0.0   0.0  1.0   0.0   0.0  0.0     0.0  0.0  0.0  0.0  0.0   0.0  0.0\n",
       " 0.0   0.0   0.0  0.0  17.0   0.0  0.0     0.0  0.0  0.0  0.0  0.0   0.0  0.0\n",
       " 0.0   0.0   0.0  0.0   0.0  18.0  0.0  …  0.0  0.0  0.0  0.0  0.0   0.0  0.0\n",
       " 0.0   0.0   0.0  0.0   0.0   0.0  7.0     0.0  0.0  0.0  0.0  0.0   0.0  0.0\n",
       " 0.0   0.0   0.0  0.0   0.0   0.0  0.0     0.0  0.0  0.0  0.0  0.0   0.0  0.0\n",
       " 0.0   0.0   0.0  0.0   0.0   0.0  0.0     0.0  0.0  0.0  0.0  0.0   0.0  0.0\n",
       " 0.0   0.0   0.0  0.0   0.0   0.0  0.0     0.0  0.0  0.0  0.0  0.0   0.0  0.0\n",
       " 0.0   0.0   0.0  0.0   0.0   0.0  0.0  …  0.0  0.0  0.0  0.0  0.0   0.0  0.0\n",
       " 0.0   0.0   0.0  0.0   0.0   0.0  0.0     0.0  0.0  0.0  0.0  0.0   0.0  0.0\n",
       " 0.0   0.0   0.0  0.0   0.0   0.0  0.0     0.0  0.0  0.0  0.0  0.0   0.0  0.0\n",
       " ⋮                            ⋮         ⋱       ⋮                         ⋮\n",
       " 0.0   0.0   0.0  0.0   0.0   0.0  0.0     0.0  0.0  0.0  0.0  0.0   0.0  0.0\n",
       " 0.0   0.0   0.0  0.0   0.0   0.0  0.0  …  0.0  0.0  0.0  0.0  0.0   0.0  0.0\n",
       " 0.0   0.0   0.0  0.0   0.0   0.0  0.0     0.0  0.0  0.0  0.0  0.0   0.0  0.0\n",
       " 0.0   0.0   0.0  0.0   0.0   0.0  0.0     0.0  0.0  0.0  0.0  0.0   0.0  0.0\n",
       " 0.0   0.0   0.0  0.0   0.0   0.0  0.0     0.0  0.0  0.0  0.0  0.0   0.0  0.0\n",
       " 0.0   0.0   0.0  0.0   0.0   0.0  0.0     0.0  0.0  0.0  0.0  0.0   0.0  0.0\n",
       " 0.0   0.0   0.0  0.0   0.0   0.0  0.0  …  0.0  0.0  0.0  0.0  0.0   0.0  0.0\n",
       " 0.0   0.0   0.0  0.0   0.0   0.0  0.0     0.0  0.0  0.0  0.0  0.0   0.0  0.0\n",
       " 0.0   0.0   0.0  0.0   0.0   0.0  0.0     0.0  0.0  0.0  8.0  0.0   0.0  0.0\n",
       " 0.0   0.0   0.0  0.0   0.0   0.0  0.0     0.0  0.0  0.0  0.0  5.0   0.0  0.0\n",
       " 0.0   0.0   0.0  0.0   0.0   0.0  0.0     0.0  0.0  0.0  0.0  0.0  22.0  0.0\n",
       " 0.0   0.0   0.0  0.0   0.0   0.0  0.0  …  0.0  0.0  0.0  0.0  0.0   0.0  0.0\n",
       "\n",
       "[:, :, 4] =\n",
       " 0.0  0.0  0.0  0.0  0.0  0.0  0.0  0.0  …  0.0  0.0  0.0  0.0  0.0  0.0  0.0\n",
       " 0.0  0.0  0.0  0.0  0.0  0.0  0.0  0.0     0.0  0.0  0.0  0.0  0.0  0.0  0.0\n",
       " 0.0  0.0  0.0  0.0  0.0  0.0  0.0  0.0     0.0  0.0  0.0  0.0  0.0  0.0  0.0\n",
       " 0.0  0.0  0.0  0.0  0.0  0.0  0.0  0.0     0.0  0.0  0.0  0.0  0.0  0.0  0.0\n",
       " 0.0  0.0  0.0  0.0  0.0  0.0  0.0  0.0     0.0  0.0  0.0  0.0  0.0  0.0  0.0\n",
       " 0.0  0.0  0.0  0.0  0.0  0.0  0.0  0.0  …  0.0  0.0  0.0  0.0  0.0  0.0  0.0\n",
       " 0.0  0.0  0.0  0.0  0.0  0.0  0.0  0.0     0.0  0.0  0.0  0.0  0.0  0.0  0.0\n",
       " 0.0  0.0  0.0  0.0  0.0  0.0  0.0  0.0     0.0  0.0  0.0  0.0  0.0  0.0  0.0\n",
       " 0.0  0.0  0.0  0.0  0.0  0.0  0.0  0.0     0.0  0.0  0.0  0.0  0.0  0.0  0.0\n",
       " 0.0  0.0  0.0  0.0  0.0  0.0  0.0  0.0     0.0  0.0  0.0  0.0  0.0  0.0  0.0\n",
       " 0.0  0.0  0.0  0.0  0.0  0.0  0.0  0.0  …  0.0  0.0  0.0  0.0  0.0  0.0  0.0\n",
       " 0.0  0.0  0.0  0.0  0.0  0.0  0.0  0.0     0.0  0.0  0.0  0.0  0.0  0.0  0.0\n",
       " 0.0  0.0  0.0  0.0  0.0  0.0  0.0  0.0     0.0  0.0  0.0  0.0  0.0  0.0  0.0\n",
       " ⋮                        ⋮              ⋱       ⋮                        ⋮\n",
       " 0.0  0.0  0.0  0.0  0.0  0.0  0.0  0.0     0.0  0.0  0.0  0.0  0.0  0.0  0.0\n",
       " 0.0  0.0  0.0  0.0  0.0  0.0  0.0  0.0  …  0.0  0.0  0.0  0.0  0.0  0.0  0.0\n",
       " 0.0  0.0  0.0  0.0  0.0  0.0  0.0  0.0     0.0  0.0  0.0  0.0  0.0  0.0  0.0\n",
       " 0.0  0.0  0.0  0.0  0.0  0.0  0.0  0.0     0.0  0.0  0.0  0.0  0.0  0.0  0.0\n",
       " 0.0  0.0  0.0  0.0  0.0  0.0  0.0  0.0     0.0  0.0  0.0  0.0  0.0  0.0  0.0\n",
       " 0.0  0.0  0.0  0.0  0.0  0.0  0.0  0.0     0.0  0.0  0.0  0.0  0.0  0.0  0.0\n",
       " 0.0  0.0  0.0  0.0  0.0  0.0  0.0  0.0  …  0.0  0.0  0.0  0.0  0.0  0.0  0.0\n",
       " 0.0  0.0  0.0  0.0  0.0  0.0  0.0  0.0     0.0  0.0  0.0  0.0  0.0  0.0  0.0\n",
       " 0.0  0.0  0.0  0.0  0.0  0.0  0.0  0.0     0.0  0.0  0.0  0.0  0.0  0.0  0.0\n",
       " 0.0  0.0  0.0  0.0  0.0  0.0  0.0  0.0     0.0  0.0  0.0  0.0  0.0  0.0  0.0\n",
       " 0.0  0.0  0.0  0.0  0.0  0.0  0.0  0.0     0.0  0.0  0.0  0.0  0.0  0.0  0.0\n",
       " 0.0  0.0  0.0  0.0  0.0  0.0  0.0  0.0  …  0.0  0.0  0.0  0.0  0.0  0.0  0.0\n",
       "\n",
       "[:, :, 5] =\n",
       " 0.0  0.0  0.0  0.0  0.0  0.0  0.0  0.0  …  0.0  0.0  0.0  0.0  0.0  0.0  0.0\n",
       " 0.0  0.0  0.0  0.0  0.0  0.0  0.0  0.0     0.0  0.0  0.0  0.0  0.0  0.0  0.0\n",
       " 0.0  0.0  0.0  0.0  0.0  0.0  0.0  0.0     0.0  0.0  0.0  0.0  0.0  0.0  0.0\n",
       " 0.0  0.0  0.0  0.0  0.0  0.0  0.0  0.0     0.0  0.0  0.0  0.0  0.0  0.0  0.0\n",
       " 0.0  0.0  0.0  0.0  0.0  0.0  0.0  0.0     0.0  0.0  0.0  0.0  0.0  0.0  0.0\n",
       " 0.0  0.0  0.0  0.0  0.0  0.0  0.0  0.0  …  0.0  0.0  0.0  0.0  0.0  0.0  0.0\n",
       " 0.0  0.0  0.0  0.0  0.0  0.0  0.0  0.0     0.0  0.0  0.0  0.0  0.0  0.0  0.0\n",
       " 0.0  0.0  0.0  0.0  0.0  0.0  0.0  0.0     0.0  0.0  0.0  0.0  0.0  0.0  0.0\n",
       " 0.0  0.0  0.0  0.0  0.0  0.0  0.0  0.0     0.0  0.0  0.0  0.0  0.0  0.0  0.0\n",
       " 0.0  0.0  0.0  0.0  0.0  0.0  0.0  0.0     0.0  0.0  0.0  0.0  0.0  0.0  0.0\n",
       " 0.0  0.0  0.0  0.0  0.0  0.0  0.0  0.0  …  0.0  0.0  0.0  0.0  0.0  0.0  0.0\n",
       " 0.0  0.0  0.0  0.0  0.0  0.0  0.0  0.0     0.0  0.0  0.0  0.0  0.0  0.0  0.0\n",
       " 0.0  0.0  0.0  0.0  0.0  0.0  0.0  0.0     0.0  0.0  0.0  0.0  0.0  0.0  0.0\n",
       " ⋮                        ⋮              ⋱       ⋮                        ⋮\n",
       " 0.0  0.0  0.0  0.0  0.0  0.0  0.0  0.0     0.0  0.0  0.0  0.0  0.0  0.0  0.0\n",
       " 0.0  0.0  0.0  0.0  0.0  0.0  0.0  0.0  …  0.0  0.0  0.0  0.0  0.0  0.0  0.0\n",
       " 0.0  0.0  0.0  0.0  0.0  0.0  0.0  0.0     0.0  0.0  0.0  0.0  0.0  0.0  0.0\n",
       " 0.0  0.0  0.0  0.0  0.0  0.0  0.0  0.0     0.0  0.0  0.0  0.0  0.0  0.0  0.0\n",
       " 0.0  0.0  0.0  0.0  0.0  0.0  0.0  0.0     0.0  0.0  0.0  0.0  0.0  0.0  0.0\n",
       " 0.0  0.0  0.0  0.0  0.0  0.0  0.0  0.0     0.0  0.0  0.0  0.0  0.0  0.0  0.0\n",
       " 0.0  0.0  0.0  0.0  0.0  0.0  0.0  0.0  …  0.0  0.0  0.0  0.0  0.0  0.0  0.0\n",
       " 0.0  0.0  0.0  0.0  0.0  0.0  0.0  0.0     0.0  0.0  0.0  0.0  0.0  0.0  0.0\n",
       " 0.0  0.0  0.0  0.0  0.0  0.0  0.0  0.0     0.0  0.0  0.0  0.0  0.0  0.0  0.0\n",
       " 0.0  0.0  0.0  0.0  0.0  0.0  0.0  0.0     0.0  0.0  0.0  0.0  0.0  0.0  0.0\n",
       " 0.0  0.0  0.0  0.0  0.0  0.0  0.0  0.0     0.0  0.0  0.0  0.0  0.0  0.0  0.0\n",
       " 0.0  0.0  0.0  0.0  0.0  0.0  0.0  0.0  …  0.0  0.0  0.0  0.0  0.0  0.0  0.0\n",
       "\n",
       "[:, :, 6] =\n",
       " 0.0  0.0  0.0  0.0  0.0  0.0  0.0  0.0  …  0.0  0.0  0.0  0.0  0.0  0.0  0.0\n",
       " 0.0  0.0  0.0  0.0  0.0  0.0  0.0  0.0     0.0  0.0  0.0  0.0  0.0  0.0  0.0\n",
       " 0.0  0.0  0.0  0.0  0.0  0.0  0.0  0.0     0.0  0.0  0.0  0.0  0.0  0.0  0.0\n",
       " 0.0  0.0  0.0  0.0  0.0  0.0  0.0  0.0     0.0  0.0  0.0  0.0  0.0  0.0  0.0\n",
       " 0.0  0.0  0.0  0.0  0.0  0.0  0.0  0.0     0.0  0.0  0.0  0.0  0.0  0.0  0.0\n",
       " 0.0  0.0  0.0  0.0  0.0  0.0  0.0  0.0  …  0.0  0.0  0.0  0.0  0.0  0.0  0.0\n",
       " 0.0  0.0  0.0  0.0  0.0  0.0  0.0  0.0     0.0  0.0  0.0  0.0  0.0  0.0  0.0\n",
       " 0.0  0.0  0.0  0.0  0.0  0.0  0.0  0.0     0.0  0.0  0.0  0.0  0.0  0.0  0.0\n",
       " 0.0  0.0  0.0  0.0  0.0  0.0  0.0  0.0     0.0  0.0  0.0  0.0  0.0  0.0  0.0\n",
       " 0.0  0.0  0.0  0.0  0.0  0.0  0.0  0.0     0.0  0.0  0.0  0.0  0.0  0.0  0.0\n",
       " 0.0  0.0  0.0  0.0  0.0  0.0  0.0  0.0  …  0.0  0.0  0.0  0.0  0.0  0.0  0.0\n",
       " 0.0  0.0  0.0  0.0  0.0  0.0  0.0  0.0     0.0  0.0  0.0  0.0  0.0  0.0  0.0\n",
       " 0.0  0.0  0.0  0.0  0.0  0.0  0.0  0.0     0.0  0.0  0.0  0.0  0.0  0.0  0.0\n",
       " ⋮                        ⋮              ⋱       ⋮                        ⋮\n",
       " 0.0  0.0  0.0  0.0  0.0  0.0  0.0  0.0     0.0  0.0  0.0  0.0  0.0  0.0  0.0\n",
       " 0.0  0.0  0.0  0.0  0.0  0.0  0.0  0.0  …  0.0  0.0  0.0  0.0  0.0  0.0  0.0\n",
       " 0.0  0.0  0.0  0.0  0.0  0.0  0.0  0.0     0.0  0.0  0.0  0.0  0.0  0.0  0.0\n",
       " 0.0  0.0  0.0  0.0  0.0  0.0  0.0  0.0     0.0  0.0  0.0  0.0  0.0  0.0  0.0\n",
       " 0.0  0.0  0.0  0.0  0.0  0.0  0.0  0.0     0.0  0.0  0.0  0.0  0.0  0.0  0.0\n",
       " 0.0  0.0  0.0  0.0  0.0  0.0  0.0  0.0     0.0  0.0  0.0  0.0  0.0  0.0  0.0\n",
       " 0.0  0.0  0.0  0.0  0.0  0.0  0.0  0.0  …  0.0  0.0  0.0  0.0  0.0  0.0  0.0\n",
       " 0.0  0.0  0.0  0.0  0.0  0.0  0.0  0.0     0.0  0.0  0.0  0.0  0.0  0.0  0.0\n",
       " 0.0  0.0  0.0  0.0  0.0  0.0  0.0  0.0     0.0  0.0  0.0  0.0  0.0  0.0  0.0\n",
       " 0.0  0.0  0.0  0.0  0.0  0.0  0.0  0.0     0.0  0.0  0.0  0.0  0.0  0.0  0.0\n",
       " 0.0  0.0  0.0  0.0  0.0  0.0  0.0  0.0     0.0  0.0  0.0  0.0  0.0  0.0  0.0\n",
       " 0.0  0.0  0.0  0.0  0.0  0.0  0.0  0.0  …  0.0  0.0  0.0  0.0  0.0  0.0  0.0\n",
       "\n",
       "[:, :, 7] =\n",
       " 0.0  0.0  0.0  0.0  0.0  0.0  0.0  0.0  …  0.0  0.0  0.0  0.0  0.0  0.0  0.0\n",
       " 0.0  0.0  0.0  0.0  0.0  0.0  0.0  0.0     0.0  0.0  0.0  0.0  0.0  0.0  0.0\n",
       " 0.0  0.0  0.0  0.0  0.0  0.0  0.0  0.0     0.0  0.0  0.0  0.0  0.0  0.0  0.0\n",
       " 0.0  0.0  0.0  0.0  0.0  0.0  0.0  0.0     0.0  0.0  0.0  0.0  0.0  0.0  0.0\n",
       " 0.0  0.0  0.0  0.0  0.0  0.0  0.0  0.0     0.0  0.0  0.0  0.0  0.0  0.0  0.0\n",
       " 0.0  0.0  0.0  0.0  0.0  0.0  0.0  0.0  …  0.0  0.0  0.0  0.0  0.0  0.0  0.0\n",
       " 0.0  0.0  0.0  0.0  0.0  0.0  0.0  0.0     0.0  0.0  0.0  0.0  0.0  0.0  0.0\n",
       " 0.0  0.0  0.0  0.0  0.0  0.0  0.0  0.0     0.0  0.0  0.0  0.0  0.0  0.0  0.0\n",
       " 0.0  0.0  0.0  0.0  0.0  0.0  0.0  0.0     0.0  0.0  0.0  0.0  0.0  0.0  0.0\n",
       " 0.0  0.0  0.0  0.0  0.0  0.0  0.0  0.0     0.0  0.0  0.0  0.0  0.0  0.0  0.0\n",
       " 0.0  0.0  0.0  0.0  0.0  0.0  0.0  0.0  …  0.0  0.0  0.0  0.0  0.0  0.0  0.0\n",
       " 0.0  0.0  0.0  0.0  0.0  0.0  0.0  0.0     0.0  0.0  0.0  0.0  0.0  0.0  0.0\n",
       " 0.0  0.0  0.0  0.0  0.0  0.0  0.0  0.0     0.0  0.0  0.0  0.0  0.0  0.0  0.0\n",
       " ⋮                        ⋮              ⋱       ⋮                        ⋮\n",
       " 0.0  0.0  0.0  0.0  0.0  0.0  0.0  0.0     0.0  0.0  0.0  0.0  0.0  0.0  0.0\n",
       " 0.0  0.0  0.0  0.0  0.0  0.0  0.0  0.0  …  0.0  0.0  0.0  0.0  0.0  0.0  0.0\n",
       " 0.0  0.0  0.0  0.0  0.0  0.0  0.0  0.0     0.0  0.0  0.0  0.0  0.0  0.0  0.0\n",
       " 0.0  0.0  0.0  0.0  0.0  0.0  0.0  0.0     0.0  0.0  0.0  0.0  0.0  0.0  0.0\n",
       " 0.0  0.0  0.0  0.0  0.0  0.0  0.0  0.0     0.0  0.0  0.0  0.0  0.0  0.0  0.0\n",
       " 0.0  0.0  0.0  0.0  0.0  0.0  0.0  0.0     0.0  0.0  0.0  0.0  0.0  0.0  0.0\n",
       " 0.0  0.0  0.0  0.0  0.0  0.0  0.0  0.0  …  0.0  0.0  0.0  0.0  0.0  0.0  0.0\n",
       " 0.0  0.0  0.0  0.0  0.0  0.0  0.0  0.0     0.0  0.0  0.0  0.0  0.0  0.0  0.0\n",
       " 0.0  0.0  0.0  0.0  0.0  0.0  0.0  0.0     0.0  0.0  0.0  0.0  0.0  0.0  0.0\n",
       " 0.0  0.0  0.0  0.0  0.0  0.0  0.0  0.0     0.0  0.0  0.0  0.0  0.0  0.0  0.0\n",
       " 0.0  0.0  0.0  0.0  0.0  0.0  0.0  0.0     0.0  0.0  0.0  0.0  0.0  0.0  0.0\n",
       " 0.0  0.0  0.0  0.0  0.0  0.0  0.0  0.0  …  0.0  0.0  0.0  0.0  0.0  0.0  0.0\n",
       "\n",
       "[:, :, 8] =\n",
       " 0.0  0.0  0.0  0.0  0.0  0.0  0.0  0.0  …  0.0  0.0  0.0  0.0  0.0  0.0  0.0\n",
       " 0.0  0.0  0.0  0.0  0.0  0.0  0.0  0.0     0.0  0.0  0.0  0.0  0.0  0.0  0.0\n",
       " 0.0  0.0  0.0  0.0  0.0  0.0  0.0  0.0     0.0  0.0  0.0  0.0  0.0  0.0  0.0\n",
       " 0.0  0.0  0.0  0.0  0.0  0.0  0.0  0.0     0.0  0.0  0.0  0.0  0.0  0.0  0.0\n",
       " 0.0  0.0  0.0  0.0  0.0  0.0  0.0  0.0     0.0  0.0  0.0  0.0  0.0  0.0  0.0\n",
       " 0.0  0.0  0.0  0.0  0.0  0.0  0.0  0.0  …  0.0  0.0  0.0  0.0  0.0  0.0  0.0\n",
       " 0.0  0.0  0.0  0.0  0.0  0.0  0.0  0.0     0.0  0.0  0.0  0.0  0.0  0.0  0.0\n",
       " 0.0  0.0  0.0  0.0  0.0  0.0  0.0  0.0     0.0  0.0  0.0  0.0  0.0  0.0  0.0\n",
       " 0.0  0.0  0.0  0.0  0.0  0.0  0.0  0.0     0.0  0.0  0.0  0.0  0.0  0.0  0.0\n",
       " 0.0  0.0  0.0  0.0  0.0  0.0  0.0  0.0     0.0  0.0  0.0  0.0  0.0  0.0  0.0\n",
       " 0.0  0.0  0.0  0.0  0.0  0.0  0.0  0.0  …  0.0  0.0  0.0  0.0  0.0  0.0  0.0\n",
       " 0.0  0.0  0.0  0.0  0.0  0.0  0.0  0.0     0.0  0.0  0.0  0.0  0.0  0.0  0.0\n",
       " 0.0  0.0  0.0  0.0  0.0  0.0  0.0  0.0     0.0  0.0  0.0  0.0  0.0  0.0  0.0\n",
       " ⋮                        ⋮              ⋱       ⋮                        ⋮\n",
       " 0.0  0.0  0.0  0.0  0.0  0.0  0.0  0.0     0.0  0.0  0.0  0.0  0.0  0.0  0.0\n",
       " 0.0  0.0  0.0  0.0  0.0  0.0  0.0  0.0  …  0.0  0.0  0.0  0.0  0.0  0.0  0.0\n",
       " 0.0  0.0  0.0  0.0  0.0  0.0  0.0  0.0     0.0  0.0  0.0  0.0  0.0  0.0  0.0\n",
       " 0.0  0.0  0.0  0.0  0.0  0.0  0.0  0.0     0.0  0.0  0.0  0.0  0.0  0.0  0.0\n",
       " 0.0  0.0  0.0  0.0  0.0  0.0  0.0  0.0     0.0  0.0  0.0  0.0  0.0  0.0  0.0\n",
       " 0.0  0.0  0.0  0.0  0.0  0.0  0.0  0.0     0.0  0.0  0.0  0.0  0.0  0.0  0.0\n",
       " 0.0  0.0  0.0  0.0  0.0  0.0  0.0  0.0  …  0.0  0.0  0.0  0.0  0.0  0.0  0.0\n",
       " 0.0  0.0  0.0  0.0  0.0  0.0  0.0  0.0     0.0  0.0  0.0  0.0  0.0  0.0  0.0\n",
       " 0.0  0.0  0.0  0.0  0.0  0.0  0.0  0.0     0.0  0.0  0.0  0.0  0.0  0.0  0.0\n",
       " 0.0  0.0  0.0  0.0  0.0  0.0  0.0  0.0     0.0  0.0  0.0  0.0  0.0  0.0  0.0\n",
       " 0.0  0.0  0.0  0.0  0.0  0.0  0.0  0.0     0.0  0.0  0.0  0.0  0.0  0.0  0.0\n",
       " 0.0  0.0  0.0  0.0  0.0  0.0  0.0  0.0  …  0.0  0.0  0.0  0.0  0.0  0.0  0.0\n",
       "\n",
       "[:, :, 9] =\n",
       " 0.0  0.0  0.0  0.0  0.0  0.0  0.0  0.0  …  0.0  0.0  0.0  0.0  0.0  0.0  0.0\n",
       " 0.0  0.0  0.0  0.0  0.0  0.0  0.0  0.0     0.0  0.0  0.0  0.0  0.0  0.0  0.0\n",
       " 0.0  0.0  0.0  0.0  0.0  0.0  0.0  0.0     0.0  0.0  0.0  0.0  0.0  0.0  0.0\n",
       " 0.0  0.0  0.0  0.0  0.0  0.0  0.0  0.0     0.0  0.0  0.0  0.0  0.0  0.0  0.0\n",
       " 0.0  0.0  0.0  0.0  0.0  0.0  0.0  0.0     0.0  0.0  0.0  0.0  0.0  0.0  0.0\n",
       " 0.0  0.0  0.0  0.0  0.0  0.0  0.0  0.0  …  0.0  0.0  0.0  0.0  0.0  0.0  0.0\n",
       " 0.0  0.0  0.0  0.0  0.0  0.0  0.0  0.0     0.0  0.0  0.0  0.0  0.0  0.0  0.0\n",
       " 0.0  0.0  0.0  0.0  0.0  0.0  0.0  0.0     0.0  0.0  0.0  0.0  0.0  0.0  0.0\n",
       " 0.0  0.0  0.0  0.0  0.0  0.0  0.0  0.0     0.0  0.0  0.0  0.0  0.0  0.0  0.0\n",
       " 0.0  0.0  0.0  0.0  0.0  0.0  0.0  0.0     0.0  0.0  0.0  0.0  0.0  0.0  0.0\n",
       " 0.0  0.0  0.0  0.0  0.0  0.0  0.0  0.0  …  0.0  0.0  0.0  0.0  0.0  0.0  0.0\n",
       " 0.0  0.0  0.0  0.0  0.0  0.0  0.0  0.0     0.0  0.0  0.0  0.0  0.0  0.0  0.0\n",
       " 0.0  0.0  0.0  0.0  0.0  0.0  0.0  0.0     0.0  0.0  0.0  0.0  0.0  0.0  0.0\n",
       " ⋮                        ⋮              ⋱       ⋮                        ⋮\n",
       " 0.0  0.0  0.0  0.0  0.0  0.0  0.0  0.0     0.0  0.0  0.0  0.0  0.0  0.0  0.0\n",
       " 0.0  0.0  0.0  0.0  0.0  0.0  0.0  0.0  …  0.0  0.0  0.0  0.0  0.0  0.0  0.0\n",
       " 0.0  0.0  0.0  0.0  0.0  0.0  0.0  0.0     0.0  0.0  0.0  0.0  0.0  0.0  0.0\n",
       " 0.0  0.0  0.0  0.0  0.0  0.0  0.0  0.0     0.0  0.0  0.0  0.0  0.0  0.0  0.0\n",
       " 0.0  0.0  0.0  0.0  0.0  0.0  0.0  0.0     0.0  0.0  0.0  0.0  0.0  0.0  0.0\n",
       " 0.0  0.0  0.0  0.0  0.0  0.0  0.0  0.0     0.0  0.0  0.0  0.0  0.0  0.0  0.0\n",
       " 0.0  0.0  0.0  0.0  0.0  0.0  0.0  0.0  …  0.0  0.0  0.0  0.0  0.0  0.0  0.0\n",
       " 0.0  0.0  0.0  0.0  0.0  0.0  0.0  0.0     0.0  0.0  0.0  0.0  0.0  0.0  0.0\n",
       " 0.0  0.0  0.0  0.0  0.0  0.0  0.0  0.0     0.0  0.0  0.0  0.0  0.0  0.0  0.0\n",
       " 0.0  0.0  0.0  0.0  0.0  0.0  0.0  0.0     0.0  0.0  0.0  0.0  0.0  0.0  0.0\n",
       " 0.0  0.0  0.0  0.0  0.0  0.0  0.0  0.0     0.0  0.0  0.0  0.0  0.0  0.0  0.0\n",
       " 0.0  0.0  0.0  0.0  0.0  0.0  0.0  0.0  …  0.0  0.0  0.0  0.0  0.0  0.0  0.0\n",
       "\n",
       "[:, :, 10] =\n",
       " 0.0  0.0  0.0  0.0  0.0  0.0  0.0  0.0  …  0.0  0.0  0.0  0.0  0.0  0.0  0.0\n",
       " 0.0  0.0  0.0  0.0  0.0  0.0  0.0  0.0     0.0  0.0  0.0  0.0  0.0  0.0  0.0\n",
       " 0.0  0.0  0.0  0.0  0.0  0.0  0.0  0.0     0.0  0.0  0.0  0.0  0.0  0.0  0.0\n",
       " 0.0  0.0  0.0  0.0  0.0  0.0  0.0  0.0     0.0  0.0  0.0  0.0  0.0  0.0  0.0\n",
       " 0.0  0.0  0.0  0.0  0.0  0.0  0.0  0.0     0.0  0.0  0.0  0.0  0.0  0.0  0.0\n",
       " 0.0  0.0  0.0  0.0  0.0  0.0  0.0  0.0  …  0.0  0.0  0.0  0.0  0.0  0.0  0.0\n",
       " 0.0  0.0  0.0  0.0  0.0  0.0  0.0  0.0     0.0  0.0  0.0  0.0  0.0  0.0  0.0\n",
       " 0.0  0.0  0.0  0.0  0.0  0.0  0.0  0.0     0.0  0.0  0.0  0.0  0.0  0.0  0.0\n",
       " 0.0  0.0  0.0  0.0  0.0  0.0  0.0  0.0     0.0  0.0  0.0  0.0  0.0  0.0  0.0\n",
       " 0.0  0.0  0.0  0.0  0.0  0.0  0.0  0.0     0.0  0.0  0.0  0.0  0.0  0.0  0.0\n",
       " 0.0  0.0  0.0  0.0  0.0  0.0  0.0  0.0  …  0.0  0.0  0.0  0.0  0.0  0.0  0.0\n",
       " 0.0  0.0  0.0  0.0  0.0  0.0  0.0  0.0     0.0  0.0  0.0  0.0  0.0  0.0  0.0\n",
       " 0.0  0.0  0.0  0.0  0.0  0.0  0.0  0.0     0.0  0.0  0.0  0.0  0.0  0.0  0.0\n",
       " ⋮                        ⋮              ⋱       ⋮                        ⋮\n",
       " 0.0  0.0  0.0  0.0  0.0  0.0  0.0  0.0     0.0  0.0  0.0  0.0  0.0  0.0  0.0\n",
       " 0.0  0.0  0.0  0.0  0.0  0.0  0.0  0.0  …  0.0  0.0  0.0  0.0  0.0  0.0  0.0\n",
       " 0.0  0.0  0.0  0.0  0.0  0.0  0.0  0.0     0.0  0.0  0.0  0.0  0.0  0.0  0.0\n",
       " 0.0  0.0  0.0  0.0  0.0  0.0  0.0  0.0     0.0  0.0  0.0  0.0  0.0  0.0  0.0\n",
       " 0.0  0.0  0.0  0.0  0.0  0.0  0.0  0.0     0.0  0.0  0.0  0.0  0.0  0.0  0.0\n",
       " 0.0  0.0  0.0  0.0  0.0  0.0  0.0  0.0     0.0  0.0  0.0  0.0  0.0  0.0  0.0\n",
       " 0.0  0.0  0.0  0.0  0.0  0.0  0.0  0.0  …  0.0  0.0  0.0  0.0  0.0  0.0  0.0\n",
       " 0.0  0.0  0.0  0.0  0.0  0.0  0.0  0.0     0.0  0.0  0.0  0.0  0.0  0.0  0.0\n",
       " 0.0  0.0  0.0  0.0  0.0  0.0  0.0  0.0     0.0  0.0  0.0  0.0  0.0  0.0  0.0\n",
       " 0.0  0.0  0.0  0.0  0.0  0.0  0.0  0.0     0.0  0.0  0.0  0.0  0.0  0.0  0.0\n",
       " 0.0  0.0  0.0  0.0  0.0  0.0  0.0  0.0     0.0  0.0  0.0  0.0  0.0  0.0  0.0\n",
       " 0.0  0.0  0.0  0.0  0.0  0.0  0.0  0.0  …  0.0  0.0  0.0  0.0  0.0  0.0  0.0"
      ]
     },
     "execution_count": 72,
     "metadata": {},
     "output_type": "execute_result"
    }
   ],
   "source": [
    "value.(Y)"
   ]
  },
  {
   "cell_type": "code",
   "execution_count": 66,
   "id": "8fd97091-0981-4641-9117-dbcad695133c",
   "metadata": {},
   "outputs": [
    {
     "data": {
      "text/plain": [
       "580"
      ]
     },
     "execution_count": 66,
     "metadata": {},
     "output_type": "execute_result"
    }
   ],
   "source": [
    "580 "
   ]
  },
  {
   "cell_type": "code",
   "execution_count": 10,
   "id": "3717aa43-298f-4cc4-aa02-d50f0f11108c",
   "metadata": {
    "scrolled": true
   },
   "outputs": [
    {
     "name": "stdout",
     "output_type": "stream",
     "text": [
      "Set parameter Username\n",
      "Academic license - for non-commercial use only - expires 2024-08-22\n",
      "Set parameter TimeLimit to value 60\n",
      "Set parameter TimeLimit to value 60\n",
      "Gurobi Optimizer version 10.0.2 build v10.0.2rc0 (win64)\n",
      "\n",
      "CPU model: AMD Ryzen 7 5800H with Radeon Graphics, instruction set [SSE2|AVX|AVX2]\n",
      "Thread count: 8 physical cores, 16 logical processors, using up to 16 threads\n",
      "\n",
      "Optimize a model with 2722368 rows, 2800818 columns and 8402148 nonzeros\n",
      "Model fingerprint: 0x7d363db7\n",
      "Variable types: 153 continuous, 2800665 integer (2800665 binary)\n",
      "Coefficient statistics:\n",
      "  Matrix range     [1e+00, 1e+00]\n",
      "  Objective range  [1e-04, 1e+00]\n",
      "  Bounds range     [0e+00, 0e+00]\n",
      "  RHS range        [3e-02, 3e+02]\n",
      "Found heuristic solution: objective 2109.1807806\n",
      "Presolve removed 53346 rows and 53346 columns (presolve time = 5s) ...\n",
      "Presolve removed 53346 rows and 53346 columns (presolve time = 10s) ...\n",
      "Presolve removed 53346 rows and 53346 columns (presolve time = 15s) ...\n",
      "Presolve removed 53295 rows and 53295 columns\n",
      "Presolve time: 18.06s\n",
      "Presolved: 2669073 rows, 2747523 columns, 8188968 nonzeros\n",
      "Variable types: 15 continuous, 2747508 integer (2747334 binary)\n",
      "Deterministic concurrent LP optimizer: primal simplex, dual simplex, and barrier\n",
      "Showing barrier log only...\n",
      "\n",
      "Root barrier log...\n",
      "\n",
      "Ordering time: 0.00s\n",
      "\n",
      "Barrier statistics:\n",
      " Dense cols : 153\n",
      " AA' NZ     : 1.066e+04\n",
      " Factor NZ  : 2.770e+04 (roughly 5 MB of memory)\n",
      " Factor Ops : 1.261e+06 (less than 1 second per iteration)\n",
      " Threads    : 1\n",
      "\n",
      "                  Objective                Residual\n",
      "Iter       Primal          Dual         Primal    Dual     Compl     Time\n",
      "   0   6.68007030e+06 -1.06502100e+06  4.07e+02 1.68e+01  5.44e+03    31s\n",
      "   1   2.17549545e+06 -2.00398283e+06  1.17e+02 9.88e-02  1.55e+03    31s\n",
      "\n",
      "Barrier performed 1 iterations in 30.70 seconds (27.93 work units)\n",
      "Barrier solve interrupted - model solved by another algorithm\n",
      "\n",
      "Concurrent spin time: 0.00s\n",
      "\n",
      "Solved with dual simplex\n",
      "\n",
      "Root simplex log...\n",
      "\n",
      "Iteration    Objective       Primal Inf.    Dual Inf.      Time\n",
      "     228    8.1747059e+02   0.000000e+00   0.000000e+00     31s\n",
      "\n",
      "Use crossover to convert LP symmetric solution to basic solution...\n",
      "\n",
      "Root crossover log...\n",
      "\n",
      "       0 DPushes remaining with DInf 0.0000000e+00                32s\n",
      "\n",
      "   27719 PPushes remaining with PInf 0.0000000e+00                32s\n",
      "      55 PPushes remaining with PInf 0.0000000e+00                36s\n",
      "       0 PPushes remaining with PInf 0.0000000e+00                36s\n",
      "\n",
      "  Push phase complete: Pinf 0.0000000e+00, Dinf 1.7563728e-13     36s\n",
      "\n",
      "\n",
      "Root simplex log...\n",
      "\n",
      "Iteration    Objective       Primal Inf.    Dual Inf.      Time\n",
      "   27950    8.1747059e+02   0.000000e+00   0.000000e+00     36s\n",
      "\n",
      "Root relaxation: objective 8.174706e+02, 27950 iterations, 12.45 seconds (13.60 work units)\n",
      "\n",
      "    Nodes    |    Current Node    |     Objective Bounds      |     Work\n",
      " Expl Unexpl |  Obj  Depth IntInf | Incumbent    BestBd   Gap | It/Node Time\n",
      "\n",
      "     0     0  817.47059    0 4671 2109.18078  817.47059  61.2%     -   60s\n",
      "\n",
      "Explored 1 nodes (54779 simplex iterations) in 60.52 seconds (82.69 work units)\n",
      "Thread count was 16 (of 16 available processors)\n",
      "\n",
      "Solution count 1: 2109.18 \n",
      "\n",
      "Time limit reached\n",
      "Best objective 2.109180779317e+03, best bound 8.174705882353e+02, gap 61.2423%\n",
      "\n",
      "User-callback calls 2151, time in user-callback 0.01 sec\n"
     ]
    }
   ],
   "source": [
    "n_groups = n_fighters\n",
    "model = Model(Gurobi.Optimizer)\n",
    "\n",
    "# Redefine the variables with groups instead of individual fighters\n",
    "@variable(model, X[g=1:n_groups, k=1:n_fires, t=1:3], binary = true)\n",
    "@variable(model, Y[g=1:n_groups, k1=1:n_fires, k2=1:n_fires, t=2:3], binary = true)\n",
    "\n",
    "# New variables for positive parts of costs\n",
    "@variable(model, pos_cost[k=1:n_fires, t=1:3] >= 0)\n",
    "\n",
    "# Constraints for new variables\n",
    "@constraint(model, pos_cost_con[k=1:n_fires[1], t=1:3],\n",
    "            pos_cost[k, t] >= demand[k] - sum(sum(X[g,k,t_] for g=1:n_groups) for t_=1:t))\n",
    "\n",
    "@objective(model, Min, sum(pos_cost[k, t] for k=1:n_fires, t=1:3) + \n",
    "                        alpha * sum(Y[g,k1,k2,t] * Distances[k1,k2] for g=1:n_groups, k1=1:n_fires, k2=1:n_fires, t=2:3))\n",
    "\n",
    "# Adjusted constraints for groups\n",
    "@constraint(model, constraint_fighters1[t=1:3, g=1:n_groups],\n",
    "            sum(X[g,k,t] for k=1:n_fires) == 1)\n",
    "@constraint(model, constraint_Y[t=2:3, k1=1:n_fires, k2=1:n_fires, g=1:n_groups],\n",
    "            X[g,k1,t-1] + X[g,k2,t] - 1 <= Y[g,k1,k2,t])\n",
    "\n",
    "set_optimizer_attribute(model, \"TimeLimit\", 60.0)\n",
    "optimize!(model)"
   ]
  },
  {
   "cell_type": "code",
   "execution_count": 11,
   "id": "bdea3e0b-3e3b-4b8f-be57-aa8b77cb8d5b",
   "metadata": {
    "scrolled": true
   },
   "outputs": [],
   "source": [
    "X_current = JuMP.value.(X);\n",
    "Y_current = JuMP.value.(Y);"
   ]
  },
  {
   "cell_type": "code",
   "execution_count": 12,
   "id": "fe58e61d-3b33-4bf2-9d89-36a30a932343",
   "metadata": {},
   "outputs": [],
   "source": [
    "# Initialize Y1_g_k1_k2_1 tensor\n",
    "Y1_g_k1_k2_1 = zeros(Int, n_groups, n_fires, n_fires)\n",
    "\n",
    "# Fill the tensor based on group movements from day 0 to day 1\n",
    "for g in 1:n_groups\n",
    "    for k1 in 1:n_fires\n",
    "        for k2 in 1:n_fires\n",
    "            if assignements[g, k1] == 1 && X_current[g, k2, 1] == 1\n",
    "                Y1_g_k1_k2_1[g, k1, k2] = 1\n",
    "            end\n",
    "        end\n",
    "    end\n",
    "end\n",
    "\n",
    "# Get all movements from day 0 to day 3\n",
    "Y_total = zeros(Int, n_groups, n_fires, n_fires, 3);\n",
    "Y_total[:,:,:,1] = Y1_g_k1_k2_1;\n",
    "Y_total[:,:,:,2] = Y_current[:,:,:,2];\n",
    "Y_total[:,:,:,3] = Y_current[:,:,:,3];"
   ]
  },
  {
   "cell_type": "code",
   "execution_count": 13,
   "id": "121ebf3e-beb2-499d-ba90-974889be9c15",
   "metadata": {},
   "outputs": [
    {
     "data": {
      "text/plain": [
       "cost_function (generic function with 1 method)"
      ]
     },
     "execution_count": 13,
     "metadata": {},
     "output_type": "execute_result"
    }
   ],
   "source": [
    "function cost_function(X,Y,Distances,demand)\n",
    "    pos_cost_component = sum(\n",
    "        max(0, demand[k] - sum(sum(X[g, k, t_] for g in 1:n_groups) for t_ in 1:t))\n",
    "        for k in 1:n_fires, t in 1:3\n",
    "    )\n",
    "    \n",
    "    movement_cost_component = alpha * sum(\n",
    "        Y[g, k1, k2, t] * Distances[k1, k2]\n",
    "        for g in 1:n_groups, k1 in 1:n_fires, k2 in 1:n_fires, t in 1:3\n",
    "    )\n",
    "    \n",
    "    total_cost = pos_cost_component + movement_cost_component\n",
    "    \n",
    "    println(\"Total cost of the solution is: $total_cost\")\n",
    "\n",
    "    return total_cost\n",
    "end"
   ]
  },
  {
   "cell_type": "code",
   "execution_count": 14,
   "id": "002ca955-e340-450c-820e-7193364a0544",
   "metadata": {},
   "outputs": [
    {
     "name": "stdout",
     "output_type": "stream",
     "text": [
      "Total cost of the solution is: 2138.4455589658132\n"
     ]
    }
   ],
   "source": [
    "cost_model_1 = cost_function(X_current,Y_total,Distances,demand);"
   ]
  },
  {
   "cell_type": "code",
   "execution_count": 15,
   "id": "885a49c6-f606-4659-a40b-8e6a99ee16b0",
   "metadata": {},
   "outputs": [
    {
     "data": {
      "text/plain": [
       "\"fire_movement_data.csv\""
      ]
     },
     "execution_count": 15,
     "metadata": {},
     "output_type": "execute_result"
    }
   ],
   "source": [
    "# WRITE MOVEMENTS Y TO A CSV FILE (to handle in Python for visualisation)\n",
    "\n",
    "# Arrays to hold the data for each column\n",
    "group_data = Int[]\n",
    "from_fire_data = Int[]\n",
    "to_fire_data = Int[]\n",
    "day_data = Int[]\n",
    "distance_data = Float64[]\n",
    "\n",
    "# Collect data\n",
    "for t in 1:3, g in 1:n_groups, k1 in 1:n_fires, k2 in 1:n_fires\n",
    "    if Y_total[g, k1, k2, t] == 1\n",
    "        push!(group_data, g)\n",
    "        push!(from_fire_data, k1)\n",
    "        push!(to_fire_data, k2)\n",
    "        push!(day_data, t)\n",
    "        push!(distance_data, Distances[k1, k2])\n",
    "    end\n",
    "end\n",
    "\n",
    "# Create the DataFrame from the collected data\n",
    "movement_data = DataFrame(Group = group_data, \n",
    "                          From_Fire = from_fire_data, \n",
    "                          To_Fire = to_fire_data, \n",
    "                          Day = day_data, \n",
    "                          Distance = distance_data)\n",
    "\n",
    "# Write to CSV\n",
    "CSV.write(\"fire_movement_data.csv\", movement_data)"
   ]
  },
  {
   "cell_type": "code",
   "execution_count": 16,
   "id": "3d83ea82-17f1-48a9-9d80-d7491bd2dcd5",
   "metadata": {},
   "outputs": [],
   "source": [
    "# Get fire coordinates\n",
    "fire_coords = []\n",
    "for (k, coord) in enumerate(grouped_fires)\n",
    "    push!(fire_coords,(lon=coord[1,:longitude],lat=coord[1,:latitude]))\n",
    "end"
   ]
  },
  {
   "cell_type": "code",
   "execution_count": 17,
   "id": "176e7914-e9c0-4681-8d67-94ac96294de0",
   "metadata": {},
   "outputs": [
    {
     "data": {
      "text/plain": [
       "1702"
      ]
     },
     "execution_count": 17,
     "metadata": {},
     "output_type": "execute_result"
    }
   ],
   "source": [
    "# Assuming Y1 is your variable\n",
    "json_coord = JSON.json(fire_coords)\n",
    "\n",
    "# Write to a file\n",
    "open(\"coord.json\", \"w\") do f\n",
    "    write(f, json_coord)\n",
    "end"
   ]
  },
  {
   "cell_type": "markdown",
   "id": "daf720c8-458e-4daf-8128-e3a348a25079",
   "metadata": {},
   "source": [
    "### Model Alex 2"
   ]
  },
  {
   "cell_type": "code",
   "execution_count": 18,
   "id": "abf7900d-6a80-4dc1-bfeb-93099ba5727a",
   "metadata": {},
   "outputs": [
    {
     "data": {
      "text/html": [
       "<div><div style = \"float: left;\"><span>3×10 DataFrame</span></div><div style = \"clear: both;\"></div></div><div class = \"data-frame\" style = \"overflow-x: scroll;\"><table class = \"data-frame\" style = \"margin-bottom: 6px;\"><thead><tr class = \"header\"><th class = \"rowNumber\" style = \"font-weight: bold; text-align: right;\">Row</th><th style = \"text-align: left;\">report_id</th><th style = \"text-align: left;\">fire_id</th><th style = \"text-align: left;\">area</th><th style = \"text-align: left;\">date</th><th style = \"text-align: left;\">longitude</th><th style = \"text-align: left;\">latitude</th><th style = \"text-align: left;\">from_date</th><th style = \"text-align: left;\">crews_sent</th><th style = \"text-align: left;\">total_crews_sent</th><th style = \"text-align: left;\">max_crews_sent</th></tr><tr class = \"subheader headerLastRow\"><th class = \"rowNumber\" style = \"font-weight: bold; text-align: right;\"></th><th title = \"Int64\" style = \"text-align: left;\">Int64</th><th title = \"Int64\" style = \"text-align: left;\">Int64</th><th title = \"Float64\" style = \"text-align: left;\">Float64</th><th title = \"DateTime\" style = \"text-align: left;\">DateTime</th><th title = \"Float64\" style = \"text-align: left;\">Float64</th><th title = \"Float64\" style = \"text-align: left;\">Float64</th><th title = \"String31\" style = \"text-align: left;\">String31</th><th title = \"Float64\" style = \"text-align: left;\">Float64</th><th title = \"Float64\" style = \"text-align: left;\">Float64</th><th title = \"Float64\" style = \"text-align: left;\">Float64</th></tr></thead><tbody><tr><td class = \"rowNumber\" style = \"font-weight: bold; text-align: right;\">1</td><td style = \"text-align: right;\">7269653</td><td style = \"text-align: right;\">7269467</td><td style = \"text-align: right;\">270723.0</td><td style = \"text-align: left;\">2017-08-01T02:00:00</td><td style = \"text-align: right;\">-107.758</td><td style = \"text-align: right;\">47.3183</td><td style = \"text-align: left;\">2017-07-31 14:00:00</td><td style = \"text-align: right;\">179.0</td><td style = \"text-align: right;\">5915.0</td><td style = \"text-align: right;\">656.0</td></tr><tr><td class = \"rowNumber\" style = \"font-weight: bold; text-align: right;\">2</td><td style = \"text-align: right;\">7170884</td><td style = \"text-align: right;\">7170139</td><td style = \"text-align: right;\">81826.0</td><td style = \"text-align: left;\">2017-08-01T00:45:00</td><td style = \"text-align: right;\">-120.207</td><td style = \"text-align: right;\">37.6194</td><td style = \"text-align: left;\">2017-07-31 18:00:00</td><td style = \"text-align: right;\">1627.0</td><td style = \"text-align: right;\">127933.0</td><td style = \"text-align: right;\">5128.0</td></tr><tr><td class = \"rowNumber\" style = \"font-weight: bold; text-align: right;\">3</td><td style = \"text-align: right;\">7170401</td><td style = \"text-align: right;\">7170139</td><td style = \"text-align: right;\">81826.0</td><td style = \"text-align: left;\">2017-08-01T13:30:00</td><td style = \"text-align: right;\">-120.207</td><td style = \"text-align: right;\">37.6194</td><td style = \"text-align: left;\">2017-08-01 08:00:00</td><td style = \"text-align: right;\">992.0</td><td style = \"text-align: right;\">127933.0</td><td style = \"text-align: right;\">5128.0</td></tr></tbody></table></div>"
      ],
      "text/latex": [
       "\\begin{tabular}{r|cccccccc}\n",
       "\t& report\\_id & fire\\_id & area & date & longitude & latitude & from\\_date & \\\\\n",
       "\t\\hline\n",
       "\t& Int64 & Int64 & Float64 & DateTime & Float64 & Float64 & String31 & \\\\\n",
       "\t\\hline\n",
       "\t1 & 7269653 & 7269467 & 270723.0 & 2017-08-01T02:00:00 & -107.758 & 47.3183 & 2017-07-31 14:00:00 & $\\dots$ \\\\\n",
       "\t2 & 7170884 & 7170139 & 81826.0 & 2017-08-01T00:45:00 & -120.207 & 37.6194 & 2017-07-31 18:00:00 & $\\dots$ \\\\\n",
       "\t3 & 7170401 & 7170139 & 81826.0 & 2017-08-01T13:30:00 & -120.207 & 37.6194 & 2017-08-01 08:00:00 & $\\dots$ \\\\\n",
       "\\end{tabular}\n"
      ],
      "text/plain": [
       "\u001b[1m3×10 DataFrame\u001b[0m\n",
       "\u001b[1m Row \u001b[0m│\u001b[1m report_id \u001b[0m\u001b[1m fire_id \u001b[0m\u001b[1m area     \u001b[0m\u001b[1m date                \u001b[0m\u001b[1m longitude \u001b[0m\u001b[1m latitude \u001b[0m\u001b[1m\u001b[0m ⋯\n",
       "     │\u001b[90m Int64     \u001b[0m\u001b[90m Int64   \u001b[0m\u001b[90m Float64  \u001b[0m\u001b[90m DateTime            \u001b[0m\u001b[90m Float64   \u001b[0m\u001b[90m Float64  \u001b[0m\u001b[90m\u001b[0m ⋯\n",
       "─────┼──────────────────────────────────────────────────────────────────────────\n",
       "   1 │   7269653  7269467  270723.0  2017-08-01T02:00:00   -107.758   47.3183  ⋯\n",
       "   2 │   7170884  7170139   81826.0  2017-08-01T00:45:00   -120.207   37.6194\n",
       "   3 │   7170401  7170139   81826.0  2017-08-01T13:30:00   -120.207   37.6194\n",
       "\u001b[36m                                                               4 columns omitted\u001b[0m"
      ]
     },
     "execution_count": 18,
     "metadata": {},
     "output_type": "execute_result"
    }
   ],
   "source": [
    "fires_on_august_1_2017_sorted = sort(fires_on_august_1_2017, :area, rev=true)\n",
    "first(fires_on_august_1_2017_sorted,3)"
   ]
  },
  {
   "cell_type": "code",
   "execution_count": 19,
   "id": "c88238e2-7943-46a0-ad4b-bce5352db692",
   "metadata": {},
   "outputs": [
    {
     "data": {
      "text/plain": [
       "523"
      ]
     },
     "execution_count": 19,
     "metadata": {},
     "output_type": "execute_result"
    }
   ],
   "source": [
    "# Group by fire_id and calculate demand\n",
    "grouped_fires_sorted = groupby(fires_on_august_1_2017_sorted, :fire_id)\n",
    "demand_sorted = [sum(group[!, :max_crews_sent]) for group in grouped_fires_sorted]\n",
    "demand_sorted = Int.(floor.(demand_sorted ./ 34))\n",
    "n_fighters = Int(floor(sum(fires_on_august_1_2017_sorted[:,:crews_sent])) / 34); # = 523\n",
    "n_fires = nrow(unique(fires_on_august_1_2017_sorted, :fire_id));\n",
    "\n",
    "# Get assignements on freeze day \n",
    "initial_allocation_sorted = [sum(group[!,:crews_sent]) for group in grouped_fires_sorted];\n",
    "initial_allocation_sorted = floor.(initial_allocation_sorted ./ 34)\n",
    "\n",
    "assignements_sorted = zeros(Int(n_fighters), n_fires);\n",
    "k, start = 1, 1\n",
    "for f in initial_allocation_sorted\n",
    "    num_ones = Int(f)\n",
    "    assignements_sorted[start:num_ones, k] .= 1\n",
    "    start = Int(f)+1\n",
    "    k += 1\n",
    "end  \n",
    "\n",
    "Distances_sorted = distance_matrix(grouped_fires_sorted);\n",
    "\n",
    "n_groups = n_fighters"
   ]
  },
  {
   "cell_type": "code",
   "execution_count": 20,
   "id": "96508289-240c-4a5e-826a-a0d7f872c483",
   "metadata": {
    "scrolled": true
   },
   "outputs": [],
   "source": [
    "X = zeros(n_groups, n_fires, 3)\n",
    "# Treat big fires first\n",
    "for t=1:3\n",
    "    remaining_fighters = n_groups\n",
    "    pointer = 1\n",
    "    for (k, group) in enumerate(grouped_fires_sorted)\n",
    "        if demand_sorted[k] > 0  # Check if the fire still needs treatment\n",
    "            allocated_fighters = min(demand_sorted[k], remaining_fighters)\n",
    "            X[pointer:pointer + allocated_fighters-1, k, t] .= 1\n",
    "            demand_sorted[k] -= allocated_fighters  # Update remaining demand\n",
    "            remaining_fighters -= allocated_fighters\n",
    "            pointer += allocated_fighters\n",
    "        end\n",
    "        if remaining_fighters <= 0\n",
    "            break  # Move to the next day if no firefighters are left\n",
    "        end\n",
    "    end\n",
    "end\n",
    "\n",
    "Y = zeros(n_groups, n_fires, n_fires, 3);\n",
    "# Fill the tensor Y based on group movements\n",
    "for t in 1:3 \n",
    "    for g in 1:n_groups  # Each group\n",
    "        for k1 in 1:n_fires  # Each fire on day t-1\n",
    "            for k2 in 1:n_fires  # Each fire on day t\n",
    "                if t == 1\n",
    "                    if assignements_sorted[g, k1] == 1 && X[g, k2, t] == 1\n",
    "                        Y[g, k1, k2, t] = 1\n",
    "                    end\n",
    "                # Check if group g moved from fire k1 to k2\n",
    "                else\n",
    "                    if X[g, k1, t-1] == 1 && X[g, k2, t] == 1\n",
    "                        Y[g, k1, k2, t] = 1\n",
    "                    end\n",
    "                end\n",
    "            end\n",
    "        end\n",
    "    end\n",
    "end"
   ]
  },
  {
   "cell_type": "code",
   "execution_count": 25,
   "id": "825b42fd-f8dc-4e4f-acad-f7a711cabe1d",
   "metadata": {},
   "outputs": [
    {
     "data": {
      "text/plain": [
       "523×51×3 Array{Float64, 3}:\n",
       "[:, :, 1] =\n",
       " 1.0  0.0  0.0  0.0  0.0  0.0  0.0  0.0  …  0.0  0.0  0.0  0.0  0.0  0.0  0.0\n",
       " 1.0  0.0  0.0  0.0  0.0  0.0  0.0  0.0     0.0  0.0  0.0  0.0  0.0  0.0  0.0\n",
       " 1.0  0.0  0.0  0.0  0.0  0.0  0.0  0.0     0.0  0.0  0.0  0.0  0.0  0.0  0.0\n",
       " 1.0  0.0  0.0  0.0  0.0  0.0  0.0  0.0     0.0  0.0  0.0  0.0  0.0  0.0  0.0\n",
       " 1.0  0.0  0.0  0.0  0.0  0.0  0.0  0.0     0.0  0.0  0.0  0.0  0.0  0.0  0.0\n",
       " 1.0  0.0  0.0  0.0  0.0  0.0  0.0  0.0  …  0.0  0.0  0.0  0.0  0.0  0.0  0.0\n",
       " 1.0  0.0  0.0  0.0  0.0  0.0  0.0  0.0     0.0  0.0  0.0  0.0  0.0  0.0  0.0\n",
       " 1.0  0.0  0.0  0.0  0.0  0.0  0.0  0.0     0.0  0.0  0.0  0.0  0.0  0.0  0.0\n",
       " 1.0  0.0  0.0  0.0  0.0  0.0  0.0  0.0     0.0  0.0  0.0  0.0  0.0  0.0  0.0\n",
       " 1.0  0.0  0.0  0.0  0.0  0.0  0.0  0.0     0.0  0.0  0.0  0.0  0.0  0.0  0.0\n",
       " 1.0  0.0  0.0  0.0  0.0  0.0  0.0  0.0  …  0.0  0.0  0.0  0.0  0.0  0.0  0.0\n",
       " 1.0  0.0  0.0  0.0  0.0  0.0  0.0  0.0     0.0  0.0  0.0  0.0  0.0  0.0  0.0\n",
       " 1.0  0.0  0.0  0.0  0.0  0.0  0.0  0.0     0.0  0.0  0.0  0.0  0.0  0.0  0.0\n",
       " ⋮                        ⋮              ⋱       ⋮                        ⋮\n",
       " 0.0  0.0  0.0  0.0  1.0  0.0  0.0  0.0     0.0  0.0  0.0  0.0  0.0  0.0  0.0\n",
       " 0.0  0.0  0.0  0.0  1.0  0.0  0.0  0.0     0.0  0.0  0.0  0.0  0.0  0.0  0.0\n",
       " 0.0  0.0  0.0  0.0  1.0  0.0  0.0  0.0     0.0  0.0  0.0  0.0  0.0  0.0  0.0\n",
       " 0.0  0.0  0.0  0.0  1.0  0.0  0.0  0.0     0.0  0.0  0.0  0.0  0.0  0.0  0.0\n",
       " 0.0  0.0  0.0  0.0  1.0  0.0  0.0  0.0  …  0.0  0.0  0.0  0.0  0.0  0.0  0.0\n",
       " 0.0  0.0  0.0  0.0  1.0  0.0  0.0  0.0     0.0  0.0  0.0  0.0  0.0  0.0  0.0\n",
       " 0.0  0.0  0.0  0.0  1.0  0.0  0.0  0.0     0.0  0.0  0.0  0.0  0.0  0.0  0.0\n",
       " 0.0  0.0  0.0  0.0  1.0  0.0  0.0  0.0     0.0  0.0  0.0  0.0  0.0  0.0  0.0\n",
       " 0.0  0.0  0.0  0.0  1.0  0.0  0.0  0.0     0.0  0.0  0.0  0.0  0.0  0.0  0.0\n",
       " 0.0  0.0  0.0  0.0  1.0  0.0  0.0  0.0  …  0.0  0.0  0.0  0.0  0.0  0.0  0.0\n",
       " 0.0  0.0  0.0  0.0  1.0  0.0  0.0  0.0     0.0  0.0  0.0  0.0  0.0  0.0  0.0\n",
       " 0.0  0.0  0.0  0.0  1.0  0.0  0.0  0.0     0.0  0.0  0.0  0.0  0.0  0.0  0.0\n",
       "\n",
       "[:, :, 2] =\n",
       " 0.0  0.0  0.0  0.0  1.0  0.0  0.0  0.0  …  0.0  0.0  0.0  0.0  0.0  0.0  0.0\n",
       " 0.0  0.0  0.0  0.0  1.0  0.0  0.0  0.0     0.0  0.0  0.0  0.0  0.0  0.0  0.0\n",
       " 0.0  0.0  0.0  0.0  1.0  0.0  0.0  0.0     0.0  0.0  0.0  0.0  0.0  0.0  0.0\n",
       " 0.0  0.0  0.0  0.0  1.0  0.0  0.0  0.0     0.0  0.0  0.0  0.0  0.0  0.0  0.0\n",
       " 0.0  0.0  0.0  0.0  1.0  0.0  0.0  0.0     0.0  0.0  0.0  0.0  0.0  0.0  0.0\n",
       " 0.0  0.0  0.0  0.0  1.0  0.0  0.0  0.0  …  0.0  0.0  0.0  0.0  0.0  0.0  0.0\n",
       " 0.0  0.0  0.0  0.0  1.0  0.0  0.0  0.0     0.0  0.0  0.0  0.0  0.0  0.0  0.0\n",
       " 0.0  0.0  0.0  0.0  1.0  0.0  0.0  0.0     0.0  0.0  0.0  0.0  0.0  0.0  0.0\n",
       " 0.0  0.0  0.0  0.0  1.0  0.0  0.0  0.0     0.0  0.0  0.0  0.0  0.0  0.0  0.0\n",
       " 0.0  0.0  0.0  0.0  1.0  0.0  0.0  0.0     0.0  0.0  0.0  0.0  0.0  0.0  0.0\n",
       " 0.0  0.0  0.0  0.0  1.0  0.0  0.0  0.0  …  0.0  0.0  0.0  0.0  0.0  0.0  0.0\n",
       " 0.0  0.0  0.0  0.0  1.0  0.0  0.0  0.0     0.0  0.0  0.0  0.0  0.0  0.0  0.0\n",
       " 0.0  0.0  0.0  0.0  1.0  0.0  0.0  0.0     0.0  0.0  0.0  0.0  0.0  0.0  0.0\n",
       " ⋮                        ⋮              ⋱       ⋮                        ⋮\n",
       " 0.0  0.0  0.0  0.0  0.0  0.0  0.0  0.0     0.0  0.0  0.0  0.0  0.0  0.0  0.0\n",
       " 0.0  0.0  0.0  0.0  0.0  0.0  0.0  0.0     0.0  0.0  0.0  0.0  0.0  0.0  0.0\n",
       " 0.0  0.0  0.0  0.0  0.0  0.0  0.0  0.0     0.0  0.0  0.0  0.0  0.0  0.0  0.0\n",
       " 0.0  0.0  0.0  0.0  0.0  0.0  0.0  0.0     0.0  0.0  0.0  0.0  0.0  0.0  0.0\n",
       " 0.0  0.0  0.0  0.0  0.0  0.0  0.0  0.0  …  0.0  0.0  0.0  0.0  0.0  0.0  0.0\n",
       " 0.0  0.0  0.0  0.0  0.0  0.0  0.0  0.0     0.0  0.0  0.0  0.0  0.0  0.0  0.0\n",
       " 0.0  0.0  0.0  0.0  0.0  0.0  0.0  0.0     0.0  0.0  0.0  0.0  0.0  0.0  0.0\n",
       " 0.0  0.0  0.0  0.0  0.0  0.0  0.0  0.0     0.0  0.0  0.0  0.0  0.0  0.0  0.0\n",
       " 0.0  0.0  0.0  0.0  0.0  0.0  0.0  0.0     0.0  0.0  0.0  0.0  0.0  0.0  0.0\n",
       " 0.0  0.0  0.0  0.0  0.0  0.0  0.0  0.0  …  0.0  0.0  0.0  0.0  0.0  0.0  0.0\n",
       " 0.0  0.0  0.0  0.0  0.0  0.0  0.0  0.0     0.0  0.0  0.0  0.0  0.0  0.0  0.0\n",
       " 0.0  0.0  0.0  0.0  0.0  0.0  0.0  0.0     0.0  0.0  0.0  0.0  0.0  0.0  0.0\n",
       "\n",
       "[:, :, 3] =\n",
       " 0.0  0.0  0.0  0.0  0.0  0.0  0.0  0.0  …  0.0  0.0  0.0  0.0  0.0  0.0  0.0\n",
       " 0.0  0.0  0.0  0.0  0.0  0.0  0.0  0.0     0.0  0.0  0.0  0.0  0.0  0.0  0.0\n",
       " 0.0  0.0  0.0  0.0  0.0  0.0  0.0  0.0     0.0  0.0  0.0  0.0  0.0  0.0  0.0\n",
       " 0.0  0.0  0.0  0.0  0.0  0.0  0.0  0.0     0.0  0.0  0.0  0.0  0.0  0.0  0.0\n",
       " 0.0  0.0  0.0  0.0  0.0  0.0  0.0  0.0     0.0  0.0  0.0  0.0  0.0  0.0  0.0\n",
       " 0.0  0.0  0.0  0.0  0.0  0.0  0.0  0.0  …  0.0  0.0  0.0  0.0  0.0  0.0  0.0\n",
       " 0.0  0.0  0.0  0.0  0.0  0.0  0.0  0.0     0.0  0.0  0.0  0.0  0.0  0.0  0.0\n",
       " 0.0  0.0  0.0  0.0  0.0  0.0  0.0  0.0     0.0  0.0  0.0  0.0  0.0  0.0  0.0\n",
       " 0.0  0.0  0.0  0.0  0.0  0.0  0.0  0.0     0.0  0.0  0.0  0.0  0.0  0.0  0.0\n",
       " 0.0  0.0  0.0  0.0  0.0  0.0  0.0  0.0     0.0  0.0  0.0  0.0  0.0  0.0  0.0\n",
       " 0.0  0.0  0.0  0.0  0.0  0.0  0.0  0.0  …  0.0  0.0  0.0  0.0  0.0  0.0  0.0\n",
       " 0.0  0.0  0.0  0.0  0.0  0.0  0.0  0.0     0.0  0.0  0.0  0.0  0.0  0.0  0.0\n",
       " 0.0  0.0  0.0  0.0  0.0  0.0  0.0  0.0     0.0  0.0  0.0  0.0  0.0  0.0  0.0\n",
       " ⋮                        ⋮              ⋱       ⋮                        ⋮\n",
       " 0.0  0.0  0.0  0.0  0.0  0.0  0.0  0.0     0.0  0.0  0.0  0.0  0.0  0.0  0.0\n",
       " 0.0  0.0  0.0  0.0  0.0  0.0  0.0  0.0     0.0  0.0  0.0  0.0  0.0  0.0  0.0\n",
       " 0.0  0.0  0.0  0.0  0.0  0.0  0.0  0.0     0.0  0.0  0.0  0.0  0.0  0.0  0.0\n",
       " 0.0  0.0  0.0  0.0  0.0  0.0  0.0  0.0     0.0  0.0  0.0  0.0  0.0  0.0  0.0\n",
       " 0.0  0.0  0.0  0.0  0.0  0.0  0.0  0.0  …  0.0  0.0  0.0  0.0  0.0  0.0  0.0\n",
       " 0.0  0.0  0.0  0.0  0.0  0.0  0.0  0.0     0.0  0.0  0.0  0.0  0.0  0.0  0.0\n",
       " 0.0  0.0  0.0  0.0  0.0  0.0  0.0  0.0     0.0  0.0  0.0  0.0  0.0  0.0  0.0\n",
       " 0.0  0.0  0.0  0.0  0.0  0.0  0.0  0.0     0.0  0.0  0.0  0.0  0.0  0.0  0.0\n",
       " 0.0  0.0  0.0  0.0  0.0  0.0  0.0  0.0     0.0  0.0  0.0  0.0  0.0  0.0  0.0\n",
       " 0.0  0.0  0.0  0.0  0.0  0.0  0.0  0.0  …  0.0  0.0  0.0  0.0  0.0  0.0  0.0\n",
       " 0.0  0.0  0.0  0.0  0.0  0.0  0.0  0.0     0.0  0.0  0.0  0.0  0.0  0.0  0.0\n",
       " 0.0  0.0  0.0  0.0  0.0  0.0  0.0  0.0     0.0  0.0  0.0  0.0  0.0  0.0  0.0"
      ]
     },
     "execution_count": 25,
     "metadata": {},
     "output_type": "execute_result"
    }
   ],
   "source": [
    "X"
   ]
  },
  {
   "cell_type": "code",
   "execution_count": 21,
   "id": "03f10f0b-7e7b-491c-815a-13756065ceec",
   "metadata": {},
   "outputs": [
    {
     "name": "stdout",
     "output_type": "stream",
     "text": [
      "Total cost of the solution is: 69.82633222669476\n"
     ]
    },
    {
     "data": {
      "text/plain": [
       "69.82633222669476"
      ]
     },
     "execution_count": 21,
     "metadata": {},
     "output_type": "execute_result"
    }
   ],
   "source": [
    "total_cost_alex2 = cost_function(X,Y,Distances_sorted,demand_sorted)"
   ]
  },
  {
   "cell_type": "code",
   "execution_count": 22,
   "id": "954ad070-f609-4e41-bc60-b8d4a95c69b8",
   "metadata": {},
   "outputs": [
    {
     "data": {
      "text/plain": [
       "\"fire_movement_data_alex2.csv\""
      ]
     },
     "execution_count": 22,
     "metadata": {},
     "output_type": "execute_result"
    }
   ],
   "source": [
    "# WRITE MOVEMENTS Y TO A CSV FILE (to handle in Python for visualisation)\n",
    "\n",
    "# Arrays to hold the data for each column\n",
    "group_data = Int[]\n",
    "from_fire_data = Int[]\n",
    "to_fire_data = Int[]\n",
    "day_data = Int[]\n",
    "distance_data = Float64[]\n",
    "\n",
    "# Collect data\n",
    "for t in 1:3, g in 1:n_groups, k1 in 1:n_fires, k2 in 1:n_fires\n",
    "    if Y[g, k1, k2, t] == 1\n",
    "        push!(group_data, g)\n",
    "        push!(from_fire_data, k1)\n",
    "        push!(to_fire_data, k2)\n",
    "        push!(day_data, t)\n",
    "        push!(distance_data, Distances_sorted[k1, k2])\n",
    "    end\n",
    "end\n",
    "\n",
    "# Create the DataFrame from the collected data\n",
    "movement_data_alex2 = DataFrame(Group = group_data, \n",
    "                          From_Fire = from_fire_data, \n",
    "                          To_Fire = to_fire_data, \n",
    "                          Day = day_data, \n",
    "                          Distance = distance_data)\n",
    "\n",
    "# Write to CSV\n",
    "CSV.write(\"fire_movement_data_alex2.csv\", movement_data_alex2)"
   ]
  },
  {
   "cell_type": "code",
   "execution_count": 23,
   "id": "4cc4e501-c014-4f18-be4f-77adade5e063",
   "metadata": {},
   "outputs": [],
   "source": [
    "fire_coords_alex2 = []\n",
    "for (k, coord) in enumerate(grouped_fires_sorted)\n",
    "    push!(fire_coords_alex2,(lon=coord[1,:longitude],lat=coord[1,:latitude]))\n",
    "end"
   ]
  },
  {
   "cell_type": "code",
   "execution_count": 24,
   "id": "2b283d50-ee26-44e8-b5d6-330f75575897",
   "metadata": {},
   "outputs": [
    {
     "data": {
      "text/plain": [
       "1702"
      ]
     },
     "execution_count": 24,
     "metadata": {},
     "output_type": "execute_result"
    }
   ],
   "source": [
    "#using JSON\n",
    "\n",
    "# Assuming Y1 is your variable\n",
    "json_coord_alex2 = JSON.json(fire_coords_alex2)\n",
    "\n",
    "# Write to a file\n",
    "open(\"coord_alex2.json\", \"w\") do f\n",
    "    write(f, json_coord_alex2)\n",
    "end"
   ]
  },
  {
   "cell_type": "markdown",
   "id": "033353cc-0034-4110-acdb-2126a00b5cbb",
   "metadata": {
    "jp-MarkdownHeadingCollapsed": true
   },
   "source": [
    "### First model (too many variables)"
   ]
  },
  {
   "cell_type": "code",
   "execution_count": null,
   "id": "ae7e17f3-e3a9-4403-b1ca-5944a0126615",
   "metadata": {
    "scrolled": true
   },
   "outputs": [],
   "source": [
    "model = Model(Gurobi.Optimizer);\n",
    "@variable(model, X1[i=1:n_fighters, k=1:n_fires, t=1:3], binary = true)\n",
    "\n",
    "@variable(model, Y1[i=1:n_fighters, k1=1:n_fires, k2=1:n_fires, t=2:3], binary = true)\n",
    "\n",
    "# New variables for positive parts of costs\n",
    "@variable(model, pos_cost[k=1:n_fires, t=1:3] >= 0)\n",
    "\n",
    "# Constraints for new variables\n",
    "@constraint(model, pos_cost_con[k=1:n_fires, t=1:3], pos_cost[k, t] >= demand[k] - sum(X1[i,k,t] for i=1:n_fighters))\n",
    "\n",
    "# Adjusted objective function\n",
    "@objective(model, Min, sum(pos_cost[k, t] for k=1:n_fires, t=1:3) +\n",
    "                        sum(Y1[i,k1,k2,t] * Distances[k1,k2] for i=1:n_fighters, k1=1:n_fires, k2=1:n_fires, t=2:3))\n",
    "\n",
    "@constraint(model, constraint_fighters1[t=1:3, i in n_fighters], sum(X1[i,k,t] for k in n_fires) == 1);\n",
    "\n",
    "@constraint(model, constraint_Y1[t=2:3, k1=1:n_fires, k2=1:n_fires, i=1:n_fighters],  X1[i,k1,t-1] +X1[i,k2,t] - 1 <= Y1[i,k1,k2,t]);\n",
    "\n",
    "#@constraint(model, constraint_Y1_day1[t=1, k1=1:n_fires[1], k2=1:n_fires[1], i=1:n_fighters],  assignements[i,k1] +X1[i,k2,t] - 1 <= Y1[i,k1,k2,t]);\n",
    "\n",
    "#@objective(model, Min, sum(sum(demand[1][k] - sum(X1[i,k,t] for i in n_fighters) for k in n_fires[1]) for t=1:3) + \n",
    "#                        sum(sum(sum(sum(Y1[i,k1,k2,t] * Distances[k1,k2] for i in n_fighters) for k1 in n_fires[1]) for k2 in n_fires[1]) for t=2:3));\n",
    "\n",
    "set_optimizer_attribute(model, \"TimeLimit\", 60.0)\n",
    "optimize!(model);"
   ]
  },
  {
   "cell_type": "markdown",
   "id": "29210aaa-5b03-4831-a7ca-41b83de7fc9d",
   "metadata": {
    "jp-MarkdownHeadingCollapsed": true
   },
   "source": [
    "### Plot test, de la merde."
   ]
  },
  {
   "cell_type": "code",
   "execution_count": 42,
   "id": "12b65900-f209-4b23-9678-cdd98b515d6f",
   "metadata": {
    "scrolled": true
   },
   "outputs": [],
   "source": [
    "fire_coords = []\n",
    "for (k, coord) in enumerate(grouped_fires)\n",
    "    push!(fire_coords,(lon=coord[1,:longitude],lat=coord[1,:latitude]))\n",
    "end"
   ]
  },
  {
   "cell_type": "code",
   "execution_count": 73,
   "id": "54eab892-2117-4ae5-b63d-c2c676469a7f",
   "metadata": {
    "scrolled": true
   },
   "outputs": [
    {
     "name": "stdout",
     "output_type": "stream",
     "text": [
      "ok\n"
     ]
    },
    {
     "ename": "LoadError",
     "evalue": "InterruptException:",
     "output_type": "error",
     "traceback": [
      "InterruptException:",
      "",
      "Stacktrace:",
      "  [1] setindex!",
      "    @ ~/.julia/packages/RecipesPipeline/BGM3l/src/utils.jl:54 [inlined]",
      "  [2] setindex!",
      "    @ ~/.julia/packages/Plots/sxUvK/src/args.jl:1778 [inlined]",
      "  [3] update_clims(sp::Plots.Subplot{Plots.PlotlyBackend}, op::Function)",
      "    @ Plots ~/.julia/packages/Plots/sxUvK/src/colorbars.jl:33",
      "  [4] update_clims(sp::Plots.Subplot{Plots.PlotlyBackend})",
      "    @ Plots ~/.julia/packages/Plots/sxUvK/src/colorbars.jl:17",
      "  [5] _update_subplot_colorbars",
      "    @ ~/.julia/packages/Plots/sxUvK/src/colorbars.jl:128 [inlined]",
      "  [6] _update_subplot_args(plt::Plots.Plot{Plots.PlotlyBackend}, sp::Plots.Subplot{Plots.PlotlyBackend}, plotattributes_in::RecipesPipeline.DefaultsDict, subplot_index::Int64, remove_pair::Bool)",
      "    @ Plots ~/.julia/packages/Plots/sxUvK/src/args.jl:1944",
      "  [7] _prepare_subplot(plt::Plots.Plot{Plots.PlotlyBackend}, plotattributes::RecipesPipeline.DefaultsDict)",
      "    @ Plots ~/.julia/packages/Plots/sxUvK/src/pipeline.jl:387",
      "  [8] add_series!(plt::Plots.Plot{Plots.PlotlyBackend}, plotattributes::RecipesPipeline.DefaultsDict)",
      "    @ Plots ~/.julia/packages/Plots/sxUvK/src/pipeline.jl:357",
      "  [9] _process_seriesrecipe(plt::Any, plotattributes::Any)",
      "    @ RecipesPipeline ~/.julia/packages/RecipesPipeline/BGM3l/src/series_recipe.jl:46",
      " [10] _process_seriesrecipes!(plt::Any, kw_list::Any)",
      "    @ RecipesPipeline ~/.julia/packages/RecipesPipeline/BGM3l/src/series_recipe.jl:27",
      " [11] recipe_pipeline!(plt::Any, plotattributes::Any, args::Any)",
      "    @ RecipesPipeline ~/.julia/packages/RecipesPipeline/BGM3l/src/RecipesPipeline.jl:99",
      " [12] _plot!(plt::Plots.Plot, plotattributes::Any, args::Any)",
      "    @ Plots ~/.julia/packages/Plots/sxUvK/src/plot.jl:223",
      " [13] plot!(::Plots.Plot, ::Any, ::Vararg{Any}; kw::Base.Pairs{Symbol, V, Tuple{Vararg{Symbol, N}}, NamedTuple{names, T}} where {V, N, names, T<:Tuple{Vararg{Any, N}}})",
      "    @ Plots ~/.julia/packages/Plots/sxUvK/src/plot.jl:213",
      " [14] plot!(::Any, ::Vararg{Any}; kw::Base.Pairs{Symbol, V, Tuple{Vararg{Symbol, N}}, NamedTuple{names, T}} where {V, N, names, T<:Tuple{Vararg{Any, N}}})",
      "    @ Plots ~/.julia/packages/Plots/sxUvK/src/plot.jl:202",
      " [15] plot!",
      "    @ ~/.julia/packages/Plots/sxUvK/src/plot.jl:194 [inlined]",
      " [16] #scatter!#364",
      "    @ ~/.julia/packages/RecipesBase/BRe07/src/RecipesBase.jl:429 [inlined]",
      " [17] scatter!",
      "    @ ~/.julia/packages/RecipesBase/BRe07/src/RecipesBase.jl:429 [inlined]",
      " [18] plot_fire_movements(fire_coords::Vector{Any}, X::Array{Float64, 3}, Y::JuMP.Containers.DenseAxisArray{Float64, 4, Tuple{Base.OneTo{Int64}, Base.OneTo{Int64}, Base.OneTo{Int64}, UnitRange{Int64}}, Tuple{JuMP.Containers._AxisLookup{Base.OneTo{Int64}}, JuMP.Containers._AxisLookup{Base.OneTo{Int64}}, JuMP.Containers._AxisLookup{Base.OneTo{Int64}}, JuMP.Containers._AxisLookup{Tuple{Int64, Int64}}}}, assignments::Matrix{Float64})",
      "    @ Main ./In[73]:16"
     ]
    }
   ],
   "source": [
    "function plot_fire_movements(fire_coords, X, Y, assignments)\n",
    "    plotly()  # Set the backend to Plotly for interactive plotting\n",
    "    p = plot()\n",
    "\n",
    "    # Plot each fire location\n",
    "    for (k, coord) in enumerate(fire_coords)\n",
    "        #println((k, coord))\n",
    "        scatter!([coord.lon], [coord.lat], label=\"Fire $k\")\n",
    "    end\n",
    "    println(\"ok\")\n",
    "    # Plot initial assignments on day 1\n",
    "    for (g, group_assignments) in enumerate(eachrow(assignments))\n",
    "        for (k, assigned) in enumerate(group_assignments)\n",
    "            if assigned == 1\n",
    "                # Mark the assignment of group g to fire k\n",
    "                scatter!([fire_coords[k].lon], [fire_coords[k].lat], \n",
    "                         label=\"Group $g assigned to Fire $k on Day 1\")\n",
    "            end\n",
    "        end\n",
    "    end\n",
    "    println(\"ok\")\n",
    "    # Plot movements for each day\n",
    "    for t in 2:3\n",
    "        for g in 1:n_groups\n",
    "            for k1 in 1:n_fires\n",
    "                for k2 in 1:n_fires\n",
    "                    #println(g, k1, k2, t)\n",
    "                    if Y[g, k1, k2, t] == 1\n",
    "                        \n",
    "                        # Draw a line representing movement from k1 to k2\n",
    "                        plot!([fire_coords[k1].lon, fire_coords[k2].lon], \n",
    "                              [fire_coords[k1].lat, fire_coords[k2].lat], \n",
    "                              label=\"Day $t Movement\", arrow=true)\n",
    "                        \n",
    "                    end\n",
    "                end\n",
    "            end\n",
    "        end\n",
    "    end\n",
    "    println(\"ok\")\n",
    "    #println(\"a\")\n",
    "    return p\n",
    "end\n",
    "\n",
    "# Call the function with the fire coordinates and X, Y1 matrices\n",
    "p_ = plot_fire_movements(fire_coords, X_current, Y_current, assignements)"
   ]
  },
  {
   "cell_type": "code",
   "execution_count": 22,
   "id": "b3999503-137a-4fcd-8e6f-825a514cf961",
   "metadata": {},
   "outputs": [],
   "source": [
    "fire_demand = sum(demand[k] for k=1:n_fires)/n_fires;"
   ]
  },
  {
   "cell_type": "code",
   "execution_count": 19,
   "id": "ff841e0c-22ca-4d9a-be48-669f21b1f770",
   "metadata": {
    "scrolled": true
   },
   "outputs": [
    {
     "name": "stdout",
     "output_type": "stream",
     "text": [
      "Set parameter Username\n",
      "Academic license - for non-commercial use only - expires 2024-08-22\n",
      "Set parameter TimeLimit to value 60\n",
      "Set parameter TimeLimit to value 60\n",
      "Gurobi Optimizer version 10.0.2 build v10.0.2rc0 (mac64[x86])\n",
      "\n",
      "CPU model: Intel(R) Core(TM) i5-5350U CPU @ 1.80GHz\n",
      "Thread count: 2 physical cores, 4 logical processors, using up to 4 threads\n",
      "\n",
      "Optimize a model with 520653 rows, 535653 columns and 1606653 nonzeros\n",
      "Model fingerprint: 0x0a19ea68\n",
      "Variable types: 153 continuous, 535500 integer (535500 binary)\n",
      "Coefficient statistics:\n",
      "  Matrix range     [1e+00, 1e+00]\n",
      "  Objective range  [1e-09, 1e+00]\n",
      "  Bounds range     [0e+00, 0e+00]\n",
      "  RHS range        [1e+00, 8e+02]\n",
      "Found heuristic solution: objective 121110.00016\n",
      "Presolve removed 13953 rows and 13953 columns (presolve time = 5s) ...\n",
      "Presolve removed 515586 rows and 530436 columns (presolve time = 10s) ...\n",
      "Presolve removed 515586 rows and 530436 columns\n",
      "Presolve time: 10.27s\n",
      "Presolved: 5067 rows, 5217 columns, 15345 nonzeros\n",
      "Found heuristic solution: objective 121110.00000\n",
      "Variable types: 0 continuous, 5217 integer (5217 binary)\n",
      "\n",
      "Explored 0 nodes (0 simplex iterations) in 10.70 seconds (4.11 work units)\n",
      "Thread count was 4 (of 4 available processors)\n",
      "\n",
      "Solution count 2: 121110 121110 \n",
      "\n",
      "Optimal solution found (tolerance 1.00e-04)\n",
      "Best objective 1.211100000016e+05, best bound 1.211100000016e+05, gap 0.0000%\n",
      "\n",
      "User-callback calls 505, time in user-callback 0.00 sec\n"
     ]
    }
   ],
   "source": [
    "#n_groups = ceil(Int, n_fighters / 17)  # Calculate the number of groups 1000\n",
    "n_groups = 100\n",
    "model = Model(Gurobi.Optimizer)\n",
    "\n",
    "# Redefine the variables with groups instead of individual fighters\n",
    "@variable(model, X[g=1:n_groups, k=1:n_fires, t=1:3], binary = true)\n",
    "@variable(model, Y[g=1:n_groups, k1=1:n_fires, k2=1:n_fires, t=2:3], binary = true)\n",
    "\n",
    "# New variables for positive parts of costs\n",
    "@variable(model, pos_cost[k=1:n_fires, t=1:3] >= 0)\n",
    "\n",
    "# Constraints for new variables\n",
    "@constraint(model, pos_cost_con[k=1:n_fires[1], t=1:3],\n",
    "            pos_cost[k, t] >= fire_demand - sum(sum(X[g,k,t_] for g=1:n_groups) for t_=1:t))\n",
    "\n",
    "# Adjusted objective function\n",
    "@objective(model, Min, sum(pos_cost[k, t] for k=1:n_fires, t=1:3) + \n",
    "                        0.0000001 * sum(Y[g,k1,k2,t] * Distances[k1,k2] for g=1:n_groups, k1=1:n_fires, k2=1:n_fires, t=2:3))\n",
    "\n",
    "# Adjusted constraints for groups\n",
    "@constraint(model, constraint_fighters1[t=1:3, g=1:n_groups],\n",
    "            sum(1[g,k,t] for k=1:n_fires) == 1)\n",
    "@constraint(model, constraint_Y[t=2:3, k1=1:n_fires, k2=1:n_fires, g=1:n_groups],\n",
    "            X[g,k1,t-1] + X[g,k2,t] - 1 <= Y[g,k1,k2,t])\n",
    "\n",
    "set_optimizer_attribute(model, \"TimeLimit\", 60.0)\n",
    "optimize!(model)"
   ]
  },
  {
   "cell_type": "code",
   "execution_count": 21,
   "id": "a789ac72-7fab-4279-8714-946a88ada20b",
   "metadata": {},
   "outputs": [],
   "source": [
    "X_Alex1 = JuMP.value.(X1);"
   ]
  },
  {
   "cell_type": "markdown",
   "id": "9507390d-b340-4f56-8afd-3c42f2d4d397",
   "metadata": {
    "jp-MarkdownHeadingCollapsed": true
   },
   "source": [
    "### Change approach (use matrix M instead of binary matrices)"
   ]
  },
  {
   "cell_type": "code",
   "execution_count": 72,
   "id": "98406b8c-3d9a-4621-bda1-2ef62e0a22e5",
   "metadata": {},
   "outputs": [
    {
     "name": "stdout",
     "output_type": "stream",
     "text": [
      "Set parameter Username\n",
      "Academic license - for non-commercial use only - expires 2024-08-22\n"
     ]
    },
    {
     "name": "stderr",
     "output_type": "stream",
     "text": [
      "\u001b[33m\u001b[1m┌ \u001b[22m\u001b[39m\u001b[33m\u001b[1mWarning: \u001b[22m\u001b[39mAxis contains one element: 1. If intended, you can safely ignore this warning. To explicitly pass the axis with one element, pass `[1]` instead of `1`.\n",
      "\u001b[33m\u001b[1m└ \u001b[22m\u001b[39m\u001b[90m@ JuMP.Containers ~/.julia/packages/JuMP/D44Aq/src/Containers/DenseAxisArray.jl:186\u001b[39m\n",
      "\u001b[33m\u001b[1m┌ \u001b[22m\u001b[39m\u001b[33m\u001b[1mWarning: \u001b[22m\u001b[39mAxis contains one element: 2. If intended, you can safely ignore this warning. To explicitly pass the axis with one element, pass `[2]` instead of `2`.\n",
      "\u001b[33m\u001b[1m└ \u001b[22m\u001b[39m\u001b[90m@ JuMP.Containers ~/.julia/packages/JuMP/D44Aq/src/Containers/DenseAxisArray.jl:186\u001b[39m\n",
      "\u001b[33m\u001b[1m┌ \u001b[22m\u001b[39m\u001b[33m\u001b[1mWarning: \u001b[22m\u001b[39mAxis contains one element: 3. If intended, you can safely ignore this warning. To explicitly pass the axis with one element, pass `[3]` instead of `3`.\n",
      "\u001b[33m\u001b[1m└ \u001b[22m\u001b[39m\u001b[90m@ JuMP.Containers ~/.julia/packages/JuMP/D44Aq/src/Containers/DenseAxisArray.jl:186\u001b[39m\n"
     ]
    },
    {
     "ename": "LoadError",
     "evalue": "LoadError: At In[72]:20: `@constraint(model, demand_constraints[k = 1:n_fires, t = 1:3], (sum(M[k, :, t - 1]) - sum(M[:, k, t - 1]) <= demand[k] for k = 1:n_fires, t = 2:3))`: Unsupported constraint expression: we don't know how to parse constraints containing expressions of type :generator.\n\nIf you are writing a JuMP extension, implement `parse_constraint_head(::Function, ::Val{:generator}, args...)\nin expression starting at In[72]:20",
     "output_type": "error",
     "traceback": [
      "LoadError: At In[72]:20: `@constraint(model, demand_constraints[k = 1:n_fires, t = 1:3], (sum(M[k, :, t - 1]) - sum(M[:, k, t - 1]) <= demand[k] for k = 1:n_fires, t = 2:3))`: Unsupported constraint expression: we don't know how to parse constraints containing expressions of type :generator.\n\nIf you are writing a JuMP extension, implement `parse_constraint_head(::Function, ::Val{:generator}, args...)\nin expression starting at In[72]:20",
      "",
      "Stacktrace:",
      " [1] error(::String, ::String)",
      "   @ Base ./error.jl:44",
      " [2] _macro_error(macroname::Symbol, args::Tuple{Symbol, Expr, Expr}, source::LineNumberNode, str::String)",
      "   @ JuMP ~/.julia/packages/JuMP/D44Aq/src/macros.jl:2225",
      " [3] (::JuMP.var\"#_error#90\"{Tuple{Symbol, Expr, Expr}, Symbol, LineNumberNode})(str::String)",
      "   @ JuMP ~/.julia/packages/JuMP/D44Aq/src/macros.jl:1250",
      " [4] parse_constraint_head(::JuMP.var\"#_error#90\"{Tuple{Symbol, Expr, Expr}, Symbol, LineNumberNode}, ::Val{:generator}, ::Expr, ::Expr, ::Expr)",
      "   @ JuMP ~/.julia/packages/JuMP/D44Aq/src/macros.jl:464",
      " [5] parse_constraint",
      "   @ ~/.julia/packages/JuMP/D44Aq/src/macros.jl:420 [inlined]",
      " [6] _constraint_macro(args::Tuple{Symbol, Expr, Expr}, macro_name::Symbol, parsefun::typeof(parse_constraint), source::LineNumberNode)",
      "   @ JuMP ~/.julia/packages/JuMP/D44Aq/src/macros.jl:1322",
      " [7] var\"@constraint\"(__source__::LineNumberNode, __module__::Module, args::Vararg{Any})",
      "   @ JuMP ~/.julia/packages/JuMP/D44Aq/src/macros.jl:1440"
     ]
    }
   ],
   "source": [
    "model = Model(Gurobi.Optimizer)\n",
    "\n",
    "# Variable for the number of groups moving from fire k1 to fire k2 between days t and t+1\n",
    "@variable(model, M[k1=1:n_fires, k2=1:n_fires, t=1:2] >= 0, Int)\n",
    "\n",
    "@variable(model, pos_cost[k=1:n_fires, t=1:3] >= 0)\n",
    "\n",
    "@constraint(model, pos_cost_con0[k=1:n_fires, t=1],\n",
    "            pos_cost[k, t] >= demand[k] - initial_allocation[k])\n",
    "\n",
    "@constraint(model, pos_cost_con1[k=1:n_fires, t=2],\n",
    "                pos_cost[k, 2] >= demand[k] - (sum(M[:, k, 1]) - sum(M[k, :, 1])))\n",
    "@constraint(model, pos_cost_con2[k=1:n_fires, t=3],\n",
    "            pos_cost[k, 3] >= demand[k] - (sum(M[:, k, 2]) - sum(M[k, :, 2])))\n",
    "\n",
    "\n",
    "# Constraints based on movements\n",
    "# Example: Constraint to ensure that the number of groups at a fire does not exceed its demand\n",
    "# This is a conceptual example and may need adjustment to fit your specific case\n",
    "@constraint(model, fighters_constraints[t=2:3],\n",
    "    sum(M[k, :, t-1]) - sum(M[:, k, t-1]) <= demand[k] for k in 1:n_fires), t in 2:3)\n",
    "\n",
    "# Objective function (adjust as necessary)\n",
    "@objective(model, Min, sum(pos_cost[k, t] for k=1:n_fires, t=1:3) + \n",
    "                        0.0000001 * sum(M[k1, k2, t] * Distances[k1, k2] for k1=1:n_fires, k2=1:n_fires, t=1:2))\n",
    "\n",
    "# Other necessary constraints based on the movement logic\n",
    "\n",
    "set_optimizer_attribute(model, \"TimeLimit\", 60.0)\n",
    "optimize!(model)"
   ]
  }
 ],
 "metadata": {
  "kernelspec": {
   "display_name": "Julia IAI final 1.9.3",
   "language": "julia",
   "name": "julia-iai-final-1.9"
  },
  "language_info": {
   "file_extension": ".jl",
   "mimetype": "application/julia",
   "name": "julia",
   "version": "1.9.3"
  }
 },
 "nbformat": 4,
 "nbformat_minor": 5
}
