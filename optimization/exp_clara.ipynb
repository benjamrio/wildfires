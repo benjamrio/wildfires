{
 "cells": [
  {
   "cell_type": "markdown",
   "id": "995d7da5-0a8b-44d6-9938-5dc21069d98d",
   "metadata": {},
   "source": [
    "# Project"
   ]
  },
  {
   "cell_type": "code",
   "execution_count": 7,
   "id": "046f3d71-ef4e-497c-8d33-e532632edcd2",
   "metadata": {},
   "outputs": [],
   "source": [
    "using CSV, DataFrames, JuMP, Gurobi, Plots, LinearAlgebra, Dates"
   ]
  },
  {
   "cell_type": "code",
   "execution_count": 8,
   "id": "2ec0218e-d063-4a41-90fa-dd0c384a5999",
   "metadata": {},
   "outputs": [
    {
     "data": {
      "text/html": [
       "<div><div style = \"float: left;\"><span>5×8 DataFrame</span></div><div style = \"clear: both;\"></div></div><div class = \"data-frame\" style = \"overflow-x: scroll;\"><table class = \"data-frame\" style = \"margin-bottom: 6px;\"><thead><tr class = \"header\"><th class = \"rowNumber\" style = \"font-weight: bold; text-align: right;\">Row</th><th style = \"text-align: left;\">report_id</th><th style = \"text-align: left;\">fire_id</th><th style = \"text-align: left;\">area</th><th style = \"text-align: left;\">date</th><th style = \"text-align: left;\">longitude</th><th style = \"text-align: left;\">latitude</th><th style = \"text-align: left;\">from_date</th><th style = \"text-align: left;\">total_crews_sent</th></tr><tr class = \"subheader headerLastRow\"><th class = \"rowNumber\" style = \"font-weight: bold; text-align: right;\"></th><th title = \"Int64\" style = \"text-align: left;\">Int64</th><th title = \"Int64\" style = \"text-align: left;\">Int64</th><th title = \"Union{Missing, Float64}\" style = \"text-align: left;\">Float64?</th><th title = \"String31\" style = \"text-align: left;\">String31</th><th title = \"Union{Missing, Float64}\" style = \"text-align: left;\">Float64?</th><th title = \"Union{Missing, Float64}\" style = \"text-align: left;\">Float64?</th><th title = \"String31\" style = \"text-align: left;\">String31</th><th title = \"Float64\" style = \"text-align: left;\">Float64</th></tr></thead><tbody><tr><td class = \"rowNumber\" style = \"font-weight: bold; text-align: right;\">1</td><td style = \"text-align: right;\">2714023</td><td style = \"text-align: right;\">2714022</td><td style = \"text-align: right;\">150.0</td><td style = \"text-align: left;\">2015-05-06 10:15:00</td><td style = \"text-align: right;\">-71.2519</td><td style = \"text-align: right;\">43.7811</td><td style = \"text-align: left;\">2015-05-05 09:30:00</td><td style = \"text-align: right;\">45.0</td></tr><tr><td class = \"rowNumber\" style = \"font-weight: bold; text-align: right;\">2</td><td style = \"text-align: right;\">2714037</td><td style = \"text-align: right;\">2714022</td><td style = \"text-align: right;\">275.0</td><td style = \"text-align: left;\">2015-05-08 00:30:00</td><td style = \"text-align: right;\">-71.2519</td><td style = \"text-align: right;\">43.7811</td><td style = \"text-align: left;\">2015-05-07 11:00:00</td><td style = \"text-align: right;\">45.0</td></tr><tr><td class = \"rowNumber\" style = \"font-weight: bold; text-align: right;\">3</td><td style = \"text-align: right;\">2714050</td><td style = \"text-align: right;\">2714022</td><td style = \"text-align: right;\">275.0</td><td style = \"text-align: left;\">2015-05-09 00:30:00</td><td style = \"text-align: right;\">-71.2519</td><td style = \"text-align: right;\">43.7811</td><td style = \"text-align: left;\">2015-05-08 11:00:00</td><td style = \"text-align: right;\">33.0</td></tr><tr><td class = \"rowNumber\" style = \"font-weight: bold; text-align: right;\">4</td><td style = \"text-align: right;\">2714066</td><td style = \"text-align: right;\">2714022</td><td style = \"text-align: right;\">275.0</td><td style = \"text-align: left;\">2015-05-10 13:00:00</td><td style = \"text-align: right;\">-71.2519</td><td style = \"text-align: right;\">43.7811</td><td style = \"text-align: left;\">2015-05-09 15:00:00</td><td style = \"text-align: right;\">0.0</td></tr><tr><td class = \"rowNumber\" style = \"font-weight: bold; text-align: right;\">5</td><td style = \"text-align: right;\">2714082</td><td style = \"text-align: right;\">2714081</td><td style = \"text-align: right;\">205.0</td><td style = \"text-align: left;\">2015-05-07 07:15:00</td><td style = \"text-align: right;\">-67.0125</td><td style = \"text-align: right;\">44.7917</td><td style = \"text-align: left;\">2015-05-06 20:30:00</td><td style = \"text-align: right;\">21.0</td></tr></tbody></table></div>"
      ],
      "text/latex": [
       "\\begin{tabular}{r|cccccccc}\n",
       "\t& report\\_id & fire\\_id & area & date & longitude & latitude & from\\_date & \\\\\n",
       "\t\\hline\n",
       "\t& Int64 & Int64 & Float64? & String31 & Float64? & Float64? & String31 & \\\\\n",
       "\t\\hline\n",
       "\t1 & 2714023 & 2714022 & 150.0 & 2015-05-06 10:15:00 & -71.2519 & 43.7811 & 2015-05-05 09:30:00 & $\\dots$ \\\\\n",
       "\t2 & 2714037 & 2714022 & 275.0 & 2015-05-08 00:30:00 & -71.2519 & 43.7811 & 2015-05-07 11:00:00 & $\\dots$ \\\\\n",
       "\t3 & 2714050 & 2714022 & 275.0 & 2015-05-09 00:30:00 & -71.2519 & 43.7811 & 2015-05-08 11:00:00 & $\\dots$ \\\\\n",
       "\t4 & 2714066 & 2714022 & 275.0 & 2015-05-10 13:00:00 & -71.2519 & 43.7811 & 2015-05-09 15:00:00 & $\\dots$ \\\\\n",
       "\t5 & 2714082 & 2714081 & 205.0 & 2015-05-07 07:15:00 & -67.0125 & 44.7917 & 2015-05-06 20:30:00 & $\\dots$ \\\\\n",
       "\\end{tabular}\n"
      ],
      "text/plain": [
       "\u001b[1m5×8 DataFrame\u001b[0m\n",
       "\u001b[1m Row \u001b[0m│\u001b[1m report_id \u001b[0m\u001b[1m fire_id \u001b[0m\u001b[1m area     \u001b[0m\u001b[1m date                \u001b[0m\u001b[1m longitude \u001b[0m\u001b[1m latitude \u001b[0m\u001b[1m\u001b[0m ⋯\n",
       "     │\u001b[90m Int64     \u001b[0m\u001b[90m Int64   \u001b[0m\u001b[90m Float64? \u001b[0m\u001b[90m String31            \u001b[0m\u001b[90m Float64?  \u001b[0m\u001b[90m Float64? \u001b[0m\u001b[90m\u001b[0m ⋯\n",
       "─────┼──────────────────────────────────────────────────────────────────────────\n",
       "   1 │   2714023  2714022     150.0  2015-05-06 10:15:00   -71.2519   43.7811  ⋯\n",
       "   2 │   2714037  2714022     275.0  2015-05-08 00:30:00   -71.2519   43.7811\n",
       "   3 │   2714050  2714022     275.0  2015-05-09 00:30:00   -71.2519   43.7811\n",
       "   4 │   2714066  2714022     275.0  2015-05-10 13:00:00   -71.2519   43.7811\n",
       "   5 │   2714082  2714081     205.0  2015-05-07 07:15:00   -67.0125   44.7917  ⋯\n",
       "\u001b[36m                                                               2 columns omitted\u001b[0m"
      ]
     },
     "execution_count": 8,
     "metadata": {},
     "output_type": "execute_result"
    }
   ],
   "source": [
    "fires = CSV.read(\"data/wildfire_suppression.csv\", DataFrame, header=true);\n",
    "first(fires, 5)"
   ]
  },
  {
   "cell_type": "markdown",
   "id": "d5f6e888-7490-4b6d-a0ab-b7ec33d47366",
   "metadata": {},
   "source": [
    "### Preprocessing"
   ]
  },
  {
   "cell_type": "code",
   "execution_count": 9,
   "id": "755434ae-92ae-4e3b-8b1d-0ce820ffcdda",
   "metadata": {
    "scrolled": true
   },
   "outputs": [
    {
     "name": "stdout",
     "output_type": "stream",
     "text": [
      "Number of rows: 38505\n",
      "Number of rows after removing missing values: 38491\n"
     ]
    }
   ],
   "source": [
    "println(\"Number of rows: \", size(fires, 1))\n",
    "fires = filter(row -> !(\"missing\" in string.(collect(row))), fires);\n",
    "println(\"Number of rows after removing missing values: \", size(fires, 1))\n",
    "\n",
    "dates = []\n",
    "for i in 1:nrow(fires)\n",
    "    res = DateTime.(fires[i, :date][1:10], \"yyyy-mm-dd\")\n",
    "    push!(dates, res)\n",
    "end\n",
    "fires[!, :date] = dates\n",
    "\n",
    "fires_unique = combine(groupby(fires, :fire_id)) do group\n",
    "    idx_max = argmax(group.total_crews_sent)\n",
    "    return group[idx_max, :]\n",
    "end;\n",
    "\n",
    "# Sort by date\n",
    "sorted_fires = sort(fires_unique, :date);"
   ]
  },
  {
   "cell_type": "code",
   "execution_count": 10,
   "id": "bbd17942",
   "metadata": {},
   "outputs": [],
   "source": [
    "sorted_fires = sort(fires_unique, :date);"
   ]
  },
  {
   "cell_type": "code",
   "execution_count": 5,
   "id": "a43c3b33-dfe2-481c-b2d2-b35c938b7103",
   "metadata": {},
   "outputs": [
    {
     "data": {
      "text/html": [
       "<div><div style = \"float: left;\"><span>6×8 DataFrame</span></div><div style = \"clear: both;\"></div></div><div class = \"data-frame\" style = \"overflow-x: scroll;\"><table class = \"data-frame\" style = \"margin-bottom: 6px;\"><thead><tr class = \"header\"><th class = \"rowNumber\" style = \"font-weight: bold; text-align: right;\">Row</th><th style = \"text-align: left;\">fire_id</th><th style = \"text-align: left;\">report_id</th><th style = \"text-align: left;\">area</th><th style = \"text-align: left;\">date</th><th style = \"text-align: left;\">longitude</th><th style = \"text-align: left;\">latitude</th><th style = \"text-align: left;\">from_date</th><th style = \"text-align: left;\">total_crews_sent</th></tr><tr class = \"subheader headerLastRow\"><th class = \"rowNumber\" style = \"font-weight: bold; text-align: right;\"></th><th title = \"Int64\" style = \"text-align: left;\">Int64</th><th title = \"Int64\" style = \"text-align: left;\">Int64</th><th title = \"Union{Missing, Float64}\" style = \"text-align: left;\">Float64?</th><th title = \"Any\" style = \"text-align: left;\">Any</th><th title = \"Union{Missing, Float64}\" style = \"text-align: left;\">Float64?</th><th title = \"Union{Missing, Float64}\" style = \"text-align: left;\">Float64?</th><th title = \"String31\" style = \"text-align: left;\">String31</th><th title = \"Float64\" style = \"text-align: left;\">Float64</th></tr></thead><tbody><tr><td class = \"rowNumber\" style = \"font-weight: bold; text-align: right;\">1</td><td style = \"text-align: right;\">2833110</td><td style = \"text-align: right;\">2833133</td><td style = \"text-align: right;\">1.0</td><td style = \"text-align: left;\">2014-10-20T00:00:00</td><td style = \"text-align: right;\">-89.7867</td><td style = \"text-align: right;\">32.6819</td><td style = \"text-align: left;\">2014-10-20 12:15:00</td><td style = \"text-align: right;\">6.0</td></tr><tr><td class = \"rowNumber\" style = \"font-weight: bold; text-align: right;\">2</td><td style = \"text-align: right;\">2847976</td><td style = \"text-align: right;\">2847977</td><td style = \"text-align: right;\">500.0</td><td style = \"text-align: left;\">2014-12-24T00:00:00</td><td style = \"text-align: right;\">-114.446</td><td style = \"text-align: right;\">32.8555</td><td style = \"text-align: left;\">2014-12-24 01:00:00</td><td style = \"text-align: right;\">48.0</td></tr><tr><td class = \"rowNumber\" style = \"font-weight: bold; text-align: right;\">3</td><td style = \"text-align: right;\">2836444</td><td style = \"text-align: right;\">2836445</td><td style = \"text-align: right;\">4.5</td><td style = \"text-align: left;\">2015-01-06T00:00:00</td><td style = \"text-align: right;\">-86.7161</td><td style = \"text-align: right;\">30.8203</td><td style = \"text-align: left;\">2015-01-06 11:45:00</td><td style = \"text-align: right;\">15.0</td></tr><tr><td class = \"rowNumber\" style = \"font-weight: bold; text-align: right;\">4</td><td style = \"text-align: right;\">2850948</td><td style = \"text-align: right;\">2850982</td><td style = \"text-align: right;\">200.0</td><td style = \"text-align: left;\">2015-01-09T00:00:00</td><td style = \"text-align: right;\">-81.4789</td><td style = \"text-align: right;\">26.0269</td><td style = \"text-align: left;\">2015-01-09 10:00:00</td><td style = \"text-align: right;\">2.0</td></tr><tr><td class = \"rowNumber\" style = \"font-weight: bold; text-align: right;\">5</td><td style = \"text-align: right;\">2851007</td><td style = \"text-align: right;\">2851018</td><td style = \"text-align: right;\">1.0</td><td style = \"text-align: left;\">2015-01-12T00:00:00</td><td style = \"text-align: right;\">-87.0697</td><td style = \"text-align: right;\">30.9225</td><td style = \"text-align: left;\">2015-01-12 14:15:00</td><td style = \"text-align: right;\">1.0</td></tr><tr><td class = \"rowNumber\" style = \"font-weight: bold; text-align: right;\">6</td><td style = \"text-align: right;\">2730867</td><td style = \"text-align: right;\">2730879</td><td style = \"text-align: right;\">2.0</td><td style = \"text-align: left;\">2015-01-17T00:00:00</td><td style = \"text-align: right;\">-89.7192</td><td style = \"text-align: right;\">31.9842</td><td style = \"text-align: left;\">2015-01-17 14:30:00</td><td style = \"text-align: right;\">13.0</td></tr></tbody></table></div>"
      ],
      "text/latex": [
       "\\begin{tabular}{r|cccccccc}\n",
       "\t& fire\\_id & report\\_id & area & date & longitude & latitude & from\\_date & \\\\\n",
       "\t\\hline\n",
       "\t& Int64 & Int64 & Float64? & Any & Float64? & Float64? & String31 & \\\\\n",
       "\t\\hline\n",
       "\t1 & 2833110 & 2833133 & 1.0 & 2014-10-20T00:00:00 & -89.7867 & 32.6819 & 2014-10-20 12:15:00 & $\\dots$ \\\\\n",
       "\t2 & 2847976 & 2847977 & 500.0 & 2014-12-24T00:00:00 & -114.446 & 32.8555 & 2014-12-24 01:00:00 & $\\dots$ \\\\\n",
       "\t3 & 2836444 & 2836445 & 4.5 & 2015-01-06T00:00:00 & -86.7161 & 30.8203 & 2015-01-06 11:45:00 & $\\dots$ \\\\\n",
       "\t4 & 2850948 & 2850982 & 200.0 & 2015-01-09T00:00:00 & -81.4789 & 26.0269 & 2015-01-09 10:00:00 & $\\dots$ \\\\\n",
       "\t5 & 2851007 & 2851018 & 1.0 & 2015-01-12T00:00:00 & -87.0697 & 30.9225 & 2015-01-12 14:15:00 & $\\dots$ \\\\\n",
       "\t6 & 2730867 & 2730879 & 2.0 & 2015-01-17T00:00:00 & -89.7192 & 31.9842 & 2015-01-17 14:30:00 & $\\dots$ \\\\\n",
       "\\end{tabular}\n"
      ],
      "text/plain": [
       "\u001b[1m6×8 DataFrame\u001b[0m\n",
       "\u001b[1m Row \u001b[0m│\u001b[1m fire_id \u001b[0m\u001b[1m report_id \u001b[0m\u001b[1m area     \u001b[0m\u001b[1m date                \u001b[0m\u001b[1m longitude \u001b[0m\u001b[1m latitude \u001b[0m\u001b[1m\u001b[0m ⋯\n",
       "     │\u001b[90m Int64   \u001b[0m\u001b[90m Int64     \u001b[0m\u001b[90m Float64? \u001b[0m\u001b[90m Any                 \u001b[0m\u001b[90m Float64?  \u001b[0m\u001b[90m Float64? \u001b[0m\u001b[90m\u001b[0m ⋯\n",
       "─────┼──────────────────────────────────────────────────────────────────────────\n",
       "   1 │ 2833110    2833133       1.0  2014-10-20T00:00:00   -89.7867   32.6819  ⋯\n",
       "   2 │ 2847976    2847977     500.0  2014-12-24T00:00:00  -114.446    32.8555\n",
       "   3 │ 2836444    2836445       4.5  2015-01-06T00:00:00   -86.7161   30.8203\n",
       "   4 │ 2850948    2850982     200.0  2015-01-09T00:00:00   -81.4789   26.0269\n",
       "   5 │ 2851007    2851018       1.0  2015-01-12T00:00:00   -87.0697   30.9225  ⋯\n",
       "   6 │ 2730867    2730879       2.0  2015-01-17T00:00:00   -89.7192   31.9842\n",
       "\u001b[36m                                                               2 columns omitted\u001b[0m"
      ]
     },
     "execution_count": 5,
     "metadata": {},
     "output_type": "execute_result"
    }
   ],
   "source": [
    "fires_df = deepcopy(sorted_fires)\n",
    "first(fires_df, 6)"
   ]
  },
  {
   "cell_type": "code",
   "execution_count": null,
   "id": "5a9e46d6-2667-4ea9-8f9f-7d3f40d6d6cb",
   "metadata": {},
   "outputs": [],
   "source": [
    "day = 2015-08-01"
   ]
  },
  {
   "cell_type": "code",
   "execution_count": 6,
   "id": "b510b070-f604-4723-a6bd-594410616c2b",
   "metadata": {},
   "outputs": [],
   "source": [
    "Fires = Matrix(fires_df);\n",
    "n_fires = 1:nrow(fires_df);\n",
    "Surfaces = fires_df[:, :area];\n"
   ]
  },
  {
   "cell_type": "markdown",
   "id": "c297abb3-8ffe-4690-87ab-64801a7ce553",
   "metadata": {},
   "source": [
    "### Distance feature"
   ]
  },
  {
   "cell_type": "code",
   "execution_count": 12,
   "id": "cd272e31-dda3-4b4a-a9a9-19cdb1606dff",
   "metadata": {
    "scrolled": true
   },
   "outputs": [
    {
     "data": {
      "text/plain": [
       "5892×5892 Matrix{Float64}:\n",
       "  0.0       24.6595   3.59084  10.6446   …  11.1891    8.01214    6.27449\n",
       " 24.6595     0.0     27.8041   33.6665      15.4125   18.1237    19.8254\n",
       "  3.59084   27.8041   0.0       7.09962     13.4905   11.6023     9.8601\n",
       " 10.6446    33.6665   7.09962   0.0         18.4828   18.6033    16.9114\n",
       "  3.23689   27.444    0.36809   7.43128     13.1694   11.2459     9.50983\n",
       "  0.701035  24.7418   3.22071  10.1681   …  10.9676    8.43817    6.75195\n",
       " 11.6924    34.7385   8.12938   1.08922     19.5299   19.6667    17.9643\n",
       "  5.34969   19.8794   8.92409  15.8796       8.74839   2.74344    1.44226\n",
       "  3.18041   21.8901   6.76854  13.7823       9.64945   4.83478    3.14342\n",
       "  3.17966   21.8931   6.76792  13.7822       9.65391   4.83529    3.14305\n",
       "  ⋮                                      ⋱             ⋮         \n",
       "  7.46794   18.5118  11.0579   18.0586       9.2725    0.545039   1.35618\n",
       "  6.25792   18.8302   9.79606  16.6682       8.03603   2.22005    1.76538\n",
       "  2.24908   25.9862   1.82392   8.52859  …  11.7161   10.0764     8.4104\n",
       "  0.163871  24.8159   3.48393  10.5533      11.3511    8.12481    6.37634\n",
       "  9.96737   33.6335   6.37665   1.563       18.6447   17.9789    16.2313\n",
       " 10.4036    14.8994  13.8997   20.6348       7.70267   3.26546    4.92741\n",
       " 11.1891    15.4125  13.4905   18.4828       0.0       9.38413    9.79643\n",
       "  8.01214   18.1237  11.6023   18.6033   …   9.38413   0.0        1.85154\n",
       "  6.27449   19.8254   9.8601   16.9114       9.79643   1.85154    0.0"
      ]
     },
     "metadata": {},
     "output_type": "display_data"
    }
   ],
   "source": [
    "# Calculate Euclidian distance\n",
    "function euclidean_distance(lat1, lon1, lat2, lon2)\n",
    "    return sqrt((lat2 - lat1)^2 + (lon2 - lon1)^2)\n",
    "end\n",
    "\n",
    "# Calculate the Haversine distance\n",
    "function haversine_distance(lat1, lon1, lat2, lon2)\n",
    "    R = 6371.0 # Earth radius in kilometers\n",
    "    dLat = deg2rad(lat2 - lat1)\n",
    "    dLon = deg2rad(lon2 - lon1)\n",
    "    lat1 = deg2rad(lat1)\n",
    "    lat2 = deg2rad(lat2)\n",
    "\n",
    "    a = sin(dLat/2)^2 + cos(lat1) * cos(lat2) * sin(dLon/2)^2\n",
    "    c = 2 * atan2(sqrt(a), sqrt(1 - a))\n",
    "\n",
    "    return R * c\n",
    "end\n",
    "\n",
    "# Returns distance matrix of distances between fires\n",
    "function distance_matrix(df, euclidian=1)\n",
    "    n = nrow(df)\n",
    "    dist_matrix = zeros(n, n)\n",
    "    for i in 1:n\n",
    "        for j in (i+1):n\n",
    "            if euclidian == 1\n",
    "                dist = euclidean_distance(df[i, :latitude], df[i, :longitude], df[j, :latitude], df[j, :longitude])\n",
    "            else\n",
    "                dist = haversine_distance(df[i, :latitude], df[i, :longitude], df[j, :latitude], df[j, :longitude])\n",
    "            end\n",
    "            dist_matrix[i, j] = dist\n",
    "            dist_matrix[j, i] = dist\n",
    "        end\n",
    "    end\n",
    "    return dist_matrix\n",
    "end;\n",
    "\n",
    "Distances = distance_matrix(fires_df)"
   ]
  },
  {
   "cell_type": "markdown",
   "id": "d2fe7e24-a708-45ac-be4c-06f828e13ecd",
   "metadata": {},
   "source": [
    "### First model"
   ]
  },
  {
   "cell_type": "code",
   "execution_count": 13,
   "id": "0a63dd98-a2c2-42d9-bc0c-c182f5e3ceff",
   "metadata": {},
   "outputs": [
    {
     "data": {
      "text/plain": [
       "1:3"
      ]
     },
     "metadata": {},
     "output_type": "display_data"
    }
   ],
   "source": [
    "n_fighters = 1:10 # to change\n",
    "n_days = 1:3"
   ]
  },
  {
   "cell_type": "code",
   "execution_count": null,
   "id": "bdd1a53f",
   "metadata": {},
   "outputs": [],
   "source": [
    "a routing model that ignores disparities in fire sizes; and"
   ]
  },
  {
   "cell_type": "code",
   "execution_count": 14,
   "id": "e3de7e81-5d71-476a-98fb-e63d2e699aa1",
   "metadata": {},
   "outputs": [],
   "source": [
    "model = Model(Gurobi.Optimizer);\n",
    "\n",
    "@variable(model, X[n_fighters, n_days, n_fires], binary = true);\n",
    "@variable(model, Y[n_fighters, n_days, n_fires, n_fires], binary = true);\n",
    "\n",
    "@objective(model, Min, sum(sum(sum(X[i,t,k] * Surfaces[k] for i in n_fighters) for k in n_fires) for t in n_days) +\n",
    "                        sum(sum(sum(sum(Y[i,t,k1,k2] * Distances[k1,k2] for i in n_fighters) for k1 in n_fires) for k2 in n_fires) for t in n_days));\n",
    "\n",
    "\n",
    "@constraint(model, constraint_fighters1[i in n_fighters], sum(X[i,t,k] for k in n_fires) <= 1);\n",
    "@constraint(model, constraint_resources1[k in n_fires], sum(X1[i,t,k] for i in n_fighters) <= Gamma(S[k]));\n",
    "@constraint(model, constraint_resources2[k in n_fires], sum(X2[i,t,k] for i in n_fighters) <= Gamma(S[k]));\n",
    "@constraint(model, constraint_resources3[k in n_fires], sum(X3[i,t,k] for i in n_fighters) <= Gamma(S[k]));\n",
    "\n",
    "optimize!(model);"
   ]
  }
 ],
 "metadata": {
  "kernelspec": {
   "display_name": "Julia IAI final 1.9.3",
   "language": "julia",
   "name": "julia-iai-final-1.9"
  },
  "language_info": {
   "file_extension": ".jl",
   "mimetype": "application/julia",
   "name": "julia",
   "version": "1.9.3"
  }
 },
 "nbformat": 4,
 "nbformat_minor": 5
}
